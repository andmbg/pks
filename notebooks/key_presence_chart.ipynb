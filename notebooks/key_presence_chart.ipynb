{
 "cells": [
  {
   "cell_type": "code",
   "execution_count": 1,
   "metadata": {},
   "outputs": [],
   "source": [
    "import sys\n",
    "\n",
    "import pandas as pd\n",
    "import numpy as np\n",
    "import plotly.express as px\n",
    "import plotly.graph_objects as go\n",
    "from plotly.subplots import make_subplots\n",
    "\n",
    "sys.path.append(\"..\")\n",
    "\n",
    "from src.data.import_data_pks import import_data, hierarchize_data\n",
    "from src.visualization.visualize import get_colormap"
   ]
  },
  {
   "cell_type": "code",
   "execution_count": 2,
   "metadata": {},
   "outputs": [],
   "source": [
    "# import_data(indirpath=\"../data/raw/\",\n",
    "#                 outfilepath=\"../data/interim/pks.parquet\")\n",
    "\n",
    "data = pd.read_parquet(\"../data/interim/pks.parquet\")\n",
    "data = hierarchize_data(data)\n",
    "\n",
    "allkeys = data.key.drop_duplicates()\n",
    "allyears = data.year.unique()\n",
    "\n",
    "colormap = {}\n",
    "for key in allkeys:\n",
    "    randcol = list(np.random.randint(127, 255, 3))\n",
    "    colormap[key] = f\"#{randcol[0]:02x}{randcol[1]:02x}{randcol[2]:02x}\"\n",
    "\n",
    "colormap[None] = None"
   ]
  },
  {
   "cell_type": "code",
   "execution_count": 4,
   "metadata": {},
   "outputs": [],
   "source": [
    "dplot = data.loc[data.year == 2013]\n",
    "dplot = dplot.loc[dplot.key.isin(dplot.key.drop_duplicates().sample(10))]"
   ]
  },
  {
   "cell_type": "code",
   "execution_count": 5,
   "metadata": {},
   "outputs": [],
   "source": [
    "d22 = data.loc[data.year == 2022]"
   ]
  }
 ],
 "metadata": {
  "kernelspec": {
   "display_name": "venv",
   "language": "python",
   "name": "python3"
  },
  "language_info": {
   "codemirror_mode": {
    "name": "ipython",
    "version": 3
   },
   "file_extension": ".py",
   "mimetype": "text/x-python",
   "name": "python",
   "nbconvert_exporter": "python",
   "pygments_lexer": "ipython3",
   "version": "3.10.12"
  }
 },
 "nbformat": 4,
 "nbformat_minor": 2
}
