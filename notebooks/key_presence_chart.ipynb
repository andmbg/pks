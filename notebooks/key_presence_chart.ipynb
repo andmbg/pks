{
 "cells": [
  {
   "cell_type": "code",
   "execution_count": 1,
   "metadata": {},
   "outputs": [],
   "source": [
    "import sys\n",
    "import re\n",
    "\n",
    "import pandas as pd\n",
    "import numpy as np\n",
    "import plotly.express as px\n",
    "import plotly.graph_objects as go\n",
    "from plotly.subplots import make_subplots\n",
    "\n",
    "sys.path.append(\"..\")\n",
    "\n",
    "from src.data.import_data_pks import import_data, hierarchize_data\n",
    "from src.visualization.visualize import get_colormap, get_keypicker, get_existence_chart"
   ]
  },
  {
   "cell_type": "code",
   "execution_count": 2,
   "metadata": {},
   "outputs": [],
   "source": [
    "def get_df_colors(year=2022):\n",
    "    df = data_bund_hr.loc[data_bund_hr.year==year]\n",
    "    colors = {k: grp.color.iloc[0] for k, grp in df.groupby(\"key\")}\n",
    "    return df, colors"
   ]
  },
  {
   "cell_type": "code",
   "execution_count": 4,
   "metadata": {},
   "outputs": [],
   "source": [
    "data_raw = pd.read_parquet(\"../data/processed/pks.parquet\")\n",
    "data_bund = data_raw.loc[data_raw.state == \"Bund\"]\n",
    "data_bund_hr_all = hierarchize_data(data_bund)"
   ]
  },
  {
   "cell_type": "code",
   "execution_count": 6,
   "metadata": {},
   "outputs": [
    {
     "data": {
      "text/html": [
       "<div>\n",
       "<style scoped>\n",
       "    .dataframe tbody tr th:only-of-type {\n",
       "        vertical-align: middle;\n",
       "    }\n",
       "\n",
       "    .dataframe tbody tr th {\n",
       "        vertical-align: top;\n",
       "    }\n",
       "\n",
       "    .dataframe thead th {\n",
       "        text-align: right;\n",
       "    }\n",
       "</style>\n",
       "<table border=\"1\" class=\"dataframe\">\n",
       "  <thead>\n",
       "    <tr style=\"text-align: right;\">\n",
       "      <th></th>\n",
       "      <th>key</th>\n",
       "      <th>year</th>\n",
       "      <th>state</th>\n",
       "      <th>label</th>\n",
       "      <th>index</th>\n",
       "      <th>count</th>\n",
       "      <th>freq</th>\n",
       "      <th>attempts</th>\n",
       "      <th>clearance</th>\n",
       "      <th>label_change</th>\n",
       "      <th>color</th>\n",
       "      <th>level</th>\n",
       "      <th>parent</th>\n",
       "    </tr>\n",
       "  </thead>\n",
       "  <tbody>\n",
       "    <tr>\n",
       "      <th>5446</th>\n",
       "      <td>621110</td>\n",
       "      <td>2018</td>\n",
       "      <td>Bund</td>\n",
       "      <td>Widerstand gegen Vollstreckungsbeamte und glei...</td>\n",
       "      <td>10216</td>\n",
       "      <td>21556</td>\n",
       "      <td>26.036222</td>\n",
       "      <td>0</td>\n",
       "      <td>21390</td>\n",
       "      <td>True</td>\n",
       "      <td>#00bfb6</td>\n",
       "      <td>5</td>\n",
       "      <td>621100</td>\n",
       "    </tr>\n",
       "    <tr>\n",
       "      <th>5447</th>\n",
       "      <td>621110</td>\n",
       "      <td>2019</td>\n",
       "      <td>Bund</td>\n",
       "      <td>Widerstand gegen Vollstreckungsbeamte und glei...</td>\n",
       "      <td>10200</td>\n",
       "      <td>21207</td>\n",
       "      <td>25.544689</td>\n",
       "      <td>0</td>\n",
       "      <td>20954</td>\n",
       "      <td>False</td>\n",
       "      <td>#00bfb6</td>\n",
       "      <td>5</td>\n",
       "      <td>621100</td>\n",
       "    </tr>\n",
       "    <tr>\n",
       "      <th>5448</th>\n",
       "      <td>621110</td>\n",
       "      <td>2020</td>\n",
       "      <td>Bund</td>\n",
       "      <td>Widerstand gegen Vollstreckungsbeamte und glei...</td>\n",
       "      <td>10216</td>\n",
       "      <td>20963</td>\n",
       "      <td>25.205999</td>\n",
       "      <td>0</td>\n",
       "      <td>20763</td>\n",
       "      <td>False</td>\n",
       "      <td>#00bfb6</td>\n",
       "      <td>5</td>\n",
       "      <td>621100</td>\n",
       "    </tr>\n",
       "    <tr>\n",
       "      <th>5449</th>\n",
       "      <td>621110</td>\n",
       "      <td>2021</td>\n",
       "      <td>Bund</td>\n",
       "      <td>Widerstand gegen Vollstreckungsbeamte und glei...</td>\n",
       "      <td>10199</td>\n",
       "      <td>21146</td>\n",
       "      <td>25.429610</td>\n",
       "      <td>0</td>\n",
       "      <td>20911</td>\n",
       "      <td>False</td>\n",
       "      <td>#00bfb6</td>\n",
       "      <td>5</td>\n",
       "      <td>621100</td>\n",
       "    </tr>\n",
       "    <tr>\n",
       "      <th>5450</th>\n",
       "      <td>621120</td>\n",
       "      <td>2018</td>\n",
       "      <td>Bund</td>\n",
       "      <td>Tätlicher Angriff auf Vollstreckungsbeamte und...</td>\n",
       "      <td>10233</td>\n",
       "      <td>11704</td>\n",
       "      <td>14.136572</td>\n",
       "      <td>0</td>\n",
       "      <td>11538</td>\n",
       "      <td>True</td>\n",
       "      <td>#bf0008</td>\n",
       "      <td>5</td>\n",
       "      <td>621100</td>\n",
       "    </tr>\n",
       "    <tr>\n",
       "      <th>5451</th>\n",
       "      <td>621120</td>\n",
       "      <td>2019</td>\n",
       "      <td>Bund</td>\n",
       "      <td>Tätlicher Angriff auf Vollstreckungsbeamte und...</td>\n",
       "      <td>10217</td>\n",
       "      <td>14919</td>\n",
       "      <td>17.970539</td>\n",
       "      <td>0</td>\n",
       "      <td>14626</td>\n",
       "      <td>False</td>\n",
       "      <td>#bf0008</td>\n",
       "      <td>5</td>\n",
       "      <td>621100</td>\n",
       "    </tr>\n",
       "    <tr>\n",
       "      <th>5452</th>\n",
       "      <td>621120</td>\n",
       "      <td>2020</td>\n",
       "      <td>Bund</td>\n",
       "      <td>Tätlicher Angriff auf Vollstreckungsbeamte und...</td>\n",
       "      <td>10233</td>\n",
       "      <td>15797</td>\n",
       "      <td>18.994379</td>\n",
       "      <td>0</td>\n",
       "      <td>15525</td>\n",
       "      <td>False</td>\n",
       "      <td>#bf0008</td>\n",
       "      <td>5</td>\n",
       "      <td>621100</td>\n",
       "    </tr>\n",
       "    <tr>\n",
       "      <th>5453</th>\n",
       "      <td>621120</td>\n",
       "      <td>2021</td>\n",
       "      <td>Bund</td>\n",
       "      <td>Tätlicher Angriff auf Vollstreckungsbeamte und...</td>\n",
       "      <td>10216</td>\n",
       "      <td>16787</td>\n",
       "      <td>20.187594</td>\n",
       "      <td>0</td>\n",
       "      <td>16411</td>\n",
       "      <td>False</td>\n",
       "      <td>#bf0008</td>\n",
       "      <td>5</td>\n",
       "      <td>621100</td>\n",
       "    </tr>\n",
       "  </tbody>\n",
       "</table>\n",
       "</div>"
      ],
      "text/plain": [
       "         key  year state                                              label  \\\n",
       "5446  621110  2018  Bund  Widerstand gegen Vollstreckungsbeamte und glei...   \n",
       "5447  621110  2019  Bund  Widerstand gegen Vollstreckungsbeamte und glei...   \n",
       "5448  621110  2020  Bund  Widerstand gegen Vollstreckungsbeamte und glei...   \n",
       "5449  621110  2021  Bund  Widerstand gegen Vollstreckungsbeamte und glei...   \n",
       "5450  621120  2018  Bund  Tätlicher Angriff auf Vollstreckungsbeamte und...   \n",
       "5451  621120  2019  Bund  Tätlicher Angriff auf Vollstreckungsbeamte und...   \n",
       "5452  621120  2020  Bund  Tätlicher Angriff auf Vollstreckungsbeamte und...   \n",
       "5453  621120  2021  Bund  Tätlicher Angriff auf Vollstreckungsbeamte und...   \n",
       "\n",
       "      index  count       freq  attempts  clearance  label_change    color  \\\n",
       "5446  10216  21556  26.036222         0      21390          True  #00bfb6   \n",
       "5447  10200  21207  25.544689         0      20954         False  #00bfb6   \n",
       "5448  10216  20963  25.205999         0      20763         False  #00bfb6   \n",
       "5449  10199  21146  25.429610         0      20911         False  #00bfb6   \n",
       "5450  10233  11704  14.136572         0      11538          True  #bf0008   \n",
       "5451  10217  14919  17.970539         0      14626         False  #bf0008   \n",
       "5452  10233  15797  18.994379         0      15525         False  #bf0008   \n",
       "5453  10216  16787  20.187594         0      16411         False  #bf0008   \n",
       "\n",
       "     level  parent  \n",
       "5446     5  621100  \n",
       "5447     5  621100  \n",
       "5448     5  621100  \n",
       "5449     5  621100  \n",
       "5450     5  621100  \n",
       "5451     5  621100  \n",
       "5452     5  621100  \n",
       "5453     5  621100  "
      ]
     },
     "execution_count": 6,
     "metadata": {},
     "output_type": "execute_result"
    }
   ],
   "source": [
    "data_bund_hr_all.loc[data_bund_hr_all.parent.eq(\"621100\")]"
   ]
  },
  {
   "cell_type": "code",
   "execution_count": 8,
   "metadata": {},
   "outputs": [
    {
     "data": {
      "text/html": [
       "<div>\n",
       "<style scoped>\n",
       "    .dataframe tbody tr th:only-of-type {\n",
       "        vertical-align: middle;\n",
       "    }\n",
       "\n",
       "    .dataframe tbody tr th {\n",
       "        vertical-align: top;\n",
       "    }\n",
       "\n",
       "    .dataframe thead th {\n",
       "        text-align: right;\n",
       "    }\n",
       "</style>\n",
       "<table border=\"1\" class=\"dataframe\">\n",
       "  <thead>\n",
       "    <tr style=\"text-align: right;\">\n",
       "      <th></th>\n",
       "      <th>key</th>\n",
       "      <th>year</th>\n",
       "      <th>state</th>\n",
       "      <th>label</th>\n",
       "      <th>index</th>\n",
       "      <th>count</th>\n",
       "      <th>freq</th>\n",
       "      <th>attempts</th>\n",
       "      <th>clearance</th>\n",
       "      <th>label_change</th>\n",
       "      <th>color</th>\n",
       "      <th>level</th>\n",
       "      <th>parent</th>\n",
       "    </tr>\n",
       "  </thead>\n",
       "  <tbody>\n",
       "    <tr>\n",
       "      <th>5432</th>\n",
       "      <td>621050</td>\n",
       "      <td>2013</td>\n",
       "      <td>Bund</td>\n",
       "      <td>Gefangenenmeuterei</td>\n",
       "      <td>7998</td>\n",
       "      <td>10</td>\n",
       "      <td>0.000000</td>\n",
       "      <td>4</td>\n",
       "      <td>8</td>\n",
       "      <td>True</td>\n",
       "      <td>#bf0001</td>\n",
       "      <td>5</td>\n",
       "      <td>553200</td>\n",
       "    </tr>\n",
       "    <tr>\n",
       "      <th>5433</th>\n",
       "      <td>621050</td>\n",
       "      <td>2014</td>\n",
       "      <td>Bund</td>\n",
       "      <td>Gefangenenmeuterei</td>\n",
       "      <td>7978</td>\n",
       "      <td>7</td>\n",
       "      <td>0.000000</td>\n",
       "      <td>2</td>\n",
       "      <td>7</td>\n",
       "      <td>False</td>\n",
       "      <td>#bf0001</td>\n",
       "      <td>5</td>\n",
       "      <td>553200</td>\n",
       "    </tr>\n",
       "    <tr>\n",
       "      <th>5434</th>\n",
       "      <td>621050</td>\n",
       "      <td>2015</td>\n",
       "      <td>Bund</td>\n",
       "      <td>Gefangenenmeuterei</td>\n",
       "      <td>9536</td>\n",
       "      <td>26</td>\n",
       "      <td>0.032021</td>\n",
       "      <td>3</td>\n",
       "      <td>26</td>\n",
       "      <td>False</td>\n",
       "      <td>#bf0001</td>\n",
       "      <td>5</td>\n",
       "      <td>553200</td>\n",
       "    </tr>\n",
       "    <tr>\n",
       "      <th>5435</th>\n",
       "      <td>621050</td>\n",
       "      <td>2016</td>\n",
       "      <td>Bund</td>\n",
       "      <td>Gefangenenmeuterei</td>\n",
       "      <td>9825</td>\n",
       "      <td>18</td>\n",
       "      <td>0.021904</td>\n",
       "      <td>7</td>\n",
       "      <td>17</td>\n",
       "      <td>False</td>\n",
       "      <td>#bf0001</td>\n",
       "      <td>5</td>\n",
       "      <td>553200</td>\n",
       "    </tr>\n",
       "    <tr>\n",
       "      <th>5436</th>\n",
       "      <td>621050</td>\n",
       "      <td>2017</td>\n",
       "      <td>Bund</td>\n",
       "      <td>Gefangenenmeuterei</td>\n",
       "      <td>10301</td>\n",
       "      <td>9</td>\n",
       "      <td>0.010906</td>\n",
       "      <td>2</td>\n",
       "      <td>9</td>\n",
       "      <td>False</td>\n",
       "      <td>#bf0001</td>\n",
       "      <td>5</td>\n",
       "      <td>553200</td>\n",
       "    </tr>\n",
       "    <tr>\n",
       "      <th>5437</th>\n",
       "      <td>621050</td>\n",
       "      <td>2018</td>\n",
       "      <td>Bund</td>\n",
       "      <td>Gefangenenmeuterei</td>\n",
       "      <td>10182</td>\n",
       "      <td>12</td>\n",
       "      <td>0.014494</td>\n",
       "      <td>3</td>\n",
       "      <td>11</td>\n",
       "      <td>False</td>\n",
       "      <td>#bf0001</td>\n",
       "      <td>5</td>\n",
       "      <td>553200</td>\n",
       "    </tr>\n",
       "    <tr>\n",
       "      <th>5438</th>\n",
       "      <td>621050</td>\n",
       "      <td>2019</td>\n",
       "      <td>Bund</td>\n",
       "      <td>Gefangenenmeuterei</td>\n",
       "      <td>10166</td>\n",
       "      <td>13</td>\n",
       "      <td>0.015659</td>\n",
       "      <td>5</td>\n",
       "      <td>12</td>\n",
       "      <td>False</td>\n",
       "      <td>#bf0001</td>\n",
       "      <td>5</td>\n",
       "      <td>553200</td>\n",
       "    </tr>\n",
       "    <tr>\n",
       "      <th>5439</th>\n",
       "      <td>621050</td>\n",
       "      <td>2020</td>\n",
       "      <td>Bund</td>\n",
       "      <td>Gefangenenmeuterei</td>\n",
       "      <td>10182</td>\n",
       "      <td>7</td>\n",
       "      <td>0.008417</td>\n",
       "      <td>2</td>\n",
       "      <td>7</td>\n",
       "      <td>False</td>\n",
       "      <td>#bf0001</td>\n",
       "      <td>5</td>\n",
       "      <td>553200</td>\n",
       "    </tr>\n",
       "    <tr>\n",
       "      <th>5440</th>\n",
       "      <td>621050</td>\n",
       "      <td>2021</td>\n",
       "      <td>Bund</td>\n",
       "      <td>Gefangenenmeuterei</td>\n",
       "      <td>10165</td>\n",
       "      <td>6</td>\n",
       "      <td>0.007215</td>\n",
       "      <td>4</td>\n",
       "      <td>6</td>\n",
       "      <td>False</td>\n",
       "      <td>#bf0001</td>\n",
       "      <td>5</td>\n",
       "      <td>553200</td>\n",
       "    </tr>\n",
       "  </tbody>\n",
       "</table>\n",
       "</div>"
      ],
      "text/plain": [
       "         key  year state               label  index  count      freq  \\\n",
       "5432  621050  2013  Bund  Gefangenenmeuterei   7998     10  0.000000   \n",
       "5433  621050  2014  Bund  Gefangenenmeuterei   7978      7  0.000000   \n",
       "5434  621050  2015  Bund  Gefangenenmeuterei   9536     26  0.032021   \n",
       "5435  621050  2016  Bund  Gefangenenmeuterei   9825     18  0.021904   \n",
       "5436  621050  2017  Bund  Gefangenenmeuterei  10301      9  0.010906   \n",
       "5437  621050  2018  Bund  Gefangenenmeuterei  10182     12  0.014494   \n",
       "5438  621050  2019  Bund  Gefangenenmeuterei  10166     13  0.015659   \n",
       "5439  621050  2020  Bund  Gefangenenmeuterei  10182      7  0.008417   \n",
       "5440  621050  2021  Bund  Gefangenenmeuterei  10165      6  0.007215   \n",
       "\n",
       "      attempts  clearance  label_change    color level  parent  \n",
       "5432         4          8          True  #bf0001     5  553200  \n",
       "5433         2          7         False  #bf0001     5  553200  \n",
       "5434         3         26         False  #bf0001     5  553200  \n",
       "5435         7         17         False  #bf0001     5  553200  \n",
       "5436         2          9         False  #bf0001     5  553200  \n",
       "5437         3         11         False  #bf0001     5  553200  \n",
       "5438         5         12         False  #bf0001     5  553200  \n",
       "5439         2          7         False  #bf0001     5  553200  \n",
       "5440         4          6         False  #bf0001     5  553200  "
      ]
     },
     "execution_count": 8,
     "metadata": {},
     "output_type": "execute_result"
    }
   ],
   "source": [
    "data_bund_hr_all.loc[data_bund_hr_all.key.eq(\"621050\")]"
   ]
  },
  {
   "cell_type": "code",
   "execution_count": 4,
   "metadata": {},
   "outputs": [],
   "source": [
    "# df_selection[\"label_change\"] = False\n",
    "# df_plot = pd.DataFrame()\n",
    "# for i, grp in df_selection.groupby([\"key\", \"label\"]):\n",
    "#     this = grp.copy()\n",
    "#     this.loc[this.index[0], \"label_change\"] = True\n",
    "#     df_plot = pd.concat([df_plot, this])\n",
    "# df_plot = data_bund_hr.loc[data_bund_hr.key.isin(selected_keys)]\n",
    "# df_plot= df_plot.assign(label = df_plot.apply(lambda row: row[\"label\"] if row[\"label_change\"] else \"\", axis=1))\n",
    "# df_plot = df_plot.sort_values([\"key\", \"year\"])\n",
    "# df_plot"
   ]
  },
  {
   "cell_type": "code",
   "execution_count": 5,
   "metadata": {},
   "outputs": [],
   "source": [
    "colormap = {k: grp.color.iloc[0] for k, grp in data_bund_hr.groupby(\"key\")}"
   ]
  },
  {
   "cell_type": "code",
   "execution_count": 6,
   "metadata": {},
   "outputs": [],
   "source": [
    "hovertemplate = \"\"\"\n",
    "                <b>%{customdata[1]}</b><br><br>\n",
    "                %{customdata[0]}<br>\n",
    "                <extra>%{customdata[2]} Fälle</extra>\"\"\"\n",
    "hovertemplate = re.sub(r\"([ ]{2,})|(\\n)\", \"\", hovertemplate)"
   ]
  },
  {
   "cell_type": "code",
   "execution_count": 7,
   "metadata": {},
   "outputs": [],
   "source": [
    "selected_keys = ['621000', '621010', '621020', '621021', '621029', '621030', '621040', '621050', '621100', '621110', '621120']"
   ]
  },
  {
   "cell_type": "code",
   "execution_count": 10,
   "metadata": {},
   "outputs": [
    {
     "data": {
      "text/html": [
       "<div>\n",
       "<style scoped>\n",
       "    .dataframe tbody tr th:only-of-type {\n",
       "        vertical-align: middle;\n",
       "    }\n",
       "\n",
       "    .dataframe tbody tr th {\n",
       "        vertical-align: top;\n",
       "    }\n",
       "\n",
       "    .dataframe thead th {\n",
       "        text-align: right;\n",
       "    }\n",
       "</style>\n",
       "<table border=\"1\" class=\"dataframe\">\n",
       "  <thead>\n",
       "    <tr style=\"text-align: right;\">\n",
       "      <th></th>\n",
       "      <th>key</th>\n",
       "      <th>year</th>\n",
       "      <th>state</th>\n",
       "      <th>label</th>\n",
       "      <th>index</th>\n",
       "      <th>count</th>\n",
       "      <th>freq</th>\n",
       "      <th>attempts</th>\n",
       "      <th>clearance</th>\n",
       "      <th>label_change</th>\n",
       "      <th>color</th>\n",
       "      <th>level</th>\n",
       "      <th>parent</th>\n",
       "    </tr>\n",
       "  </thead>\n",
       "  <tbody>\n",
       "    <tr>\n",
       "      <th>0</th>\n",
       "      <td>****00</td>\n",
       "      <td>2013</td>\n",
       "      <td>Bund</td>\n",
       "      <td>Diebstahl insgesamt und zwar:</td>\n",
       "      <td>5615</td>\n",
       "      <td>2382743</td>\n",
       "      <td>2959.100000</td>\n",
       "      <td>276151</td>\n",
       "      <td>655176</td>\n",
       "      <td>True</td>\n",
       "      <td>#bf5f00</td>\n",
       "      <td>1</td>\n",
       "      <td>None</td>\n",
       "    </tr>\n",
       "    <tr>\n",
       "      <th>1</th>\n",
       "      <td>***100</td>\n",
       "      <td>2013</td>\n",
       "      <td>Bund</td>\n",
       "      <td>Diebstahl insgesamt von Kraftwagen einschl. un...</td>\n",
       "      <td>5632</td>\n",
       "      <td>37427</td>\n",
       "      <td>46.500000</td>\n",
       "      <td>7528</td>\n",
       "      <td>9759</td>\n",
       "      <td>True</td>\n",
       "      <td>#bf4c00</td>\n",
       "      <td>4</td>\n",
       "      <td>****00</td>\n",
       "    </tr>\n",
       "    <tr>\n",
       "      <th>2</th>\n",
       "      <td>***200</td>\n",
       "      <td>2013</td>\n",
       "      <td>Bund</td>\n",
       "      <td>Diebstahl insgesamt von Mopeds und Krafträdern...</td>\n",
       "      <td>5649</td>\n",
       "      <td>28299</td>\n",
       "      <td>35.100000</td>\n",
       "      <td>3545</td>\n",
       "      <td>6090</td>\n",
       "      <td>True</td>\n",
       "      <td>#bf9800</td>\n",
       "      <td>4</td>\n",
       "      <td>****00</td>\n",
       "    </tr>\n",
       "    <tr>\n",
       "      <th>3</th>\n",
       "      <td>***300</td>\n",
       "      <td>2013</td>\n",
       "      <td>Bund</td>\n",
       "      <td>Diebstahl insgesamt von Fahrrädern einschl. un...</td>\n",
       "      <td>5666</td>\n",
       "      <td>316857</td>\n",
       "      <td>393.500000</td>\n",
       "      <td>5108</td>\n",
       "      <td>30543</td>\n",
       "      <td>True</td>\n",
       "      <td>#99bf00</td>\n",
       "      <td>4</td>\n",
       "      <td>****00</td>\n",
       "    </tr>\n",
       "    <tr>\n",
       "      <th>4</th>\n",
       "      <td>***400</td>\n",
       "      <td>2013</td>\n",
       "      <td>Bund</td>\n",
       "      <td>Diebstahl insgesamt von Schusswaffen</td>\n",
       "      <td>5683</td>\n",
       "      <td>816</td>\n",
       "      <td>1.000000</td>\n",
       "      <td>66</td>\n",
       "      <td>292</td>\n",
       "      <td>True</td>\n",
       "      <td>#4cbf00</td>\n",
       "      <td>4</td>\n",
       "      <td>****00</td>\n",
       "    </tr>\n",
       "    <tr>\n",
       "      <th>...</th>\n",
       "      <td>...</td>\n",
       "      <td>...</td>\n",
       "      <td>...</td>\n",
       "      <td>...</td>\n",
       "      <td>...</td>\n",
       "      <td>...</td>\n",
       "      <td>...</td>\n",
       "      <td>...</td>\n",
       "      <td>...</td>\n",
       "      <td>...</td>\n",
       "      <td>...</td>\n",
       "      <td>...</td>\n",
       "      <td>...</td>\n",
       "    </tr>\n",
       "    <tr>\n",
       "      <th>410</th>\n",
       "      <td>898100</td>\n",
       "      <td>2022</td>\n",
       "      <td>Bund</td>\n",
       "      <td>Umweltstraftaten gemäß 29. Abschnitt des StGB</td>\n",
       "      <td>7003</td>\n",
       "      <td>9611</td>\n",
       "      <td>11.546531</td>\n",
       "      <td>180</td>\n",
       "      <td>5088</td>\n",
       "      <td>False</td>\n",
       "      <td>#02bf00</td>\n",
       "      <td>4</td>\n",
       "      <td>898000</td>\n",
       "    </tr>\n",
       "    <tr>\n",
       "      <th>411</th>\n",
       "      <td>898200</td>\n",
       "      <td>2022</td>\n",
       "      <td>Bund</td>\n",
       "      <td>Sonstige Straftaten nach dem StGB mit Umweltre...</td>\n",
       "      <td>7020</td>\n",
       "      <td>4711</td>\n",
       "      <td>5.659734</td>\n",
       "      <td>177</td>\n",
       "      <td>2575</td>\n",
       "      <td>False</td>\n",
       "      <td>#0002bf</td>\n",
       "      <td>4</td>\n",
       "      <td>898000</td>\n",
       "    </tr>\n",
       "    <tr>\n",
       "      <th>412</th>\n",
       "      <td>898300</td>\n",
       "      <td>2022</td>\n",
       "      <td>Bund</td>\n",
       "      <td>Straftaten auf dem Umwelt- und Verbraucherschu...</td>\n",
       "      <td>7037</td>\n",
       "      <td>17474</td>\n",
       "      <td>20.993037</td>\n",
       "      <td>164</td>\n",
       "      <td>12908</td>\n",
       "      <td>False</td>\n",
       "      <td>#bf0002</td>\n",
       "      <td>4</td>\n",
       "      <td>898000</td>\n",
       "    </tr>\n",
       "    <tr>\n",
       "      <th>413</th>\n",
       "      <td>899000</td>\n",
       "      <td>2022</td>\n",
       "      <td>Bund</td>\n",
       "      <td>Straßenkriminalität</td>\n",
       "      <td>7054</td>\n",
       "      <td>1084688</td>\n",
       "      <td>1303.130079</td>\n",
       "      <td>62057</td>\n",
       "      <td>202857</td>\n",
       "      <td>False</td>\n",
       "      <td>#bf0000</td>\n",
       "      <td>3</td>\n",
       "      <td>740000</td>\n",
       "    </tr>\n",
       "    <tr>\n",
       "      <th>414</th>\n",
       "      <td>899500</td>\n",
       "      <td>2022</td>\n",
       "      <td>Bund</td>\n",
       "      <td>Sachbeschädigung durch Graffiti insgesamt</td>\n",
       "      <td>7071</td>\n",
       "      <td>101658</td>\n",
       "      <td>122.130601</td>\n",
       "      <td>270</td>\n",
       "      <td>15485</td>\n",
       "      <td>False</td>\n",
       "      <td>#bf0006</td>\n",
       "      <td>4</td>\n",
       "      <td>899000</td>\n",
       "    </tr>\n",
       "  </tbody>\n",
       "</table>\n",
       "<p>9965 rows × 13 columns</p>\n",
       "</div>"
      ],
      "text/plain": [
       "        key  year state                                              label  \\\n",
       "0    ****00  2013  Bund                      Diebstahl insgesamt und zwar:   \n",
       "1    ***100  2013  Bund  Diebstahl insgesamt von Kraftwagen einschl. un...   \n",
       "2    ***200  2013  Bund  Diebstahl insgesamt von Mopeds und Krafträdern...   \n",
       "3    ***300  2013  Bund  Diebstahl insgesamt von Fahrrädern einschl. un...   \n",
       "4    ***400  2013  Bund               Diebstahl insgesamt von Schusswaffen   \n",
       "..      ...   ...   ...                                                ...   \n",
       "410  898100  2022  Bund      Umweltstraftaten gemäß 29. Abschnitt des StGB   \n",
       "411  898200  2022  Bund  Sonstige Straftaten nach dem StGB mit Umweltre...   \n",
       "412  898300  2022  Bund  Straftaten auf dem Umwelt- und Verbraucherschu...   \n",
       "413  899000  2022  Bund                                Straßenkriminalität   \n",
       "414  899500  2022  Bund          Sachbeschädigung durch Graffiti insgesamt   \n",
       "\n",
       "     index    count         freq  attempts  clearance  label_change    color  \\\n",
       "0     5615  2382743  2959.100000    276151     655176          True  #bf5f00   \n",
       "1     5632    37427    46.500000      7528       9759          True  #bf4c00   \n",
       "2     5649    28299    35.100000      3545       6090          True  #bf9800   \n",
       "3     5666   316857   393.500000      5108      30543          True  #99bf00   \n",
       "4     5683      816     1.000000        66        292          True  #4cbf00   \n",
       "..     ...      ...          ...       ...        ...           ...      ...   \n",
       "410   7003     9611    11.546531       180       5088         False  #02bf00   \n",
       "411   7020     4711     5.659734       177       2575         False  #0002bf   \n",
       "412   7037    17474    20.993037       164      12908         False  #bf0002   \n",
       "413   7054  1084688  1303.130079     62057     202857         False  #bf0000   \n",
       "414   7071   101658   122.130601       270      15485         False  #bf0006   \n",
       "\n",
       "    level  parent  \n",
       "0       1    None  \n",
       "1       4  ****00  \n",
       "2       4  ****00  \n",
       "3       4  ****00  \n",
       "4       4  ****00  \n",
       "..    ...     ...  \n",
       "410     4  898000  \n",
       "411     4  898000  \n",
       "412     4  898000  \n",
       "413     3  740000  \n",
       "414     4  899000  \n",
       "\n",
       "[9965 rows x 13 columns]"
      ]
     },
     "execution_count": 10,
     "metadata": {},
     "output_type": "execute_result"
    }
   ],
   "source": [
    "data_bund_hr"
   ]
  },
  {
   "cell_type": "code",
   "execution_count": 9,
   "metadata": {},
   "outputs": [
    {
     "data": {
      "application/vnd.plotly.v1+json": {
       "config": {
        "plotlyServerURL": "https://plot.ly"
       },
       "data": [
        {
         "line": {
          "width": 4
         },
         "marker": {
          "color": "#001bbf",
          "size": 12
         },
         "mode": "lines+markers+text",
         "showlegend": false,
         "text": [
          "Widerstand gegen die Staatsgewalt §§ 111, 113, 114, 120, 121 StGB",
          "",
          "",
          "",
          "",
          "Widerstand gegen und tätlicher Angriff auf die Staatsgewalt §§ 111, 113-115, 120, 121 StGB",
          "",
          "",
          "",
          ""
         ],
         "textposition": "top right",
         "type": "scatter",
         "x": [
          2013,
          2014,
          2015,
          2016,
          2017,
          2018,
          2019,
          2020,
          2021,
          2022
         ],
         "y": [
          "621000",
          "621000",
          "621000",
          "621000",
          "621000",
          "621000",
          "621000",
          "621000",
          "621000",
          "621000"
         ]
        },
        {
         "line": {
          "width": 4
         },
         "marker": {
          "color": "#00bf9d",
          "size": 12
         },
         "mode": "lines+markers+text",
         "showlegend": false,
         "text": [
          "Öffentliche Aufforderung zu Straftaten",
          "",
          "",
          "",
          "",
          "",
          "",
          "",
          ""
         ],
         "textposition": "top right",
         "type": "scatter",
         "x": [
          2013,
          2014,
          2015,
          2016,
          2017,
          2018,
          2019,
          2020,
          2021
         ],
         "y": [
          "621010",
          "621010",
          "621010",
          "621010",
          "621010",
          "621010",
          "621010",
          "621010",
          "621010"
         ]
        },
        {
         "line": {
          "width": 4
         },
         "marker": {
          "color": "#4c00bf",
          "size": 12
         },
         "mode": "lines+markers+text",
         "showlegend": false,
         "text": [
          "Widerstand gegen Vollstreckungsbeamte",
          "",
          "",
          "",
          ""
         ],
         "textposition": "top right",
         "type": "scatter",
         "x": [
          2013,
          2014,
          2015,
          2016,
          2017
         ],
         "y": [
          "621020",
          "621020",
          "621020",
          "621020",
          "621020"
         ]
        },
        {
         "line": {
          "width": 4
         },
         "marker": {
          "color": "#00bfb8",
          "size": 12
         },
         "mode": "lines+markers+text",
         "showlegend": false,
         "text": [
          "Widerstand gegen Polizeivollzugsbeamte",
          "",
          "",
          "",
          ""
         ],
         "textposition": "top right",
         "type": "scatter",
         "x": [
          2013,
          2014,
          2015,
          2016,
          2017
         ],
         "y": [
          "621021",
          "621021",
          "621021",
          "621021",
          "621021"
         ]
        },
        {
         "line": {
          "width": 4
         },
         "marker": {
          "color": "#bf0006",
          "size": 12
         },
         "mode": "lines+markers+text",
         "showlegend": false,
         "text": [
          "Widerstand gegen Vollstreckungsbeamte (ohne Polizeivollzugsbeamte)",
          "",
          "",
          "",
          ""
         ],
         "textposition": "top right",
         "type": "scatter",
         "x": [
          2013,
          2014,
          2015,
          2016,
          2017
         ],
         "y": [
          "621029",
          "621029",
          "621029",
          "621029",
          "621029"
         ]
        },
        {
         "line": {
          "width": 4
         },
         "marker": {
          "color": "#2800bf",
          "size": 12
         },
         "mode": "lines+markers+text",
         "showlegend": false,
         "text": [
          "Widerstand gegen gleichgestellte Personen",
          "",
          "",
          "",
          ""
         ],
         "textposition": "top right",
         "type": "scatter",
         "x": [
          2013,
          2014,
          2015,
          2016,
          2017
         ],
         "y": [
          "621030",
          "621030",
          "621030",
          "621030",
          "621030"
         ]
        },
        {
         "line": {
          "width": 4
         },
         "marker": {
          "color": "#bf009f",
          "size": 12
         },
         "mode": "lines+markers+text",
         "showlegend": false,
         "text": [
          "Gefangenenbefreiung",
          "",
          "",
          "",
          "",
          "",
          "",
          "",
          ""
         ],
         "textposition": "top right",
         "type": "scatter",
         "x": [
          2013,
          2014,
          2015,
          2016,
          2017,
          2018,
          2019,
          2020,
          2021
         ],
         "y": [
          "621040",
          "621040",
          "621040",
          "621040",
          "621040",
          "621040",
          "621040",
          "621040",
          "621040"
         ]
        },
        {
         "line": {
          "width": 4
         },
         "marker": {
          "color": "#bf0001",
          "size": 12
         },
         "mode": "lines+markers+text",
         "showlegend": false,
         "text": [
          "Gefangenenmeuterei",
          "",
          "",
          "",
          "",
          "",
          "",
          "",
          ""
         ],
         "textposition": "top right",
         "type": "scatter",
         "x": [
          2013,
          2014,
          2015,
          2016,
          2017,
          2018,
          2019,
          2020,
          2021
         ],
         "y": [
          "621050",
          "621050",
          "621050",
          "621050",
          "621050",
          "621050",
          "621050",
          "621050",
          "621050"
         ]
        },
        {
         "line": {
          "width": 4
         },
         "marker": {
          "color": "#bf0003",
          "size": 12
         },
         "mode": "lines+markers+text",
         "showlegend": false,
         "text": [
          "Widerstand gegen und tätlicher Angriff auf Vollstreckungsbeamte und gleichstehende Personen §§ 113-115 StGB",
          "",
          "",
          "",
          ""
         ],
         "textposition": "top right",
         "type": "scatter",
         "x": [
          2018,
          2019,
          2020,
          2021,
          2022
         ],
         "y": [
          "621100",
          "621100",
          "621100",
          "621100",
          "621100"
         ]
        },
        {
         "line": {
          "width": 4
         },
         "marker": {
          "color": "#00bfb6",
          "size": 12
         },
         "mode": "lines+markers+text",
         "showlegend": false,
         "text": [
          "Widerstand gegen Vollstreckungsbeamte und gleichstehende Personen §§ 113, 115 StGB",
          "",
          "",
          ""
         ],
         "textposition": "top right",
         "type": "scatter",
         "x": [
          2018,
          2019,
          2020,
          2021
         ],
         "y": [
          "621110",
          "621110",
          "621110",
          "621110"
         ]
        },
        {
         "line": {
          "width": 4
         },
         "marker": {
          "color": "#bf0008",
          "size": 12
         },
         "mode": "lines+markers+text",
         "showlegend": false,
         "text": [
          "Tätlicher Angriff auf Vollstreckungsbeamte und gleichstehende Personen §§ 114, 115 StGB",
          "",
          "",
          ""
         ],
         "textposition": "top right",
         "type": "scatter",
         "x": [
          2018,
          2019,
          2020,
          2021
         ],
         "y": [
          "621120",
          "621120",
          "621120",
          "621120"
         ]
        },
        {
         "customdata": [
          [
           "Widerstand gegen die Staatsgewalt §§ 111, 113, 114, 120, 121 StGB",
           2013
          ],
          [
           "Widerstand gegen und tätlicher Angriff auf die Staatsgewalt §§ 111, 113-115, 120, 121 StGB",
           2018
          ],
          [
           "Öffentliche Aufforderung zu Straftaten",
           2013
          ],
          [
           "Widerstand gegen Vollstreckungsbeamte",
           2013
          ],
          [
           "Widerstand gegen Polizeivollzugsbeamte",
           2013
          ],
          [
           "Widerstand gegen Vollstreckungsbeamte (ohne Polizeivollzugsbeamte)",
           2013
          ],
          [
           "Widerstand gegen gleichgestellte Personen",
           2013
          ],
          [
           "Gefangenenbefreiung",
           2013
          ],
          [
           "Gefangenenmeuterei",
           2013
          ],
          [
           "Widerstand gegen und tätlicher Angriff auf Vollstreckungsbeamte und gleichstehende Personen §§ 113-115 StGB",
           2018
          ],
          [
           "Widerstand gegen Vollstreckungsbeamte und gleichstehende Personen §§ 113, 115 StGB",
           2018
          ],
          [
           "Tätlicher Angriff auf Vollstreckungsbeamte und gleichstehende Personen §§ 114, 115 StGB",
           2018
          ]
         ],
         "hovertemplate": "Schlüssel %{y}: %{customdata[0]}",
         "marker": {
          "color": "black",
          "line": {
           "width": 3
          },
          "size": 15,
          "symbol": "circle-open"
         },
         "mode": "markers",
         "showlegend": false,
         "type": "scatter",
         "x": [
          2013,
          2018,
          2013,
          2013,
          2013,
          2013,
          2013,
          2013,
          2013,
          2018,
          2018,
          2018
         ],
         "y": [
          "621000",
          "621000",
          "621010",
          "621020",
          "621021",
          "621029",
          "621030",
          "621040",
          "621050",
          "621100",
          "621110",
          "621120"
         ]
        }
       ],
       "layout": {
        "height": 640,
        "margin": {
         "b": 5,
         "r": 10,
         "t": 10
        },
        "plot_bgcolor": "rgba(0,0,0,0)",
        "template": {
         "data": {
          "bar": [
           {
            "error_x": {
             "color": "#2a3f5f"
            },
            "error_y": {
             "color": "#2a3f5f"
            },
            "marker": {
             "line": {
              "color": "#E5ECF6",
              "width": 0.5
             },
             "pattern": {
              "fillmode": "overlay",
              "size": 10,
              "solidity": 0.2
             }
            },
            "type": "bar"
           }
          ],
          "barpolar": [
           {
            "marker": {
             "line": {
              "color": "#E5ECF6",
              "width": 0.5
             },
             "pattern": {
              "fillmode": "overlay",
              "size": 10,
              "solidity": 0.2
             }
            },
            "type": "barpolar"
           }
          ],
          "carpet": [
           {
            "aaxis": {
             "endlinecolor": "#2a3f5f",
             "gridcolor": "white",
             "linecolor": "white",
             "minorgridcolor": "white",
             "startlinecolor": "#2a3f5f"
            },
            "baxis": {
             "endlinecolor": "#2a3f5f",
             "gridcolor": "white",
             "linecolor": "white",
             "minorgridcolor": "white",
             "startlinecolor": "#2a3f5f"
            },
            "type": "carpet"
           }
          ],
          "choropleth": [
           {
            "colorbar": {
             "outlinewidth": 0,
             "ticks": ""
            },
            "type": "choropleth"
           }
          ],
          "contour": [
           {
            "colorbar": {
             "outlinewidth": 0,
             "ticks": ""
            },
            "colorscale": [
             [
              0,
              "#0d0887"
             ],
             [
              0.1111111111111111,
              "#46039f"
             ],
             [
              0.2222222222222222,
              "#7201a8"
             ],
             [
              0.3333333333333333,
              "#9c179e"
             ],
             [
              0.4444444444444444,
              "#bd3786"
             ],
             [
              0.5555555555555556,
              "#d8576b"
             ],
             [
              0.6666666666666666,
              "#ed7953"
             ],
             [
              0.7777777777777778,
              "#fb9f3a"
             ],
             [
              0.8888888888888888,
              "#fdca26"
             ],
             [
              1,
              "#f0f921"
             ]
            ],
            "type": "contour"
           }
          ],
          "contourcarpet": [
           {
            "colorbar": {
             "outlinewidth": 0,
             "ticks": ""
            },
            "type": "contourcarpet"
           }
          ],
          "heatmap": [
           {
            "colorbar": {
             "outlinewidth": 0,
             "ticks": ""
            },
            "colorscale": [
             [
              0,
              "#0d0887"
             ],
             [
              0.1111111111111111,
              "#46039f"
             ],
             [
              0.2222222222222222,
              "#7201a8"
             ],
             [
              0.3333333333333333,
              "#9c179e"
             ],
             [
              0.4444444444444444,
              "#bd3786"
             ],
             [
              0.5555555555555556,
              "#d8576b"
             ],
             [
              0.6666666666666666,
              "#ed7953"
             ],
             [
              0.7777777777777778,
              "#fb9f3a"
             ],
             [
              0.8888888888888888,
              "#fdca26"
             ],
             [
              1,
              "#f0f921"
             ]
            ],
            "type": "heatmap"
           }
          ],
          "heatmapgl": [
           {
            "colorbar": {
             "outlinewidth": 0,
             "ticks": ""
            },
            "colorscale": [
             [
              0,
              "#0d0887"
             ],
             [
              0.1111111111111111,
              "#46039f"
             ],
             [
              0.2222222222222222,
              "#7201a8"
             ],
             [
              0.3333333333333333,
              "#9c179e"
             ],
             [
              0.4444444444444444,
              "#bd3786"
             ],
             [
              0.5555555555555556,
              "#d8576b"
             ],
             [
              0.6666666666666666,
              "#ed7953"
             ],
             [
              0.7777777777777778,
              "#fb9f3a"
             ],
             [
              0.8888888888888888,
              "#fdca26"
             ],
             [
              1,
              "#f0f921"
             ]
            ],
            "type": "heatmapgl"
           }
          ],
          "histogram": [
           {
            "marker": {
             "pattern": {
              "fillmode": "overlay",
              "size": 10,
              "solidity": 0.2
             }
            },
            "type": "histogram"
           }
          ],
          "histogram2d": [
           {
            "colorbar": {
             "outlinewidth": 0,
             "ticks": ""
            },
            "colorscale": [
             [
              0,
              "#0d0887"
             ],
             [
              0.1111111111111111,
              "#46039f"
             ],
             [
              0.2222222222222222,
              "#7201a8"
             ],
             [
              0.3333333333333333,
              "#9c179e"
             ],
             [
              0.4444444444444444,
              "#bd3786"
             ],
             [
              0.5555555555555556,
              "#d8576b"
             ],
             [
              0.6666666666666666,
              "#ed7953"
             ],
             [
              0.7777777777777778,
              "#fb9f3a"
             ],
             [
              0.8888888888888888,
              "#fdca26"
             ],
             [
              1,
              "#f0f921"
             ]
            ],
            "type": "histogram2d"
           }
          ],
          "histogram2dcontour": [
           {
            "colorbar": {
             "outlinewidth": 0,
             "ticks": ""
            },
            "colorscale": [
             [
              0,
              "#0d0887"
             ],
             [
              0.1111111111111111,
              "#46039f"
             ],
             [
              0.2222222222222222,
              "#7201a8"
             ],
             [
              0.3333333333333333,
              "#9c179e"
             ],
             [
              0.4444444444444444,
              "#bd3786"
             ],
             [
              0.5555555555555556,
              "#d8576b"
             ],
             [
              0.6666666666666666,
              "#ed7953"
             ],
             [
              0.7777777777777778,
              "#fb9f3a"
             ],
             [
              0.8888888888888888,
              "#fdca26"
             ],
             [
              1,
              "#f0f921"
             ]
            ],
            "type": "histogram2dcontour"
           }
          ],
          "mesh3d": [
           {
            "colorbar": {
             "outlinewidth": 0,
             "ticks": ""
            },
            "type": "mesh3d"
           }
          ],
          "parcoords": [
           {
            "line": {
             "colorbar": {
              "outlinewidth": 0,
              "ticks": ""
             }
            },
            "type": "parcoords"
           }
          ],
          "pie": [
           {
            "automargin": true,
            "type": "pie"
           }
          ],
          "scatter": [
           {
            "fillpattern": {
             "fillmode": "overlay",
             "size": 10,
             "solidity": 0.2
            },
            "type": "scatter"
           }
          ],
          "scatter3d": [
           {
            "line": {
             "colorbar": {
              "outlinewidth": 0,
              "ticks": ""
             }
            },
            "marker": {
             "colorbar": {
              "outlinewidth": 0,
              "ticks": ""
             }
            },
            "type": "scatter3d"
           }
          ],
          "scattercarpet": [
           {
            "marker": {
             "colorbar": {
              "outlinewidth": 0,
              "ticks": ""
             }
            },
            "type": "scattercarpet"
           }
          ],
          "scattergeo": [
           {
            "marker": {
             "colorbar": {
              "outlinewidth": 0,
              "ticks": ""
             }
            },
            "type": "scattergeo"
           }
          ],
          "scattergl": [
           {
            "marker": {
             "colorbar": {
              "outlinewidth": 0,
              "ticks": ""
             }
            },
            "type": "scattergl"
           }
          ],
          "scattermapbox": [
           {
            "marker": {
             "colorbar": {
              "outlinewidth": 0,
              "ticks": ""
             }
            },
            "type": "scattermapbox"
           }
          ],
          "scatterpolar": [
           {
            "marker": {
             "colorbar": {
              "outlinewidth": 0,
              "ticks": ""
             }
            },
            "type": "scatterpolar"
           }
          ],
          "scatterpolargl": [
           {
            "marker": {
             "colorbar": {
              "outlinewidth": 0,
              "ticks": ""
             }
            },
            "type": "scatterpolargl"
           }
          ],
          "scatterternary": [
           {
            "marker": {
             "colorbar": {
              "outlinewidth": 0,
              "ticks": ""
             }
            },
            "type": "scatterternary"
           }
          ],
          "surface": [
           {
            "colorbar": {
             "outlinewidth": 0,
             "ticks": ""
            },
            "colorscale": [
             [
              0,
              "#0d0887"
             ],
             [
              0.1111111111111111,
              "#46039f"
             ],
             [
              0.2222222222222222,
              "#7201a8"
             ],
             [
              0.3333333333333333,
              "#9c179e"
             ],
             [
              0.4444444444444444,
              "#bd3786"
             ],
             [
              0.5555555555555556,
              "#d8576b"
             ],
             [
              0.6666666666666666,
              "#ed7953"
             ],
             [
              0.7777777777777778,
              "#fb9f3a"
             ],
             [
              0.8888888888888888,
              "#fdca26"
             ],
             [
              1,
              "#f0f921"
             ]
            ],
            "type": "surface"
           }
          ],
          "table": [
           {
            "cells": {
             "fill": {
              "color": "#EBF0F8"
             },
             "line": {
              "color": "white"
             }
            },
            "header": {
             "fill": {
              "color": "#C8D4E3"
             },
             "line": {
              "color": "white"
             }
            },
            "type": "table"
           }
          ]
         },
         "layout": {
          "annotationdefaults": {
           "arrowcolor": "#2a3f5f",
           "arrowhead": 0,
           "arrowwidth": 1
          },
          "autotypenumbers": "strict",
          "coloraxis": {
           "colorbar": {
            "outlinewidth": 0,
            "ticks": ""
           }
          },
          "colorscale": {
           "diverging": [
            [
             0,
             "#8e0152"
            ],
            [
             0.1,
             "#c51b7d"
            ],
            [
             0.2,
             "#de77ae"
            ],
            [
             0.3,
             "#f1b6da"
            ],
            [
             0.4,
             "#fde0ef"
            ],
            [
             0.5,
             "#f7f7f7"
            ],
            [
             0.6,
             "#e6f5d0"
            ],
            [
             0.7,
             "#b8e186"
            ],
            [
             0.8,
             "#7fbc41"
            ],
            [
             0.9,
             "#4d9221"
            ],
            [
             1,
             "#276419"
            ]
           ],
           "sequential": [
            [
             0,
             "#0d0887"
            ],
            [
             0.1111111111111111,
             "#46039f"
            ],
            [
             0.2222222222222222,
             "#7201a8"
            ],
            [
             0.3333333333333333,
             "#9c179e"
            ],
            [
             0.4444444444444444,
             "#bd3786"
            ],
            [
             0.5555555555555556,
             "#d8576b"
            ],
            [
             0.6666666666666666,
             "#ed7953"
            ],
            [
             0.7777777777777778,
             "#fb9f3a"
            ],
            [
             0.8888888888888888,
             "#fdca26"
            ],
            [
             1,
             "#f0f921"
            ]
           ],
           "sequentialminus": [
            [
             0,
             "#0d0887"
            ],
            [
             0.1111111111111111,
             "#46039f"
            ],
            [
             0.2222222222222222,
             "#7201a8"
            ],
            [
             0.3333333333333333,
             "#9c179e"
            ],
            [
             0.4444444444444444,
             "#bd3786"
            ],
            [
             0.5555555555555556,
             "#d8576b"
            ],
            [
             0.6666666666666666,
             "#ed7953"
            ],
            [
             0.7777777777777778,
             "#fb9f3a"
            ],
            [
             0.8888888888888888,
             "#fdca26"
            ],
            [
             1,
             "#f0f921"
            ]
           ]
          },
          "colorway": [
           "#636efa",
           "#EF553B",
           "#00cc96",
           "#ab63fa",
           "#FFA15A",
           "#19d3f3",
           "#FF6692",
           "#B6E880",
           "#FF97FF",
           "#FECB52"
          ],
          "font": {
           "color": "#2a3f5f"
          },
          "geo": {
           "bgcolor": "white",
           "lakecolor": "white",
           "landcolor": "#E5ECF6",
           "showlakes": true,
           "showland": true,
           "subunitcolor": "white"
          },
          "hoverlabel": {
           "align": "left"
          },
          "hovermode": "closest",
          "mapbox": {
           "style": "light"
          },
          "paper_bgcolor": "white",
          "plot_bgcolor": "#E5ECF6",
          "polar": {
           "angularaxis": {
            "gridcolor": "white",
            "linecolor": "white",
            "ticks": ""
           },
           "bgcolor": "#E5ECF6",
           "radialaxis": {
            "gridcolor": "white",
            "linecolor": "white",
            "ticks": ""
           }
          },
          "scene": {
           "xaxis": {
            "backgroundcolor": "#E5ECF6",
            "gridcolor": "white",
            "gridwidth": 2,
            "linecolor": "white",
            "showbackground": true,
            "ticks": "",
            "zerolinecolor": "white"
           },
           "yaxis": {
            "backgroundcolor": "#E5ECF6",
            "gridcolor": "white",
            "gridwidth": 2,
            "linecolor": "white",
            "showbackground": true,
            "ticks": "",
            "zerolinecolor": "white"
           },
           "zaxis": {
            "backgroundcolor": "#E5ECF6",
            "gridcolor": "white",
            "gridwidth": 2,
            "linecolor": "white",
            "showbackground": true,
            "ticks": "",
            "zerolinecolor": "white"
           }
          },
          "shapedefaults": {
           "line": {
            "color": "#2a3f5f"
           }
          },
          "ternary": {
           "aaxis": {
            "gridcolor": "white",
            "linecolor": "white",
            "ticks": ""
           },
           "baxis": {
            "gridcolor": "white",
            "linecolor": "white",
            "ticks": ""
           },
           "bgcolor": "#E5ECF6",
           "caxis": {
            "gridcolor": "white",
            "linecolor": "white",
            "ticks": ""
           }
          },
          "title": {
           "x": 0.05
          },
          "xaxis": {
           "automargin": true,
           "gridcolor": "white",
           "linecolor": "white",
           "ticks": "",
           "title": {
            "standoff": 15
           },
           "zerolinecolor": "white",
           "zerolinewidth": 2
          },
          "yaxis": {
           "automargin": true,
           "gridcolor": "white",
           "linecolor": "white",
           "ticks": "",
           "title": {
            "standoff": 15
           },
           "zerolinecolor": "white",
           "zerolinewidth": 2
          }
         }
        },
        "xaxis": {
         "type": "category"
        },
        "yaxis": {
         "range": [
          -0.5,
          11
         ]
        }
       }
      }
     },
     "metadata": {},
     "output_type": "display_data"
    }
   ],
   "source": [
    "l = len(selected_keys)\n",
    "fig = get_existence_chart(data_bund_hr, selected_keys, colormap)\n",
    "\n",
    "fig.show()"
   ]
  },
  {
   "cell_type": "code",
   "execution_count": 57,
   "metadata": {},
   "outputs": [
    {
     "data": {
      "text/html": [
       "<div>\n",
       "<style scoped>\n",
       "    .dataframe tbody tr th:only-of-type {\n",
       "        vertical-align: middle;\n",
       "    }\n",
       "\n",
       "    .dataframe tbody tr th {\n",
       "        vertical-align: top;\n",
       "    }\n",
       "\n",
       "    .dataframe thead th {\n",
       "        text-align: right;\n",
       "    }\n",
       "</style>\n",
       "<table border=\"1\" class=\"dataframe\">\n",
       "  <thead>\n",
       "    <tr style=\"text-align: right;\">\n",
       "      <th></th>\n",
       "      <th>key</th>\n",
       "      <th>label</th>\n",
       "      <th>label_change</th>\n",
       "    </tr>\n",
       "  </thead>\n",
       "  <tbody>\n",
       "    <tr>\n",
       "      <th>532</th>\n",
       "      <td>621000</td>\n",
       "      <td>Widerstand gegen die Staatsgewalt §§ 111, 113,...</td>\n",
       "      <td>True</td>\n",
       "    </tr>\n",
       "    <tr>\n",
       "      <th>533</th>\n",
       "      <td>621000</td>\n",
       "      <td></td>\n",
       "      <td>False</td>\n",
       "    </tr>\n",
       "    <tr>\n",
       "      <th>552</th>\n",
       "      <td>621000</td>\n",
       "      <td></td>\n",
       "      <td>False</td>\n",
       "    </tr>\n",
       "    <tr>\n",
       "      <th>569</th>\n",
       "      <td>621000</td>\n",
       "      <td></td>\n",
       "      <td>False</td>\n",
       "    </tr>\n",
       "    <tr>\n",
       "      <th>597</th>\n",
       "      <td>621000</td>\n",
       "      <td></td>\n",
       "      <td>False</td>\n",
       "    </tr>\n",
       "    <tr>\n",
       "      <th>...</th>\n",
       "      <td>...</td>\n",
       "      <td>...</td>\n",
       "      <td>...</td>\n",
       "    </tr>\n",
       "    <tr>\n",
       "      <th>598</th>\n",
       "      <td>621110</td>\n",
       "      <td></td>\n",
       "      <td>False</td>\n",
       "    </tr>\n",
       "    <tr>\n",
       "      <th>600</th>\n",
       "      <td>621120</td>\n",
       "      <td>Tätlicher Angriff auf Vollstreckungsbeamte und...</td>\n",
       "      <td>True</td>\n",
       "    </tr>\n",
       "    <tr>\n",
       "      <th>600</th>\n",
       "      <td>621120</td>\n",
       "      <td></td>\n",
       "      <td>False</td>\n",
       "    </tr>\n",
       "    <tr>\n",
       "      <th>600</th>\n",
       "      <td>621120</td>\n",
       "      <td>Tätlicher Angriff auf Vollstreckungsbeamte und...</td>\n",
       "      <td>True</td>\n",
       "    </tr>\n",
       "    <tr>\n",
       "      <th>599</th>\n",
       "      <td>621120</td>\n",
       "      <td></td>\n",
       "      <td>False</td>\n",
       "    </tr>\n",
       "  </tbody>\n",
       "</table>\n",
       "<p>70 rows × 3 columns</p>\n",
       "</div>"
      ],
      "text/plain": [
       "        key                                              label  label_change\n",
       "532  621000  Widerstand gegen die Staatsgewalt §§ 111, 113,...          True\n",
       "533  621000                                                            False\n",
       "552  621000                                                            False\n",
       "569  621000                                                            False\n",
       "597  621000                                                            False\n",
       "..      ...                                                ...           ...\n",
       "598  621110                                                            False\n",
       "600  621120  Tätlicher Angriff auf Vollstreckungsbeamte und...          True\n",
       "600  621120                                                            False\n",
       "600  621120  Tätlicher Angriff auf Vollstreckungsbeamte und...          True\n",
       "599  621120                                                            False\n",
       "\n",
       "[70 rows x 3 columns]"
      ]
     },
     "execution_count": 57,
     "metadata": {},
     "output_type": "execute_result"
    }
   ],
   "source": [
    "x = df_plot.loc[df_plot.key.isin(mykeys)].drop_duplicates()[[\"key\", \"label\", \"label_change\"]]\n",
    "x"
   ]
  },
  {
   "cell_type": "code",
   "execution_count": 9,
   "metadata": {},
   "outputs": [
    {
     "data": {
      "text/plain": [
       "[98, 'aei']"
      ]
     },
     "execution_count": 9,
     "metadata": {},
     "output_type": "execute_result"
    }
   ],
   "source": [
    "[98, \"aei\"]"
   ]
  }
 ],
 "metadata": {
  "kernelspec": {
   "display_name": "venv",
   "language": "python",
   "name": "python3"
  },
  "language_info": {
   "codemirror_mode": {
    "name": "ipython",
    "version": 3
   },
   "file_extension": ".py",
   "mimetype": "text/x-python",
   "name": "python",
   "nbconvert_exporter": "python",
   "pygments_lexer": "ipython3",
   "version": "3.10.12"
  }
 },
 "nbformat": 4,
 "nbformat_minor": 2
}
