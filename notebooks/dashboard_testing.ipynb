{
 "cells": [
  {
   "cell_type": "code",
   "execution_count": null,
   "metadata": {},
   "outputs": [],
   "source": [
    "import sys\n",
    "import colorsys\n",
    "\n",
    "import pandas as pd\n",
    "import numpy as np\n",
    "import plotly.express as px\n",
    "import plotly.graph_objects as go\n",
    "\n",
    "sys.path.append('..')\n",
    "\n",
    "from src.visualization.visualize import make_df_colormap\n",
    "from src.data.import_data_pks import hierarchize_data"
   ]
  },
  {
   "cell_type": "code",
   "execution_count": null,
   "metadata": {},
   "outputs": [],
   "source": [
    "data = pd.read_parquet(\"../data/processed/pks.parquet\")    \n",
    "colormap = {k: grp.color.iloc[0] for k, grp in data.groupby(\"key\")}"
   ]
  },
  {
   "cell_type": "code",
   "execution_count": null,
   "metadata": {},
   "outputs": [],
   "source": [
    "selected_keys_states = [{\"state\": \"Bund\", \"key\": i} for i in [\"300000\"]]\n",
    "\n",
    "df_ts = pd.concat([\n",
    "        data.loc[(data.state.eq(i[\"state\"])) & (data.key.eq(i[\"key\"]))] for i in selected_keys_states\n",
    "    ])\n",
    "\n",
    "df_ts = df_ts[[\"key\", \"state\", \"year\",\n",
    "                   \"label\", \"count\", \"clearance\", \"color\"]]\n",
    "df_ts[\"unsolved\"] = df_ts[\"count\"] - df_ts[\"clearance\"]\n",
    "df_ts[\"clearance_rate\"] = df_ts.apply(lambda r: r[\"clearance\"] / r[\"count\"] * 100, axis=1)"
   ]
  },
  {
   "cell_type": "code",
   "execution_count": null,
   "metadata": {},
   "outputs": [],
   "source": [
    "df_ts"
   ]
  },
  {
   "cell_type": "code",
   "execution_count": null,
   "metadata": {},
   "outputs": [],
   "source": [
    "data = data.loc[(data.year.eq(2021) & (data.state.eq(\"Bund\")))]\n",
    "data = hierarchize_data(data)\n",
    "\n",
    "fig = px.sunburst(data,\n",
    "                  names='key',\n",
    "                #   values='one',\n",
    "                  parents='parent',\n",
    "                  color=\"key\",\n",
    "                  color_discrete_map=colormap,\n",
    "                  hover_data=['label', 'key', 'count'],\n",
    "                  maxdepth=2,\n",
    "                  height=750,\n",
    "                  width=750)\n",
    "\n",
    "fig.update_layout(margin=dict(t=15, r=15, b=15, l=15))\n",
    "fig.update_coloraxes(showscale=False)"
   ]
  },
  {
   "cell_type": "code",
   "execution_count": null,
   "metadata": {},
   "outputs": [],
   "source": [
    "data = pd.read_parquet(\"../data/processed/pks.parquet\")\n",
    "all_years = data.year.unique()\n",
    "\n"
   ]
  },
  {
   "cell_type": "code",
   "execution_count": null,
   "metadata": {},
   "outputs": [],
   "source": [
    "a = \"3***00\"  # soll kleiner sein\n",
    "b = \"310*00\"\n",
    "\n",
    "\n",
    "def star_lt(x: str, y: str) -> bool:\n",
    "    \"\"\"\n",
    "    Helper: compare keys even when they contain asterisks.\n",
    "    * couns as \"less than zero\".\n",
    "    \"\"\"\n",
    "    # einfach:\n",
    "    try:\n",
    "        if int(x) < int(y):\n",
    "            return True\n",
    "\n",
    "    # Handarbeit:\n",
    "    except ValueError:\n",
    "        testing_range = min(len(x), len(y))\n",
    "\n",
    "        for i in range(testing_range):\n",
    "            if x[i] == y[i]:\n",
    "                continue\n",
    "\n",
    "            if x[i] in \"0123456789\" and y[i] == \"*\":\n",
    "                return False\n",
    "            \n",
    "            if x[i] == \"*\" and y[i] in \"0123456789\":\n",
    "                return True\n",
    "\n",
    "        return False"
   ]
  },
  {
   "cell_type": "code",
   "execution_count": null,
   "metadata": {},
   "outputs": [],
   "source": [
    "star_lt(b, a)"
   ]
  }
 ],
 "metadata": {
  "kernelspec": {
   "display_name": "venv",
   "language": "python",
   "name": "python3"
  },
  "language_info": {
   "codemirror_mode": {
    "name": "ipython",
    "version": 3
   },
   "file_extension": ".py",
   "mimetype": "text/x-python",
   "name": "python",
   "nbconvert_exporter": "python",
   "pygments_lexer": "ipython3",
   "version": "3.10.12"
  },
  "orig_nbformat": 4
 },
 "nbformat": 4,
 "nbformat_minor": 2
}
