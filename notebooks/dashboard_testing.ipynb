{
 "cells": [
  {
   "cell_type": "code",
   "execution_count": 1,
   "metadata": {},
   "outputs": [],
   "source": [
    "import sys\n",
    "import colorsys\n",
    "\n",
    "import pandas as pd\n",
    "import numpy as np\n",
    "import plotly.express as px\n",
    "import plotly.graph_objects as go\n",
    "\n",
    "sys.path.append('../src/')\n",
    "\n",
    "from visualization.visualize import get_colormap\n",
    "from data.import_data_pks import hierarchize_data"
   ]
  },
  {
   "cell_type": "code",
   "execution_count": 9,
   "metadata": {},
   "outputs": [],
   "source": [
    "data = pd.read_parquet(\"../data/interim/pks.parquet\")\n",
    "    \n",
    "data_hr_glob = hierarchize_data(data)\n",
    "global_colormap = get_colormap(data_hr_glob)\n",
    "data_hr_glob[\"color\"] = data_hr_glob.key.apply(lambda key: global_colormap[key])\n",
    "\n",
    "data = data_hr_glob.drop([\"level\", \"parent\"], axis=1)\n",
    "\n",
    "colormap = {k: grp.color.iloc[0] for k, grp in data.groupby(\"key\")}"
   ]
  },
  {
   "cell_type": "code",
   "execution_count": 11,
   "metadata": {},
   "outputs": [
    {
     "data": {
      "application/vnd.plotly.v1+json": {
       "config": {
        "plotlyServerURL": "https://plot.ly"
       },
       "data": [
        {
         "customdata": [
          [
           "Diebstahl insgesamt und zwar:",
           "****00",
           1483566
          ],
          [
           "Diebstahl insgesamt von Kraftwagen einschl. unbefugte Ingebrauchnahme",
           "***100",
           21584
          ],
          [
           "Diebstahl insgesamt von Mopeds und Krafträdern einschl. unbefugte Ingebrauchnahme",
           "***200",
           17588
          ],
          [
           "Diebstahl insgesamt von Fahrrädern einschl. unbefugte Ingebrauchnahme",
           "***300",
           233584
          ],
          [
           "Diebstahl insgesamt von Schusswaffen",
           "***400",
           415
          ],
          [
           "Diebstahl insgesamt von unbaren Zahlungsmitteln",
           "***500",
           75780
          ],
          [
           "Diebstahl insgesamt von/aus Automaten",
           "***700",
           9078
          ],
          [
           "Diebstahl insgesamt von Antiquitäten, Kunst- und sakralen Gegenständen",
           "***800",
           1145
          ],
          [
           "Diebstahl insgesamt in/aus Banken, Sparkassen, Postfilialen und -agenturen und dergleichen",
           "*05*00",
           3790
          ],
          [
           "Diebstahl insgesamt in/aus Dienst-, Büro-, Fabrikations-, Werkstatt- und Lagerräumen",
           "*10*00",
           64654
          ],
          [
           "Diebstahl insgesamt in/aus Gaststätten, Kantinen, Hotels und Pensionen",
           "*15*00",
           15102
          ],
          [
           "Diebstahl insgesamt in/aus Kiosken, Warenhäusern, Verkaufsräumen, Selbstbedienungsläden, Schaufenstern und Schaukästen darunter:",
           "*25*00",
           296839
          ],
          [
           "Ladendiebstahl insgesamt",
           "*26*00",
           256694
          ],
          [
           "Diebstahl insgesamt in/aus Wohnungen",
           "*35*00",
           90091
          ],
          [
           "Diebstahl insgesamt in/aus Boden-, Kellerräumen und Waschküchen",
           "*40*00",
           100490
          ],
          [
           "Diebstahl insgesamt in/aus überwiegend unbezogenen Neu- und Rohbauten und Baustellen",
           "*45*00",
           22773
          ],
          [
           "Diebstahl insgesamt an/aus Kraftfahrzeugen",
           "*50*00",
           208977
          ],
          [
           "Diebstahl insgesamt von Betäubungsmitteln aus Apotheken",
           "*71000",
           90
          ],
          [
           "Diebstahl insgesamt von Betäubungsmitteln aus Arztpraxen",
           "*72000",
           66
          ],
          [
           "Diebstahl insgesamt von Betäubungsmitteln aus Krankenhäusern",
           "*73000",
           350
          ],
          [
           "Diebstahl insgesamt von Betäubungsmitteln bei Herstellern und Großhändlern",
           "*74000",
           40
          ],
          [
           "Diebstahl insgesamt von Rezeptformularen zur Erlangung von Betäubungsmitteln",
           "*75000",
           79
          ],
          [
           "Taschendiebstahl insgesamt",
           "*90*00",
           72903
          ],
          [
           "Straftaten gegen das Leben",
           "000000",
           2980
          ],
          [
           "Mord § 211 StGB",
           "010000",
           643
          ],
          [
           "Sonstiger Mord",
           "010079",
           600
          ],
          [
           "Mord im Zusammenhang mit Raubdelikten",
           "011000",
           32
          ],
          [
           "Mord im Zusammenhang mit Sexualdelikten",
           "012000",
           11
          ],
          [
           "Totschlag und Tötung auf Verlangen §§ 212, 213, 216 StGB",
           "020000",
           1468
          ],
          [
           "Totschlag § 212 StGB",
           "020010",
           1447
          ],
          [
           "Minder schwerer Totschlag § 213 StGB",
           "020020",
           1
          ],
          [
           "Tötung auf Verlangen § 216 StGB",
           "020030",
           20
          ],
          [
           "Fahrlässige Tötung § 222 StGB - nicht i.V.m. Verkehrsunfall -",
           "030000",
           786
          ],
          [
           "Abbruch der Schwangerschaft §§ 218, 218b, 218c, 219a, 219b StGB",
           "040000",
           83
          ],
          [
           "Schwangerschaftsabbruch § 218 StGB",
           "040010",
           80
          ],
          [
           "Schwangerschaftsabbruch ohne ärztliche Feststellung, unrichtige ärztliche Feststellung § 218b StGB",
           "040020",
           3
          ],
          [
           "Ärztliche Pflichtverletzung § 218c StGB",
           "040030",
           0
          ],
          [
           "Werbung für den Abbruch der Schwangerschaft § 219a StGB",
           "040040",
           0
          ],
          [
           "Inverkehrbringen von Mitteln Schwangerschaftsabbruch § 219b StGB",
           "040050",
           0
          ],
          [
           "Geschäftsmäßige Förderung der Selbsttötung",
           "050000",
           0
          ],
          [
           "Straftaten gegen die sexuelle Selbstbestimmung insgesamt",
           "100000",
           106656
          ],
          [
           "Straftaten gegen die sexuelle Selbstbestimmung §§ 174, 174a, 174b, 174c, 177, 178, 184i, 184j StGB",
           "110000",
           29836
          ],
          [
           "Vergewaltigung, sexuelle Nötigung und sexueller Übergriff im besonders schweren Fall einschl. mit Todesfolge §§ 177, 178 StGB",
           "111000",
           9903
          ],
          [
           "Vergewaltigung § 177 Abs. 6, 7, 8 StGB",
           "111700",
           9238
          ],
          [
           "Vergewaltigung § 177 Abs. 6 Nr. 1, 2 StGB (ohne Schlüssel 111730)",
           "111710",
           7656
          ],
          [
           "Vergewaltigung im besonders schweren Fall § 177 Abs. 6 Nr. 1, 2 i. V. m. Abs. 7, 8 StGB",
           "111720",
           518
          ],
          [
           "Vergewaltigung von widerstandsunfähigen Personen (§ 177 Abs. 2 Nr. 1, Abs. 4) gem. § 177 Abs. 6 Nr. 1, 2 StGB",
           "111730",
           1064
          ],
          [
           "Sexueller Übergriff und sexuelle Nötigung im besonders schweren Fall § 177 Abs. 1, 2, 4, 5 i. V. m. Abs. 6 Nr. 2, Abs. 7, 8 StGB",
           "111800",
           663
          ],
          [
           "Sexueller Übergriff im besonders schweren Fall § 177 Abs. 1, 2 (ohne Nr. 1) i. V. m. Abs. 6 Nr. 2, Abs. 7, 8 StGB",
           "111810",
           207
          ],
          [
           "Sexuelle Nötigung im besonders schweren Fall § 177 Abs. 5 i.V.m. Abs. 6 Nr. 2, Abs. 7, 8 StGB",
           "111820",
           335
          ],
          [
           "Sexueller Übergriff an widerstandsunfähigen Personen im besonders schweren Fall § 177 Abs. 2 Nr. 1, Abs. 4 i. V. m. Abs. 6 Nr. 2, Abs. 7, 8 StGB",
           "111830",
           121
          ],
          [
           "Sexueller Übergriff, sexuelle Nötigung und Vergewaltigung mit Todesfolge § 178 StGB",
           "111900",
           2
          ],
          [
           "Sexueller Übergriff und sexuelle Nötigung § 177 Abs. 1, 2, 4, 5, 9 StGB",
           "112100",
           6238
          ],
          [
           "Sexueller Übergriff § 177 Abs. 1, 2 (ohne Nr. 1), 9 StGB",
           "112110",
           2925
          ],
          [
           "Sexuelle Nötigung § 177 Abs. 5, 9 StGB",
           "112120",
           2723
          ],
          [
           "Sexueller Übergriff an widerstandsunfähigen Personen § 177 Abs. 2 Nr. 1, Abs. 4, 9 StGB",
           "112130",
           590
          ],
          [
           "Sexueller Missbrauch von Schutzbefohlenen pp., unter Ausnutzung einer Amtsstellung oder eines Vertrauensverhältnisses §§ 174, 174a-c StGB",
           "113000",
           681
          ],
          [
           "Sexueller Missbrauch von Schutzbefohlenen ab 14 Jahren § 174 StGB",
           "113010",
           483
          ],
          [
           "Sexueller Missbrauch von Gefangenen/Verwahrten usw. ab 14 Jahren § 174a StGB",
           "113020",
           42
          ],
          [
           "Sexueller Missbrauch - Ausnutzung einer Amtsstellung zum Nachteil von Personen ab 14 Jahren § 174b StGB",
           "113030",
           2
          ],
          [
           "Sexueller Missbrauch - Ausnutzung eines Beratungs-/Behandlungs-/Betreuungsverhältnisses zum Nachteil von Personen ab 14 Jahren § 174c StGB",
           "113040",
           154
          ],
          [
           "Sexuelle Belästigung § 184i StGB",
           "114000",
           12998
          ],
          [
           "Straftaten aus Gruppen § 184j StGB",
           "115000",
           16
          ],
          [
           "Sexueller Missbrauch §§ 176, 176a, 176b, 182, 183, 183a StGB",
           "130000",
           24828
          ],
          [
           "Sexueller Missbrauch von Kindern §§ 176, 176a, 176b StGB",
           "131000",
           15507
          ],
          [
           "Sexuelle Handlungen § 176 Abs. 5 StGB",
           "131010",
           187
          ],
          [
           "Sexuelle Handlungen § 176 Abs. 1 und 2 StGB",
           "131100",
           5604
          ],
          [
           "Exhibitionistische/sexuelle Handlungen vor Kindern § 176 Abs. 4 Nr. 1 StGB",
           "131200",
           1331
          ],
          [
           "Sexuelle Handlungen § 176 Abs. 4 Nr. 2 StGB",
           "131300",
           652
          ],
          [
           "Einwirken auf Kinder § 176 Abs. 4 Nr. 3 und 4 StGB",
           "131400",
           4464
          ],
          [
           "Vollzug des Beischlafs mit einem Kind oder Vornahme einer ähnlichen sexuellen Handlung § 176a Abs. 2 Nr. 1 StGB",
           "131500",
           1172
          ],
          [
           "Schwerer sexueller Missbrauch von Kindern zur Herstellung und Verbreitung pornografischer Schriften § 176a Abs. 3 StGB",
           "131600",
           233
          ],
          [
           "Sonstiger schwerer sexueller Missbrauch von Kindern § 176a StGB",
           "131700",
           1863
          ],
          [
           "Sexueller Missbrauch von Kindern mit Todesfolge § 176b StGB",
           "131800",
           1
          ],
          [
           "Exhibitionistische Handlungen und Erregung öffentlichen Ärgernisses §§ 183, 183a StGB",
           "132000",
           8174
          ],
          [
           "Exhibitionistische Handlungen § 183 StGB",
           "132010",
           6862
          ],
          [
           "Erregung öffentlichen Ärgernisses § 183a StGB",
           "132020",
           1312
          ],
          [
           "Sexueller Missbrauch von Jugendlichen § 182 StGB",
           "133000",
           1147
          ],
          [
           "Sexueller Missbrauch von Jugendlichen gegen Entgelt § 182 Abs. 2 StGB",
           "133100",
           344
          ],
          [
           "Sonstiger Sexueller Missbrauch von Jugendlichen § 182 StGB",
           "133700",
           803
          ],
          [
           "Ausnutzen sexueller Neigung §§ 180, 180a, 181a, 184, 184a, 184b, 184c, 184d, 184e, 184f, 184g, 184k StGB",
           "140000",
           51992
          ],
          [
           "Ausübung der verbotenen Prostitution § 184f StGB",
           "140010",
           955
          ],
          [
           "Jugendgefährdende Prostitution § 184g StGB",
           "140020",
           15
          ],
          [
           "Förderung sexueller Handlungen Minderjähriger oder Ausbeuten von Prostituierten §§ 180, 180a StGB",
           "141000",
           160
          ],
          [
           "Förderung sexueller Handlungen Minderjähriger § 180 StGB",
           "141100",
           140
          ],
          [
           "Förderung sexueller Handlungen Minderjähriger durch Vermittlung oder gegen Entgelt § 180 Abs. 1, Nr. 1, Abs. 2 StGB",
           "141110",
           107
          ],
          [
           "Sonstige Förderung sexueller Handlungen Minderjähriger § 180 StGB",
           "141179",
           33
          ],
          [
           "Ausbeuten von Prostituierten § 180a StGB",
           "141200",
           20
          ],
          [
           "Zuhälterei § 181a StGB",
           "142000",
           113
          ],
          [
           "Verbreitung pornografischer Schriften (Erzeugnisse) §§ 184, 184a, 184b, 184c, 184d, 184e StGB",
           "143000",
           50206
          ],
          [
           "Sonstige Verbreitung pornografischer Schriften (Erzeugnisse) § 184 StGB",
           "143010",
           3032
          ],
          [
           "Verbreitung gewalt- oder tierpornografischer Schriften § 184a StGB",
           "143020",
           384
          ],
          [
           "Zugänglichmachen pornografischer Inhalte mittels Rundfunk oder Telemedien",
           "143030",
           35
          ],
          [
           "Veranstaltung und Besuch kinder- und jugendpornografischer Darbietungen § 184e StGB",
           "143040",
           3
          ],
          [
           "Verbreitung pornografischer Schriften (Erzeugnisse) an Personen unter 18 Jahren § 184 Abs. 1 Nr. 1, 2, 5 StGB",
           "143100",
           2476
          ],
          [
           "Verbreitung, Erwerb, Besitz und Herstellung kinderpornografischer Schriften § 184b StGB",
           "143200",
           39171
          ],
          [
           "Verbreitung, Erwerb, Besitz und Herstellung von Kinderpornografie § 184b Abs. 1 StGB",
           "143210",
           19078
          ],
          [
           "Verbreitung von Kinderpornografie § 184b Abs. 1 Nr. 1 StGB",
           "143211",
           16238
          ],
          [
           "Besitzverschaffung für andere von Kinderpornografie § 184b Abs. 1 Nr. 2 StGB",
           "143212",
           2309
          ],
          [
           "Herstellung auch ohne Verbreitungsabsicht von Kinderpornografie mit tatsächlichem Geschehen § 184b Abs. 1 Nr. 3 StGB",
           "143213",
           246
          ],
          [
           "Herstellung mit Verbreitungsabsicht von Kinderpornografie § 184b Abs. 1 Nr. 4 StGB",
           "143214",
           285
          ],
          [
           "Verbreitung und Herstellung von Kinderpornografie gewerbs-/bandenmäßig § 184b Abs. 2 StGB",
           "143220",
           56
          ],
          [
           "Besitz oder sich Verschaffen von Kinderpornografie § 184b Abs. 3 StGB",
           "143230",
           20037
          ],
          [
           "Verbreitung, Erwerb, Besitz und Herstellung jugendpornografischer Schriften § 184c StGB",
           "143500",
           5105
          ],
          [
           "Verbreitung, Erwerb, Besitz und Herstellung von Jugendpornografie § 184c Abs. 1 StGB",
           "143510",
           2451
          ],
          [
           "Verbreitung von Jugendpornografie § 184c Abs. 1 Nr. 1 StGB",
           "143511",
           1911
          ],
          [
           "Besitzverschaffung für andere von Jugendpornografie § 184c Abs. 1 Nr. 2 StGB",
           "143512",
           263
          ],
          [
           "Herstellung auch ohne Verbreitungsabsicht mit tatsächlichem Geschehen von Jugendpornografie § 184c Abs. 1 Nr. 3 StGB",
           "143513",
           125
          ],
          [
           "Herstellung mit Verbreitungsabsicht von Jugendpornografie § 184c Abs. 1 Nr. 4 StGB",
           "143514",
           152
          ],
          [
           "Verbreitung und Herstellung von Jugendpornografie gewerbs-/bandenmäßig § 184c Abs. 2 StGB",
           "143520",
           14
          ],
          [
           "Besitz oder sich Verschaffen von Jugendpornografie § 184c Abs. 3 StGB",
           "143530",
           2640
          ],
          [
           "Verletzung des Intimbereichs durch Bildaufnahmen § 184k StGB",
           "145000",
           543
          ],
          [
           "Rohheitsdelikte und Straftaten gegen die persönliche Freiheit",
           "200000",
           737666
          ],
          [
           "Raub, räuberische Erpressung und räuberischer Angriff auf Kraftfahrer §§ 249-252, 255, 316a StGB",
           "210000",
           30125
          ],
          [
           "Sonstiger Raub § 249 StGB",
           "210010",
           2615
          ],
          [
           "Sonstiger schwerer Raub § 250 StGB",
           "210020",
           816
          ],
          [
           "Sonstiger Raub mit Todesfolge § 251 StGB",
           "210030",
           0
          ],
          [
           "Räuberischer Diebstahl § 252 StGB",
           "210040",
           7101
          ],
          [
           "Sonstige räuberische Erpressung § 255 StGB",
           "210050",
           2342
          ],
          [
           "Raub, räuberische Erpressung auf/gegen Geldinstitute, Postfilialen und -agenturen",
           "211000",
           53
          ],
          [
           "Raub, räuberische Erpressung auf/gegen Geldinstitute (Banken/Sparkassen)",
           "211100",
           28
          ],
          [
           "Raub auf Geldinstitute (Banken/Sparkassen) § 249 StGB",
           "211110",
           1
          ],
          [
           "Schwerer Raub auf Geldinstitute (Banken/Sparkassen) § 250 StGB",
           "211120",
           6
          ],
          [
           "Raub mit Todesfolge auf Geldinstitute (Banken/Sparkassen) § 251 StGB",
           "211130",
           0
          ],
          [
           "Räuberische Erpressung gegen Geldinstitute (Banken/Sparkassen) § 255 StGB",
           "211150",
           21
          ],
          [
           "Raub, räuberische Erpressung auf/gegen Postfilialen und -agenturen",
           "211200",
           25
          ],
          [
           "Raub auf Postfilialen und -agenturen § 249 StGB",
           "211210",
           4
          ],
          [
           "Schwerer Raub auf Postfilialen und -agenturen § 250 StGB",
           "211220",
           14
          ],
          [
           "Raub mit Todesfolge auf Postfilialen und -agenturen § 251 StGB",
           "211230",
           0
          ],
          [
           "Räuberische Erpressung gegen Postfilialen und -agenturen § 255 StGB",
           "211250",
           7
          ],
          [
           "Raub, räuberische Erpressung auf/gegen sonstige Kassenräume und Geschäfte",
           "212000",
           1531
          ],
          [
           "Raub auf sonstige Kassenräume oder Geschäfte § 249 StGB",
           "212010",
           116
          ],
          [
           "Schwerer Raub auf sonstige Kassenräume oder Geschäfte § 250 StGB",
           "212020",
           472
          ],
          [
           "Raub mit Todesfolge auf sonstige Kassenräume oder Geschäfte § 251 StGB",
           "212030",
           0
          ],
          [
           "Räuberische Erpressung gegen sonstige Kassenräume oder Geschäfte § 255 StGB",
           "212050",
           332
          ],
          [
           "Raub, räuberische Erpressung auf/gegen Spielhallen",
           "212100",
           94
          ],
          [
           "Raub auf Spielhallen § 249 StGB",
           "212110",
           16
          ],
          [
           "Schwerer Raub auf Spielhallen § 250 StGB",
           "212120",
           45
          ],
          [
           "Raub mit Todesfolge auf Spielhallen § 251 StGB",
           "212130",
           0
          ],
          [
           "Räuberische Erpressung gegen Spielhallen § 255 StGB",
           "212150",
           33
          ],
          [
           "Raub, räuberische Erpressung auf/gegen Tankstellen",
           "212200",
           517
          ],
          [
           "Raub auf Tankstellen § 249 StGB",
           "212210",
           37
          ],
          [
           "Schwerer Raub auf Tankstellen § 250 StGB",
           "212220",
           277
          ],
          [
           "Raub mit Todesfolge auf Tankstellen § 251 StGB",
           "212230",
           0
          ],
          [
           "Räuberische Erpressung gegen Tankstellen § 255 StGB",
           "212250",
           203
          ],
          [
           "Raub, räuberische Erpressung auf/gegen Geld- und Werttransporte",
           "213000",
           31
          ],
          [
           "Raub, räuberische Erpressung auf/gegen Geld- und Kassenboten",
           "213100",
           30
          ],
          [
           "Raub auf Geld- und Kassenboten § 249 StGB",
           "213110",
           11
          ],
          [
           "Schwerer Raub auf Geld- und Kassenboten § 250 StGB",
           "213120",
           14
          ],
          [
           "Raub mit Todesfolge auf Geld- und Kassenboten § 251 StGB",
           "213130",
           0
          ],
          [
           "Räuberische Erpressung gegen Geld- und Kassenboten § 255 StGB",
           "213150",
           5
          ],
          [
           "Raub, räuberische Erpressung auf/gegen Spezialgeldtransportfahrzeuge",
           "213200",
           1
          ],
          [
           "Raub auf Spezialgeldtransportfahrzeuge § 249 StGB",
           "213210",
           0
          ],
          [
           "Schwerer Raub auf Spezialgeldtransportfahrzeuge § 250 StGB",
           "213220",
           1
          ],
          [
           "Raub mit Todesfolge auf Spezialgeldtransportfahrzeuge § 251 StGB",
           "213230",
           0
          ],
          [
           "Räuberische Erpressung gegen Spezialgeldtransportfahrzeuge § 255 StGB",
           "213250",
           0
          ],
          [
           "Räuberischer Angriff auf Kraftfahrer § 316a StGB",
           "214000",
           120
          ],
          [
           "Räuberischer Angriff auf sonstige Kraftfahrer",
           "214079",
           87
          ],
          [
           "Beraubung von Taxifahrern",
           "214100",
           33
          ],
          [
           "Handtaschenraub",
           "216000",
           802
          ],
          [
           "Handtaschenraub § 249 StGB",
           "216010",
           720
          ],
          [
           "Handtaschenraub § 250 StGB",
           "216020",
           66
          ],
          [
           "Handtaschenraub mit Todesfolge § 251 StGB",
           "216030",
           0
          ],
          [
           "Räuberische Erpressung bei Handtaschenraub § 255 StGB",
           "216050",
           16
          ],
          [
           "Sonstige Raubüberfälle auf Straßen, Wegen oder Plätzen",
           "217000",
           12307
          ],
          [
           "Sonstiger Raub auf Straßen, Wegen oder Plätzen § 249 StGB",
           "217010",
           7094
          ],
          [
           "Sonstiger schwerer Raub auf Straßen, Wegen oder Plätzen § 250 StGB",
           "217020",
           2380
          ],
          [
           "Sonstiger Raub mit Todesfolge auf Straßen, Wegen oder Plätzen § 251 StGB",
           "217030",
           2
          ],
          [
           "Sonstige räuberische Erpressung auf Straßen, Wegen oder Plätzen § 255 StGB",
           "217050",
           2831
          ],
          [
           "Raub zur Erlangung von Betäubungsmitteln",
           "218000",
           129
          ],
          [
           "Raub zur Erlangung von Betäubungsmitteln § 249 StGB",
           "218010",
           44
          ],
          [
           "Schwerer Raub zur Erlangung von Betäubungsmitteln § 250 StGB",
           "218020",
           48
          ],
          [
           "Raub mit Todesfolge zur Erlangung von Betäubungsmitteln § 251 StGB",
           "218030",
           0
          ],
          [
           "Räuberische Erpressung zur Erlangung von Betäubungsmitteln § 255 StGB",
           "218050",
           37
          ],
          [
           "Raubüberfälle in Wohnungen",
           "219000",
           2278
          ],
          [
           "Raub in Wohnungen § 249 StGB",
           "219010",
           976
          ],
          [
           "Schwerer Raub in Wohnungen § 250 StGB",
           "219020",
           673
          ],
          [
           "Raub mit Todesfolge in Wohnungen § 251 StGB",
           "219030",
           0
          ],
          [
           "Räuberische Erpressung in Wohnungen § 255 StGB",
           "219050",
           629
          ],
          [
           "Körperverletzung §§ 223-227, 229, 231 StGB",
           "220000",
           483703
          ],
          [
           "Körperverletzung mit Todesfolge §§ 227, 231 StGB",
           "221000",
           71
          ],
          [
           "Körperverletzung mit Todesfolge § 227 StGB",
           "221010",
           70
          ],
          [
           "Beteiligung an einer Schlägerei mit Todesfolge § 231 StGB",
           "221020",
           1
          ],
          [
           "Gefährliche und schwere Körperverletzung, Verstümmelung weiblicher Genitalien §§ 224, 226, 226a, 231 StGB",
           "222000",
           122341
          ],
          [
           "Sonstige Tatörtlichkeit bei gefährlicher Körperverletzung § 224 StGB",
           "222010",
           70444
          ],
          [
           "Sonstige Tatörtlichkeit bei schwerer Körperverletzung § 226 StGB",
           "222020",
           403
          ],
          [
           "Sonstige Tatörtlichkeit bei Beteiligung an einer Schlägerei ohne Todesfolge § 231 StGB",
           "222030",
           8
          ],
          [
           "Verstümmelung weiblicher Genitalien § 226a StGB",
           "222040",
           4
          ],
          [
           "Gefährliche und schwere Körperverletzung auf Straßen, Wegen oder Plätzen",
           "222100",
           51482
          ],
          [
           "Gefährliche Körperverletzung § 224 StGB auf Straßen, Wegen oder Plätzen",
           "222110",
           51324
          ],
          [
           "Schwere Körperverletzung auf Straßen, Wegen oder Plätzen § 226 StGB",
           "222120",
           142
          ],
          [
           "Beteiligung an einer Schlägerei ohne Todesfolge auf Straßen, Wegen oder Plätzen § 231 StGB",
           "222130",
           16
          ],
          [
           "Misshandlung von Schutzbefohlenen § 225 StGB",
           "223000",
           4806
          ],
          [
           "Misshandlung Schutzbefohlener ab 14 Jahren",
           "223001",
           1207
          ],
          [
           "Misshandlung von Kindern",
           "223100",
           3599
          ],
          [
           "Vorsätzliche einfache Körperverletzung § 223 StGB",
           "224000",
           335900
          ],
          [
           "Fahrlässige Körperverletzung § 229 StGB",
           "225000",
           20585
          ],
          [
           "Straftaten gegen die persönliche Freiheit §§ 232-233a, 234, 235, 236, 237, 238-239b, 240, 241, 316c StGB",
           "230000",
           223838
          ],
          [
           "Menschenraub, Entziehung Minderjähriger, Kinderhandel §§ 234, 235, 236 StGB",
           "231000",
           1493
          ],
          [
           "Menschenraub § 234 StGB",
           "231100",
           4
          ],
          [
           "Entziehung Minderjähriger § 235 StGB",
           "231200",
           1474
          ],
          [
           "Entziehung Minderjähriger gegen Entgelt oder in Bereicherungsabsicht § 235 Abs. 4 Nr. 2 StGB",
           "231210",
           13
          ],
          [
           "Sonstige Entziehung Minderjähriger § 235 StGB",
           "231279",
           1461
          ],
          [
           "Kinderhandel § 236 StGB",
           "231300",
           15
          ],
          [
           "Zwangsheirat, Nachstellung (Stalking), Freiheitsberaubung, Nötigung, Bedrohung §§ 237, 238, 239, 240, 241 StGB",
           "232000",
           221814
          ],
          [
           "Freiheitsberaubung § 239 StGB",
           "232100",
           4994
          ],
          [
           "Nötigung § 240 StGB",
           "232200",
           66601
          ],
          [
           "Nötigung im Straßenverkehr § 240 Abs. 1 StGB",
           "232201",
           31575
          ],
          [
           "Sonstige Nötigung § 240 Abs. 1 und 4 StGB",
           "232279",
           35026
          ],
          [
           "Bedrohung § 241 StGB",
           "232300",
           129682
          ],
          [
           "Nachstellung (Stalking) § 238 StGB",
           "232400",
           20464
          ],
          [
           "Nachstellung (Stalking) § 238, Abs. 1 StGB",
           "232410",
           20298
          ],
          [
           "Nachstellung (Stalking) § 238, Abs. 2 StGB",
           "232420",
           162
          ],
          [
           "Nachstellung (Stalking) § 238, Abs. 3 StGB",
           "232430",
           4
          ],
          [
           "Zwangsheirat § 237 StGB",
           "232500",
           73
          ],
          [
           "Erpresserischer Menschenraub § 239a StGB",
           "233000",
           64
          ],
          [
           "Sonstiger erpresserischer Menschenraub",
           "233079",
           61
          ],
          [
           "Erpresserischer Menschenraub i.V.m. Raubüberfall auf Geldinstitute, Postfilialen und -agenturen",
           "233100",
           1
          ],
          [
           "Erpresserischer Menschenraub i.V.m. Raubüberfall auf sonstige Kassenräume und Geschäfte",
           "233200",
           2
          ],
          [
           "Erpresserischer Menschenraub i.V.m. Raubüberfall auf Geld- und Werttransporte",
           "233300",
           0
          ],
          [
           "Geiselnahme § 239b StGB",
           "234000",
           30
          ],
          [
           "Sonstige Geiselnahme",
           "234079",
           29
          ],
          [
           "Geiselnahme i.V.m. Raubüberfall auf Geldinstitute, Postfilialen und -agenturen",
           "234100",
           0
          ],
          [
           "Geiselnahme i.V.m. Raubüberfall auf sonstige Kassenräume und Geschäfte",
           "234200",
           1
          ],
          [
           "Geiselnahme i.V.m. Raubüberfall auf Geld- und Werttransporte",
           "234300",
           0
          ],
          [
           "Angriff auf den Luft- und Seeverkehr § 316c StGB",
           "235000",
           1
          ],
          [
           "Menschenhandel, Zwangsprostitution, Zwangsarbeit, Ausbeutung der Arbeitskraft und Ausbeutung unter Ausnutzung einer Freiheitsberaubung §§ 232, 232a, 232b, 233, 233a StGB",
           "239000",
           436
          ],
          [
           "Menschenhandel § 232 StGB",
           "239100",
           160
          ],
          [
           "Handel zum Zweck der Ausbeutung bei Ausübung der Prostitution, der Vornahme sexueller Handlungen § 232 Abs. 1 Nr. 1a. Abs. 2 in Bezug auf Abs. 1 Nr. 1a, Abs. 3 Nr. 1 bis 3 in Bezug auf Abs. 1 Nr. 1a, Abs. 4 in Bezug auf Abs. 1 Nr. 1a StGB",
           "239110",
           106
          ],
          [
           "Handel zum Zweck der Ausbeutung durch eine Beschäftigung § 232 StGB Abs. 1, Nr. 1 b); Abs. 2 in Bezug auf Abs. 1 Nr. 1b); Abs. 3 Nr. 1 bis 3 in Bezug auf Abs. 1, Nr. 1b); Abs. 4 in Bezug auf Abs. 1 Nr. 1b) StGB",
           "239120",
           32
          ],
          [
           "Handel zum Zweck der Ausbeutung bei der Ausübung der Bettelei § 232 Abs. 1 Nr. 1 c), Abs. 2 in Bezug auf Abs. 1 Nr. 1 c), Abs. 3 Nr. 1 bis 3 in Bezug auf Abs. 1 Nr. 1c), Abs. 4 in Bezug auf Abs. 1 Nr. 1c) StGB",
           "239130",
           11
          ],
          [
           "Handel zum Zweck der Ausbeutung bei der Begehung von mit Strafe bedrohten Handlungen § 232 StGB Abs. 1 Nr. 1d), Abs. 2 in Bezug auf Abs. 1 Nr. 1d), Abs. 3 Nr. 1 bis 3 in Bezug auf Abs. 1, Nr. 1d), Abs. 4 in Bezug auf Abs. 1 Nr. 1d) StGB",
           "239140",
           8
          ],
          [
           "Handel zum Zweck des Haltens einer Person in Sklaverei, Leibeigenschaft, Schuldknechtschaft o.ä. § 232 Abs. 1 Nr. 2, Abs. 2 in Bezug auf Abs. 1 Nr. 2, Abs. 3 Nr. 1 bis 3 in Bezug auf Abs. 1 Nr. 2, Abs. 4 in Bezug auf Abs. 1 Nr. 2 StGB",
           "239150",
           3
          ],
          [
           "Handel zum Zweck der rechtswidrigen Organentnahme § 232 Abs. 1 Nr. 3, Abs. 2 in Bezug auf Abs. 1 Nr. 3, Abs. 3 Nr. 1 bis 3 in Bezug auf Abs. 1 Nr. 3, Abs. 4 in Bezug auf Abs. 1 Nr. 3 StGB",
           "239160",
           0
          ],
          [
           "Zwangsprostitution § 232a StGB",
           "239200",
           227
          ],
          [
           "Veranlassen zur Aufnahme oder Fortsetzung der Prostitution oder zu sexuellen Handlungen, durch die eine Person ausgebeutet wird § 232a Abs. 1 bis 5 StGB",
           "239210",
           215
          ],
          [
           "Entgeltliche Inanspruchnahme sexueller Handlungen eines Menschenhandelsopfers unter Ausnutzung der Zwangslage oder Hilflosigkeit § 232a Abs. 6 StGB",
           "239220",
           12
          ],
          [
           "Zwangsarbeit § 232b StGB",
           "239300",
           6
          ],
          [
           "Veranlassen zur Aufnahme einer ausbeuterischen Beschäftigung § 232b Abs. 1 Nr. 1, Abs. 2 in Bezug auf Abs. 1 Nr. 1, Abs. 3 Nr. 1, Abs. 4 Nr. 1 StGB",
           "239310",
           4
          ],
          [
           "Veranlassen sich in Sklaverei, Leibeigenschaft, Schuldknechtschaft o.ä. zu begeben § 232b Abs. 1 Nr. 2, Abs. 2 in Bezug auf Abs. 1 Nr. 2, Abs. 3 Nr. 2, Abs. 4 Nr. 2 StGB",
           "239320",
           2
          ],
          [
           "Veranlassen zur Aufnahme oder Fortsetzung der Bettelei, durch die die Person ausgebeutet wird § 232b Abs. 1 Nr. 3, Abs. 2 in Bezug auf Abs. 1 Nr. 3, Abs. 3 Nr. 3, Abs. 4 Nr. 3 StGB",
           "239330",
           0
          ],
          [
           "Ausbeutung der Arbeitskraft § 233 StGB",
           "239400",
           10
          ],
          [
           "Ausbeutung durch eine Beschäftigung § 233 Abs. 1 Nr. 1, Abs. 2 in Fällen von Abs. 1 Nr. 1, Abs. 3 in Fällen von Abs. 1 Nr. 1, Abs. 4 in Bezug auf Abs. 1 Nr. 1, Abs. 5 in Bezug auf Abs. 1 Nr. 1 StGB",
           "239410",
           5
          ],
          [
           "Ausbeutung bei der Ausübung der Bettelei § 233 Abs. 1 Nr. 2, Abs. 2 in Fällen von Abs. 1 Nr. 2, Abs. 3 in Fällen von Abs. 1 Nr. 2, Abs. 4 in Bezug auf Abs. 1 Nr. 2 StGB",
           "239420",
           0
          ],
          [
           "Ausbeutung bei der Begehung von mit Strafe bedrohten Handlungen § 233 Abs. 1 Nr. 3, Abs. 2 in Fällen von Abs. 1 Nr. 3, Abs. 3 in Fällen von Abs. 1 Nr. 3, Abs. 4 in Bezug auf Abs. 1 Nr. 3 StGB",
           "239430",
           5
          ],
          [
           "Ausbeutung unter Ausnutzung einer Freiheitsberaubung § 233a StGB",
           "239500",
           33
          ],
          [
           "Ausbeutung bei Ausübung der Prostitution § 233a Abs. 1 Nr. 1, Abs. 2 in Bezug auf Abs. 1 Nr. 1, Abs. 3 in Bezug auf Abs. 1 Nr. 1, Abs. 4 in Bezug auf Abs. 1 Nr. 1 StGB",
           "239510",
           22
          ],
          [
           "Ausbeutung durch eine Beschäftigung nach § 232 Abs. 1 Satz 2 StGB (gem. § 233a Abs. 1 Nr. 2, Abs. 2 in Bezug auf Abs. 1 Nr. 2, Abs. 3 in Bezug auf Abs. 1 Nr. 2, Abs. 4 in Bezug auf Abs. 1 Nr. 2 StGB)",
           "239520",
           8
          ],
          [
           "Ausbeutung bei der Ausübung der Bettelei § 233a Abs. 1 Nr. 3, Abs. 2 in Bezug auf Abs. 1 Nr. 3, Abs. 3 in Bezug auf Abs. 1 Nr. 3, Abs. 4 in Bezug auf Abs. 1 Nr. 3 StGB",
           "239530",
           1
          ],
          [
           "Ausbeutung bei der Begehung von mit Strafe bedrohten Handlungen § 233a Abs. 1 Nr. 4, Abs. 2 in Bezug auf Abs. 1 Nr. 4, Abs. 3 in Bezug auf Abs. 1 Nr. 4, Abs. 4 in Bezug auf Abs. 1 Nr. 4 StGB",
           "239540",
           2
          ],
          [
           "Diebstahl ohne erschwerende Umstände §§ 242, 247, 248a-c StGB und zwar:",
           "3***00",
           835368
          ],
          [
           "Einfacher Diebstahl von Kraftwagen einschl. unbefugte Ingebrauchnahme",
           "3**100",
           5936
          ],
          [
           "Einfacher Diebstahl von Mopeds und Krafträdern einschl. unbefugte Ingebrauchnahme",
           "3**200",
           4214
          ],
          [
           "Einfacher Diebstahl von Fahrrädern einschl. unbefugte Ingebrauchnahme",
           "3**300",
           37981
          ],
          [
           "Einfacher Diebstahl von Schusswaffen",
           "3**400",
           169
          ],
          [
           "Einfacher Diebstahl von unbaren Zahlungsmitteln",
           "3**500",
           69050
          ],
          [
           "Einfacher Diebstahl von/aus Automaten",
           "3**700",
           756
          ],
          [
           "Einfacher Diebstahl von Antiquitäten, Kunst- und sakralen Gegenständen",
           "3**800",
           619
          ],
          [
           "Sonstiger einfacher Diebstahl §§ 242, 247, 248a-c StGB",
           "300000",
           231031
          ],
          [
           "Sonstiger einfacher Diebstahl §§ 242, 247, 248a StGB",
           "300010",
           226278
          ],
          [
           "Unbefugter Gebrauch eines sonstigen Fahrzeuges § 248b StGB",
           "300040",
           1565
          ],
          [
           "Entziehung elektrischer Energie § 248c StGB",
           "300050",
           3188
          ],
          [
           "Einfacher Diebstahl von Kraftwagen einschl. unbefugter Ingebrauchnahme",
           "300100",
           5802
          ],
          [
           "Einfacher Diebstahl von Kraftwagen",
           "300110",
           3110
          ],
          [
           "Unbefugter Gebrauch von Kraftwagen",
           "300140",
           2692
          ],
          [
           "Einfacher Diebstahl von Mopeds und Krafträdern einschl. unbefugter Ingebrauchnahme",
           "300200",
           4167
          ],
          [
           "Einfacher Diebstahl von Mopeds und Krafträdern",
           "300210",
           3768
          ],
          [
           "Unbefugter Gebrauch von Mopeds und Krafträdern",
           "300240",
           399
          ],
          [
           "Einfacher Diebstahl von Fahrrädern einschl. unbefugter Ingebrauchnahme",
           "300300",
           33787
          ],
          [
           "Einfacher Diebstahl von Fahrrädern",
           "300310",
           32856
          ],
          [
           "Unbefugter Gebrauch von Fahrrädern",
           "300340",
           931
          ],
          [
           "Einfacher Diebstahl von Schusswaffen",
           "300400",
           82
          ],
          [
           "Einfacher Diebstahl von unbaren Zahlungsmitteln",
           "300500",
           22631
          ],
          [
           "Einfacher Diebstahl von/aus Automaten",
           "300700",
           612
          ],
          [
           "Einfacher Diebstahl von Antiquitäten, Kunst- und sakralen Gegenständen",
           "300800",
           484
          ],
          [
           "Einfacher Diebstahl in/aus Banken, Sparkassen, Postfilialen und -agenturen und dergleichen",
           "305*00",
           2737
          ],
          [
           "Einfacher Diebstahl in/aus Banken, Sparkassen, Postfilialen und -agenturen und dergleichen von sonstigem Gut",
           "305000",
           2477
          ],
          [
           "Einfacher Diebstahl in/aus Banken, Sparkassen, Postfilialen und -agenturen und dergleichen von unbaren Zahlungsmitteln",
           "305500",
           260
          ],
          [
           "Einfacher Diebstahl in/aus Dienst-, Büro-, Fabrikations-, Werkstatt- und Lagerräumen",
           "310*00",
           20970
          ],
          [
           "Einfacher Diebstahl in/aus Dienst-, Büro-, Fabrikations-, Werkstatt- und Lagerräumen von sonstigem Gut",
           "310000",
           18548
          ],
          [
           "Einfacher Diebstahl in/aus Dienst-, Büro-, Fabrikations-, Werkstatt- und Lagerräumen von Kraftwagen",
           "310100",
           120
          ],
          [
           "Einfacher Diebstahl in/aus Dienst-, Büro-, Fabrikations-, Werkstatt- und Lagerräumen von Mopeds und Krafträdern",
           "310200",
           47
          ],
          [
           "Einfacher Diebstahl in/aus Dienst-, Büro-, Fabrikations-, Werkstatt- und Lagerräumen von Fahrrädern",
           "310300",
           531
          ],
          [
           "Einfacher Diebstahl in/aus Dienst-, Büro-, Fabrikations-, Werkstatt- und Lagerräumen von Schusswaffen",
           "310400",
           17
          ],
          [
           "Einfacher Diebstahl in/aus Dienst-, Büro-, Fabrikations-, Werkstatt- und Lagerräumen von unbaren Zahlungsmitteln",
           "310500",
           1563
          ],
          [
           "Einfacher Diebstahl in/aus Dienst-, Büro-, Fabrikations-, Werkstatt- und Lagerräumen von/aus Automaten",
           "310700",
           83
          ],
          [
           "Einfacher Diebstahl in/aus Dienst-, Büro-, Fabrikations-, Werkstatt- und Lagerräumen von Antiquitäten, Kunst- und sakralen Gegenständen",
           "310800",
           61
          ],
          [
           "Einfacher Diebstahl in/aus Gaststätten, Kantinen, Hotels und Pensionen",
           "315*00",
           6943
          ],
          [
           "Einfacher Diebstahl in/aus Gaststätten, Kantinen, Hotels und Pensionen von sonstigem Gut",
           "315000",
           5744
          ],
          [
           "Einfacher Diebstahl in/aus Gaststätten, Kantinen, Hotels und Pensionen von unbaren Zahlungsmitteln",
           "315500",
           1138
          ],
          [
           "Einfacher Diebstahl in/aus Gaststätten, Kantinen, Hotels und Pensionen von/aus Automaten",
           "315700",
           61
          ],
          [
           "Einfacher Diebstahl in/aus Kiosken, Warenhäusern, Verkaufsräumen, Selbstbedienungsläden, Schaufenstern und Schaukästen darunter:",
           "325*00",
           263538
          ],
          [
           "Einfacher Diebstahl in/aus Kiosken, Warenh., Verkaufsräumen pp. von sonstigem Gut",
           "325000",
           15948
          ],
          [
           "Einfacher Diebstahl in/aus Kiosken, Warenh., Verkaufsräumen pp. von Fahrrädern",
           "325300",
           134
          ],
          [
           "Einfacher Diebstahl in/aus Kiosken, Warenh., Verkaufsräumen pp. von unbaren Zahlungsmitteln",
           "325500",
           7524
          ],
          [
           "Einfacher Ladendiebstahl",
           "326*00",
           239932
          ],
          [
           "Einfacher Ladendiebstahl von sonstigem Gut",
           "326000",
           239735
          ],
          [
           "Einfacher Ladendiebstahl von Fahrrädern",
           "326300",
           197
          ],
          [
           "Einfacher Diebstahl in/aus Wohnungen",
           "335*00",
           35855
          ],
          [
           "Einfacher Diebstahl in/aus Wohnungen von sonstigem Gut",
           "335000",
           33306
          ],
          [
           "Einfacher Diebstahl in/aus Wohnungen von Schusswaffen",
           "335400",
           70
          ],
          [
           "Einfacher Diebstahl in/aus Wohnungen von unbaren Zahlungsmitteln",
           "335500",
           2405
          ],
          [
           "Einfacher Diebstahl in/aus Wohnungen von Antiquitäten, Kunst- und sakralen Gegenständen",
           "335800",
           74
          ],
          [
           "Einfacher Diebstahl in/aus Boden-, Kellerräumen und Waschküchen",
           "340*00",
           10630
          ],
          [
           "Einfacher Diebstahl in/aus Boden-, Kellerräumen und Waschküchen von sonstigem Gut",
           "340000",
           7298
          ],
          [
           "Einfacher Diebstahl in/aus Boden-, Kellerräumen und Waschküchen von Fahrrädern",
           "340300",
           3332
          ],
          [
           "Einfacher Diebstahl in/aus überwiegend unbezogenen Neu- und Rohbauten und Baustellen",
           "345*00",
           9892
          ],
          [
           "Einfacher Diebstahl in/aus überwiegend unbezogenen Neu- und Rohbauten und Baustellen von sonstigem Gut",
           "345000",
           9727
          ],
          [
           "Einfacher Diebstahl in/aus überwiegend unbezogenen Neu- und Rohbauten und Baustellen von Kraftwagen",
           "345100",
           14
          ],
          [
           "Einfacher Diebstahl in/aus überwiegend unbezogenen Neu- und Rohbauten und Baustellen von unbaren Zahlungsmitteln",
           "345500",
           151
          ],
          [
           "Einfacher Diebstahl an/aus Kraftfahrzeugen",
           "350*00",
           114865
          ],
          [
           "Einfacher Diebstahl an/aus Kraftfahrzeugen von sonstigem Gut",
           "350000",
           109371
          ],
          [
           "Einfacher Diebstahl aus Kraftfahrzeugen von unbaren Zahlungsmitteln",
           "350500",
           5494
          ],
          [
           "Einfacher Diebstahl von Betäubungsmitteln aus Apotheken",
           "371000",
           39
          ],
          [
           "Einfacher Diebstahl von Betäubungsmitteln aus Arztpraxen",
           "372000",
           23
          ],
          [
           "Einfacher Diebstahl von Betäubungsmitteln aus Krankenhäusern",
           "373000",
           282
          ],
          [
           "Einfacher Diebstahl von Betäubungsmitteln bei Herstellern und Großhändlern",
           "374000",
           40
          ],
          [
           "Einfacher Diebstahl von Rezeptformularen zur Erlangung von Betäubungsmitteln",
           "375000",
           66
          ],
          [
           "Einfacher Taschendiebstahl von sonstigem Gut",
           "390000",
           43008
          ],
          [
           "Einfacher Taschendiebstahl von unbaren Zahlungsmitteln",
           "390500",
           27884
          ],
          [
           "Diebstahl unter erschwerenden Umständen §§ 243-244a StGB und zwar:",
           "4***00",
           648198
          ],
          [
           "Schwerer Diebstahl von Kraftwagen",
           "4**100",
           15648
          ],
          [
           "Schwerer Diebstahl von Mopeds und Krafträdern",
           "4**200",
           13374
          ],
          [
           "Schwerer Diebstahl von Fahrrädern",
           "4**300",
           195603
          ],
          [
           "Schwerer Diebstahl von Schusswaffen",
           "4**400",
           246
          ],
          [
           "Schwerer Diebstahl von unbaren Zahlungsmitteln",
           "4**500",
           6730
          ],
          [
           "Schwerer Diebstahl von/aus Automaten",
           "4**700",
           8322
          ],
          [
           "Schwerer Diebstahl von Antiquitäten, Kunst- und sakralen Gegenständen",
           "4**800",
           526
          ],
          [
           "Sonstiger schwerer Diebstahl insgesamt §§ 243 - 244a StGB",
           "400000",
           101619
          ],
          [
           "Besonders schwerer Fall des Diebstahls",
           "400010",
           97729
          ],
          [
           "Sonstiger schwerer Diebstahl (ohne WED) §§ 244 Abs. 1 Nr. 1 und 2, 244a StGB",
           "400020",
           3890
          ],
          [
           "Schwerer Diebstahl insgesamt von Kraftwagen",
           "400100",
           15012
          ],
          [
           "Besonders schwerer Fall des Diebstahls von Kraftwagen",
           "400110",
           13783
          ],
          [
           "Schwerer Diebstahl von Kraftwagen §§ 244 Abs. 1 Nr. 1 und 2, 244a StGB",
           "400120",
           1229
          ],
          [
           "Schwerer Diebstahl insgesamt von Mopeds und Krafträdern",
           "400200",
           13124
          ],
          [
           "Besonders schwerer Fall des Diebstahls von Mopeds und Krafträdern",
           "400210",
           12949
          ],
          [
           "Schwerer Diebstahl von Mopeds und Krafträdern §§ 244 Abs. 1 Nr. 1 und 2, 244a StGB",
           "400220",
           175
          ],
          [
           "Schwerer Diebstahl insgesamt von Fahrrädern",
           "400300",
           170437
          ],
          [
           "Besonders schwerer Fall des Diebstahls von Fahrrädern",
           "400310",
           169746
          ],
          [
           "Schwerer Diebstahl von Fahrrädern §§ 244 Abs. 1 Nr. 1 und 2, 244a StGB",
           "400320",
           691
          ],
          [
           "Schwerer Diebstahl insgesamt von Schusswaffen",
           "400400",
           80
          ],
          [
           "Besonders schwerer Fall des Diebstahls von Schusswaffen",
           "400410",
           74
          ],
          [
           "Schwerer Diebstahl von Schusswaffen §§ 244 Abs. 1 Nr. 1 und 2, 244a StGB",
           "400420",
           6
          ],
          [
           "Schwerer Diebstahl insgesamt von unbaren Zahlungsmitteln",
           "400500",
           828
          ],
          [
           "Besonders schwerer Fall des Diebstahls von unbaren Zahlungsmitteln",
           "400510",
           621
          ],
          [
           "Schwerer Diebstahl von unbaren Zahlungsmitteln §§ 244 Abs. 1 Nr. 1 und 2, 244a StGB",
           "400520",
           207
          ],
          [
           "Schwerer Diebstahl insgesamt von/aus Automaten",
           "400700",
           7283
          ],
          [
           "Besonders schwerer Fall des Diebstahls von/aus Automaten",
           "400710",
           6861
          ],
          [
           "Schwerer Diebstahl von/aus Automaten §§ 244 Abs. 1 Nr. 1 und 2, 244a StGB",
           "400720",
           422
          ],
          [
           "Schwerer Diebstahl insgesamt von Antiquitäten, Kunst- und sakralen Gegenständen",
           "400800",
           343
          ],
          [
           "Besonders schwerer Fall des Diebstahls von Antiquitäten, Kunst- und sakralen Gegenständen",
           "400810",
           283
          ],
          [
           "Schwerer Diebstahl von Antiquitäten, Kunst- und sakralen Gegenständen §§ 244 Abs. 1 Nr. 1 und 2, 244a StGB",
           "400820",
           60
          ],
          [
           "Schwerer Diebstahl in/aus Banken, Sparkassen, Postfilialen und -agenturen und dergleichen",
           "405*00",
           1053
          ],
          [
           "Schwerer Diebstahl insgesamt in/aus Banken, Sparkassen, Postfilialen und -agenturen und dergleichen",
           "405000",
           1053
          ],
          [
           "Besonders schwerer Fall des Diebstahls in/aus Banken, Sparkassen, Postfilialen und -agenturen und dergleichen",
           "405010",
           865
          ],
          [
           "Schwerer Diebstahl in/aus Banken, Sparkassen, Postfilialen und -agenturen und dergleichen §§ 244 Abs. 1 Nr. 1 und 2, 244a StGB",
           "405020",
           188
          ],
          [
           "Schwerer Diebstahl in/aus Dienst-, Büro-, Fabrikations-, Werkstatt- und Lagerräumen",
           "410*00",
           43684
          ],
          [
           "Schwerer Diebstahl insgesamt in/aus Dienst-, Büro-, Fabrikations-, Werkstatt- und Lagerräumen von sonstigem Gut",
           "410000",
           40911
          ],
          [
           "Besonders schwerer Fall des Diebstahls in/aus Dienst-, Büro-, Fabrikations-, Werkstatt- und Lagerräumen von sonstigem Gut",
           "410010",
           39759
          ],
          [
           "Schwerer Diebstahl in/aus Dienst-, Büro-, Fabrikations-, Werkstatt- und Lagerräumen von sonstigem Gut §§ 244 Abs. 1 Nr. 1 und 2, 244a StGB",
           "410020",
           1152
          ],
          [
           "Schwerer Diebstahl insgesamt in/aus Dienst-, Büro-, Fabrikations-, Werkstatt- und Lagerräumen von Kraftwagen",
           "410100",
           489
          ],
          [
           "Besonders schwerer Fall des Diebstahls in/aus Dienst-, Büro-, Fabrikations-, Werkstatt- und Lagerräumen von Kraftwagen",
           "410110",
           450
          ],
          [
           "Schwerer Diebstahl in/aus Dienst-, Büro-, Fabrikations-, Werkstatt- und Lagerräumen von Kraftwagen §§ 244 Abs. 1 Nr. 1 und 2, 244a StGB",
           "410120",
           39
          ],
          [
           "Schwerer Diebstahl insgesamt in/aus Dienst-, Büro-, Fabrikations-, Werkstatt- und Lagerräumen von Mopeds und Krafträdern",
           "410200",
           250
          ],
          [
           "Besonders schwerer Fall des Diebstahls in/aus Dienst-, Büro-, Fabrikations-, Werkstatt- und Lagerräumen von Mopeds und Krafträdern",
           "410210",
           245
          ],
          [
           "Schwerer Diebstahl in/aus Dienst-, Büro-, Fabrikations-, Werkstatt- und Lagerräumen von Mopeds und Krafträdern, §§ 244 Abs. 1 Nr. 1 und 2, 244a StGB",
           "410220",
           5
          ],
          [
           "Schwerer Diebstahl insgesamt in/aus Dienst-, Büro-, Fabrikations-, Werkstatt- und Lagerräumen von Fahrrädern",
           "410300",
           1221
          ],
          [
           "Besonders schwerer Fall des Diebstahls in/aus Dienst-, Büro-, Fabrikations-, Werkstatt- und Lagerräumen von Fahrrädern",
           "410310",
           1200
          ],
          [
           "Schwerer Diebstahl in/aus Dienst-, Büro-, Fabrikations-, Werkstatt- und Lagerräumen von Fahrrädern §§ 244 Abs. 1 Nr. 1 und 2, 244a StGB",
           "410320",
           21
          ],
          [
           "Schwerer Diebstahl insgesamt in/aus Dienst-, Büro-, Fabrikations-, Werkstatt- und Lagerräumen von Schusswaffen",
           "410400",
           17
          ],
          [
           "Besonders schwerer Fall des Diebstahls in/aus Dienst-, Büro-, Fabrikations-, Werkstatt- und Lagerräumen von Schusswaffen",
           "410410",
           15
          ],
          [
           "Schwerer Diebstahl in/aus Dienst-, Büro-, Fabrikations-, Werkstatt- und Lagerräumen von Schusswaffen §§ 244 Abs. 1 Nr. 1 und 2, 244a StGB",
           "410420",
           2
          ],
          [
           "Schwerer Diebstahl insgesamt in/aus Dienst-, Büro-, Fabrikations-, Werkstatt- und Lagerräumen von unbaren Zahlungsmitteln",
           "410500",
           337
          ],
          [
           "Besonders schwerer Fall des Diebstahls in/aus Dienst-, Büro-, Fabrikations-, Werkstatt- und Lagerräumen von unbaren Zahlungsmitteln",
           "410510",
           315
          ],
          [
           "Schwerer Diebstahl in/aus Dienst-, Büro-, Fabrikations-, Werkstatt- und Lagerräumen von unbaren Zahlungsmitteln §§ 244 Abs. 1 Nr. 1 und 2, 244a StGB",
           "410520",
           22
          ],
          [
           "Schwerer Diebstahl insgesamt in/aus Dienst-, Büro-, Fabrikations-, Werkstatt- und Lagerräumen von/aus Automaten",
           "410700",
           325
          ],
          [
           "Besonders schwerer Fall des Diebstahls in/aus Dienst-, Büro-, Fabrikations-, Werkstatt- und Lagerräumen von/aus Automaten",
           "410710",
           308
          ],
          [
           "Schwerer Diebstahl in/aus Dienst-, Büro-, Fabrikations-, Werkstatt- und Lagerräumen von/aus Automaten §§ 244 Abs. 1 Nr. 1 und 2, 244a StGB",
           "410720",
           17
          ],
          [
           "Schwerer Diebstahl insgesamt in/aus Dienst-, Büro-, Fabrikations-, Werkstatt- und Lagerräumen von Antiquitäten, Kunst- und sakralen Gegenständen",
           "410800",
           134
          ],
          [
           "Besonders schwerer Fall des Diebstahls in/aus Dienst-, Büro-, Fabrikations-, Werkstatt- und Lagerräumen von Antiquitäten, Kunst- und sakralen Gegenständen",
           "410810",
           126
          ],
          [
           "Schwerer Diebstahl in/aus Dienst-, Büro-, Fabrikations-, Werkstatt- und Lagerräumen von Antiquitäten, Kunst- und sakralen Gegenständen §§ 244 Abs. 1 Nr. 1 und 2, 244a StGB",
           "410820",
           8
          ],
          [
           "Schwerer Diebstahl in/aus Gaststätten, Kantinen, Hotels und Pensionen",
           "415*00",
           8159
          ],
          [
           "Schwerer Diebstahl insgesamt in/aus Gaststätten, Kantinen, Hotels und Pensionen von sonstigem Gut",
           "415000",
           7337
          ],
          [
           "Besonders schwerer Fall des Diebstahls in/aus Gaststätten, Kantinen, Hotels und Pensionen von sonstigem Gut",
           "415010",
           7136
          ],
          [
           "Schwerer Diebstahl in/aus Gaststätten, Kantinen, Hotels und Pensionen von sonstigem Gut §§ 244 Abs. 1 Nr. 1 und 2, 244a StGB",
           "415020",
           201
          ],
          [
           "Schwerer Diebstahl insgesamt in/aus Gaststätten, Kantinen, Hotels und Pensionen von unbaren Zahlungsmitteln",
           "415500",
           108
          ],
          [
           "Besonders schwerer Fall des Diebstahls in/aus Gaststätten, Kantinen, Hotels und Pensionen von unbaren Zahlungsmitteln",
           "415510",
           90
          ],
          [
           "Schwerer Diebstahl in/aus Gaststätten, Kantinen, Hotels und Pensionen von unbaren Zahlungsmitteln §§ 244 Abs. 1 Nr. 1 und 2, 244a StGB",
           "415520",
           18
          ],
          [
           "Schwerer Diebstahl insgesamt in/aus Gaststätten, Kantinen, Hotels und Pensionen von/aus Automaten",
           "415700",
           714
          ],
          [
           "besonders schwerer Fall des Diebstahls in/aus Gaststätten, Kantinen, Hotels und Pensionen von/aus Automaten",
           "415710",
           689
          ],
          [
           "Schwerer Diebstahl in/aus Gaststätten, Kantinen, Hotels und Pensionen von/aus Automaten §§ 244 Abs. 1 Nr. 1 und 2, 244a StGB",
           "415720",
           25
          ],
          [
           "Schwerer Diebstahl in/aus Kiosken, Warenhäusern, Verkaufsräumen, Selbstbedienungsläden, Schaufenstern und Schaukästen darunter:",
           "425*00",
           33301
          ],
          [
           "Schwerer Diebstahl insgesamt in/aus Kiosken, Warenhäusern, Verkaufsräumen pp. von sonstigem Gut",
           "425000",
           16102
          ],
          [
           "Besonders schwerer Fall des Diebstahls in/aus Kiosken, Warenhäusern, Verkaufsräumen pp. von sonstigem Gut",
           "425010",
           14827
          ],
          [
           "Schwerer Diebstahl in/aus Kiosken, Warenhäusern, Verkaufsräumen pp. von sonstigem Gut, §§ 244 Abs. 1 Nr. 1 und 2, 244a StGB",
           "425020",
           1275
          ],
          [
           "Schwerer Diebstahl insgesamt in/aus Kiosken, Warenhäusern, Verkaufsräumen pp. von Fahrrädern",
           "425300",
           183
          ],
          [
           "Besonders schwerer Fall des Diebstahls in/aus Kiosken, Warenhäusern, Verkaufsräumen pp. von Fahrrädern",
           "425310",
           164
          ],
          [
           "Schwerer Diebstahl in/aus Kiosken, Warenhäusern, Verkaufsräumen pp.von Fahrrädern §§ 244 Abs. 1 Nr. 1 und 2, 244a StGB",
           "425320",
           19
          ],
          [
           "Schwerer Diebstahl insgesamt in/aus Kiosken, Warenhäusern, Verkaufsräumen pp. von Schusswaffen",
           "425400",
           28
          ],
          [
           "Besonders schwerer Fall des Diebstahls in/aus Kiosken, Warenhäusern, Verkaufsräumen pp. von Schusswaffen",
           "425410",
           18
          ],
          [
           "Schwerer Diebstahl in/aus Kiosken, Warenhäusern, Verkaufsräumen pp. von Schusswaffen §§ 244 Abs. 1 Nr. 1 und 2, 244a StGB",
           "425420",
           10
          ],
          [
           "Schwerer Diebstahl insgesamt in/aus Kiosken, Warenhäusern, Verkaufsräumen pp. von unbaren Zahlungsmitteln",
           "425500",
           226
          ],
          [
           "Besonders schwerer Fall des Diebstahls in/aus Kiosken, Warenhäusern, Verkaufsräumen pp. von unbaren Zahlungsmitteln",
           "425510",
           155
          ],
          [
           "Schwerer Diebstahl in/aus Kiosken, Warenhäusern, Verkaufsräumen pp. von unbaren Zahlungsmitteln §§ 244 Abs. 1 Nr. 1 und 2, 244a StGB",
           "425520",
           71
          ],
          [
           "Schwerer Ladendiebstahl",
           "426*00",
           16762
          ],
          [
           "Schwerer Ladendiebstahl insgesamt",
           "426000",
           16762
          ],
          [
           "Besonders schwerer Fall des Ladendiebstahls",
           "426010",
           11283
          ],
          [
           "Schwerer Ladendiebstahl §§ 244 Abs. 1 Nr. 1 und 2, 244a StGB",
           "426020",
           5479
          ],
          [
           "Wohnungseinbruchdiebstahl §§ 244 Abs. 1 Nr. 3 und Abs. 4, 244a StGB",
           "435*00",
           54236
          ],
          [
           "Wohnungseinbruchdiebstahl (ohne TWE) § 244 Abs. 1 Nr. 3 und Abs. 4 StGB von sonstigem Gut",
           "435000",
           33399
          ],
          [
           "Wohnungseinbruchdiebstahl (ohne TWE) bandenmäßig §§ 244 Abs. 4, 244a StGB",
           "435020",
           404
          ],
          [
           "Wohnungseinbruchdiebstahl (ohne TWE) § 244 Abs. 1 Nr. 3 und Abs. 4 StGB von Schusswaffen",
           "435400",
           78
          ],
          [
           "Wohnungseinbruchdiebstahl (ohne TWE) § 244 Abs. 1 Nr. 3 und Abs. 4 StGB von unbaren Zahlungsmitteln",
           "435500",
           292
          ],
          [
           "Wohnungseinbruchdiebstahl (ohne TWE) § 244 Abs. 1 Nr. 3 und Abs. 4 StGB von Antiquitäten, Kunst- und sakralen Gegenständen",
           "435800",
           34
          ],
          [
           "Tageswohnungseinbruchdiebstahl §§ 244 Abs. 1 Nr. 3 und Abs. 4, 244a StGB",
           "436*00",
           20029
          ],
          [
           "Tageswohnungseinbruch § 244 Abs. 1 Nr. 3 und Abs. 4 StGB von sonstigem Gut",
           "436000",
           19377
          ],
          [
           "Tageswohnungseinbruchdiebstahl bandenmäßig §§ 244 Abs. 4, 244a StGB",
           "436020",
           421
          ],
          [
           "Tageswohnungseinbruch § 244 Abs. 1 Nr. 3 und Abs. 4 StGB von Schusswaffen",
           "436400",
           43
          ],
          [
           "Tageswohnungseinbruch § 244 Abs. 1 Nr. 3 und Abs. 4 StGB von unbaren Zahlungsmitteln",
           "436500",
           173
          ],
          [
           "Tageswohnungseinbruch § 244 Abs. 1 Nr. 3 und Abs. 4 StGB von Antiquitäten, Kunst- und sakralen Gegenständen",
           "436800",
           15
          ],
          [
           "Schwerer Diebstahl in/aus Boden-, Kellerräumen und Waschküchen",
           "440*00",
           89860
          ],
          [
           "Schwerer Diebstahl insgesamt in/aus Boden-, Kellerräumen, Waschküchen von sonstigem Gut",
           "440000",
           66098
          ],
          [
           "Besonders schwerer Fall des Diebstahls in/aus Boden-, Kellerräumen, Waschküchen von sonstigem Gut",
           "440010",
           65597
          ],
          [
           "Schwerer Diebstahl in/aus Boden-, Kellerräumen, Waschküchen §§ 244 Abs. 1 Nr. 1 und 2, 244a StGB",
           "440020",
           501
          ],
          [
           "Schwerer Diebstahl insgesamt in/aus Boden-, Kellerräumen, Waschküchen von Fahrrädern",
           "440300",
           23762
          ],
          [
           "Besonders schwerer Fall des Diebstahls in/aus Boden-, Kellerräumen, Waschküchen von Fahrrädern",
           "440310",
           23584
          ],
          [
           "Schwerer Diebstahl in/aus Boden-, Kellerräumen, Waschküchen von Fahrrädern §§ 244 Abs. 1 Nr. 1 und 2, 244a StGB",
           "440320",
           178
          ],
          [
           "Schwerer Diebstahl in/aus überwiegend unbezogenen Neu- und Rohbauten und Baustellen",
           "445*00",
           12881
          ],
          [
           "Schwerer Diebstahl insgesamt in/aus überwiegend unbezogenen Neu- und Rohbauten und Baustellen von sonstigem Gut",
           "445000",
           12691
          ],
          [
           "Besonders schwerer Fall des Diebstahls in/aus überwiegend unbezogenen Neu- und Rohbauten und Baustellen von sonstigem Gut",
           "445010",
           12407
          ],
          [
           "Schwerer Diebstahl in/aus überwiegend unbezogenen Neu- und Rohbauten und Baustellen von sonstigem Gut §§ 244 Abs. 1 Nr. 1 und 2, 244a StGB",
           "445020",
           284
          ],
          [
           "Schwerer Diebstahl insgesamt in/aus überwiegend unbezogenen Neu- und Rohbauten und Baustellen von Kraftwagen",
           "445100",
           147
          ],
          [
           "Besonders schwerer Fall des Diebstahls in/aus überwiegend unbezogenen Neu- und Rohbauten und Baustellen von Kraftwagen",
           "445110",
           133
          ],
          [
           "Schwerer Diebstahl in/aus überwiegend unbezogenen Neu- und Rohbauten und Baustellen von Kraftwagen §§ 244 Abs. 1 Nr. 1 und 2, 244a StGB",
           "445120",
           14
          ],
          [
           "Schwerer Diebstahl insgesamt in/aus überwiegend unbezogenen Neu- und Rohbauten und Baustellen von unbaren Zahlungsmitteln",
           "445500",
           43
          ],
          [
           "Besonders schwerer Fall des Diebstahls in/aus überwiegend unbezogenen Neu- und Rohbauten und Baustellen von unbaren Zahlungsmitteln",
           "445510",
           39
          ],
          [
           "Schwerer Diebstahl in/aus überwiegend unbezogenen Neu- und Rohbauten und Baustellen von unbaren Zahlungsmitteln §§ 244 Abs. 1 Nr. 1 und 2, 244a StGB",
           "445520",
           4
          ],
          [
           "Schwerer Diebstahl an/aus Kraftfahrzeugen",
           "450*00",
           94112
          ],
          [
           "Schwerer Diebstahl insgesamt an/aus Kraftfahrzeugen von sonstigem Gut",
           "450000",
           89873
          ],
          [
           "Besonders schwerer Fall des Diebstahls an/aus Kraftfahrzeugen von sonstigem Gut",
           "450010",
           85984
          ],
          [
           "Schwerer Diebstahl an/aus Kraftfahrzeugen von sonstigem Gut §§ 244 Abs. 1 Nr. 1 und 2, 244a StGB",
           "450020",
           3889
          ],
          [
           "Schwerer Diebstahl aus Kraftfahrzeugen von unbaren Zahlungsmitteln",
           "450500",
           4239
          ],
          [
           "Besonders schwerer Fall des Diebstahls aus Kraftfahrzeugen von unbaren Zahlungsmitteln",
           "450510",
           4138
          ],
          [
           "Schwerer Diebstahl aus Kraftfahrzeugen von unbaren Zahlungsmitteln §§ 244 Abs. 1 Nr. 1 und 2, 244a StGB",
           "450520",
           101
          ],
          [
           "Schwerer Diebstahl von Betäubungsmitteln aus Apotheken",
           "471000",
           51
          ],
          [
           "Besonders schwerer Fall des Diebstahls von Betäubungsmitteln aus Apotheken",
           "471010",
           48
          ],
          [
           "Schwerer Diebstahl von Betäubungsmitteln aus Apotheken §§ 244 Abs. 1 Nr. 1 und 2, 244a StGB",
           "471020",
           3
          ],
          [
           "Schwerer Diebstahl von Betäubungsmitteln aus Arztpraxen",
           "472000",
           43
          ],
          [
           "Besonders schwerer Fall des Diebstahls von Betäubungsmitteln aus Arztpraxen",
           "472010",
           43
          ],
          [
           "Schwerer Diebstahl von Betäubungsmitteln aus Arztpraxen §§ 244 Abs. 1 Nr. 1 und 2, 244a StGB",
           "472020",
           0
          ],
          [
           "Schwerer Diebstahl von Betäubungsmitteln aus Krankenhäusern",
           "473000",
           68
          ],
          [
           "Besonders schwerer Fall des Diebstahls von Betäubungsmitteln aus Krankenhäusern",
           "473010",
           65
          ],
          [
           "Schwerer Diebstahl von Betäubungsmitteln aus Krankenhäusern §§ 244 Abs. 1 Nr. 1 und 2, 244a StGB",
           "473020",
           3
          ],
          [
           "Schwerer Diebstahl von Betäubungsmitteln bei Herstellern und Großhändlern",
           "474000",
           0
          ],
          [
           "Besonders schwerer Fall des Diebstahls von Betäubungsmitteln bei Herstellern und Großhändlern",
           "474010",
           0
          ],
          [
           "Schwerer Diebstahl von Betäubungsmitteln bei Herstellern und Großhändlern §§ 244 Abs. 1 Nr. 1 und 2, 244a StGB",
           "474020",
           0
          ],
          [
           "Schwerer Diebstahl von Rezeptformularen zur Erlangung von Betäubungsmitteln",
           "475000",
           13
          ],
          [
           "Besonders schwerer Fall des Diebstahls von Rezeptformularen zur Erlangung von Betäubungsmitteln",
           "475010",
           11
          ],
          [
           "Schwerer Diebstahl von Rezeptformularen zur Erlangung von Betäubungsmitteln §§ 244 Abs. 1 Nr. 1 und 2, 244a StGB",
           "475020",
           2
          ],
          [
           "Schwerer Taschendiebstahl insgesamt von sonstigem Gut",
           "490000",
           1527
          ],
          [
           "Besonders schwerer Fall des Taschendiebstahl von sonstigem Gut",
           "490010",
           1230
          ],
          [
           "Schwerer Taschendiebstahl von sonstigem Gut §§ 244 Abs. 1 Nr. 1 und 2, 244a StGB",
           "490020",
           297
          ],
          [
           "Schwerer Taschendiebstahl von unbaren Zahlungsmitteln",
           "490500",
           484
          ],
          [
           "Besonders schwerer Fall des Taschendiebstahl von unbaren Zahlungsmitteln",
           "490510",
           363
          ],
          [
           "Schwerer Taschendiebstahl von unbaren Zahlungsmitteln §§ 244 Abs. 1 Nr. 1 und 2, 244a StGB",
           "490520",
           121
          ],
          [
           "Vermögens- und Fälschungsdelikte",
           "500000",
           1005066
          ],
          [
           "Betrug §§ 263, 263a, 264, 264a, 265, 265a-e StGB",
           "510000",
           793622
          ],
          [
           "Waren- und Warenkreditbetrug",
           "511000",
           291129
          ],
          [
           "Betrügerisches Erlangen von Kfz §§ 263, 263a StGB",
           "511100",
           1503
          ],
          [
           "Betrügerisches Erlangen von Kfz § 263 StGB",
           "511110",
           1419
          ],
          [
           "Betrügerisches Erlangen von Kfz § 263a StGB",
           "511120",
           84
          ],
          [
           "Sonstiger Warenkreditbetrug",
           "511200",
           153886
          ],
          [
           "Tankbetrug",
           "511201",
           58108
          ],
          [
           "Weitere Arten des Warenkreditbetruges §§ 263, 263a StGB",
           "511210",
           95778
          ],
          [
           "Weitere Arten des Warenkreditbetruges § 263 StGB",
           "511211",
           49534
          ],
          [
           "Weitere Arten des Warenkreditbetruges § 263a StGB",
           "511212",
           46244
          ],
          [
           "Warenbetrug",
           "511300",
           135740
          ],
          [
           "Kapitalanlage- und Anlagebetrug",
           "513000",
           4206
          ],
          [
           "Prospektbetrug (Kapitalanlagebetrug) § 264a StGB",
           "513100",
           52
          ],
          [
           "Anlagebetrug § 263 StGB",
           "513200",
           4154
          ],
          [
           "Geldkreditbetrug",
           "514000",
           9691
          ],
          [
           "Kreditbetrug § 265b StGB (im geschäftlichen Verkehr)",
           "514100",
           121
          ],
          [
           "Subventionsbetrug § 264 StGB",
           "514200",
           7260
          ],
          [
           "Krediterlangungsbetrug § 263 StGB",
           "514300",
           2310
          ],
          [
           "Erschleichen von Leistungen § 265a StGB",
           "515000",
           166997
          ],
          [
           "Beförderungserschleichung",
           "515001",
           164705
          ],
          [
           "Sonstiges Erschleichen von Leistungen",
           "515079",
           2292
          ],
          [
           "Betrug bzw. Computerbetrug mittels rechtswidrig erlangter unbarer Zahlungsmittel",
           "516000",
           64663
          ],
          [
           "Betrug mittels rechtswidrig erlangter Zahlungskarten ohne PIN (Lastschriftverfahren)",
           "516200",
           12331
          ],
          [
           "Computerbetrug mittels rechtswidrig erlangter Zahlungskarten mit PIN § 263a StGB",
           "516300",
           22226
          ],
          [
           "Betrug bzw. Computerbetrug mittels rechtswidrig erlangter Daten von Zahlungskarten §§ 263, 263a StGB",
           "516500",
           19622
          ],
          [
           "Betrug mittels rechtswidrig erlangter Daten von Zahlungskarten § 263 StGB",
           "516510",
           7825
          ],
          [
           "Computerbetrug mittels rechtswidrig erlangter Daten von Zahlungskarten § 263a StGB",
           "516520",
           11797
          ],
          [
           "Betrug bzw. Computerbetrug mittels rechtswidrig erlangter sonstiger unbarer Zahlungsmittel §§ 263, 263a StGB",
           "516900",
           10484
          ],
          [
           "Betrug mittels rechtswidrig erlangter sonstiger unbarer Zahlungsmittel § 263 StGB",
           "516910",
           4788
          ],
          [
           "Computerbetrug mittels rechtswidrig erlangter sonstiger unbarer Zahlungsmittel § 263a StGB",
           "516920",
           5696
          ],
          [
           "Sonstiger Betrug",
           "517000",
           256936
          ],
          [
           "Leistungsbetrug",
           "517100",
           20656
          ],
          [
           "Leistungskreditbetrug §§ 263, 263a StGB",
           "517200",
           22919
          ],
          [
           "Leistungskreditbetrug § 263 StGB",
           "517210",
           15976
          ],
          [
           "Leistungskreditbetrug § 263a StGB",
           "517220",
           6943
          ],
          [
           "Betrug z.N.v. Versicherungen und Versicherungsmissbrauch §§ 263, 265 StGB",
           "517400",
           2344
          ],
          [
           "Betrug zum Nachteil von Versicherungen",
           "517410",
           2290
          ],
          [
           "Versicherungsmissbrauch",
           "517420",
           54
          ],
          [
           "Computerbetrug (sonstiger) § 263a StGB (soweit nicht unter den Schlüsseln 511120, 511212, 516300, 516520, 516920, 517220, 517900, 518112 bzw. 518302 zu erfassen)",
           "517500",
           18086
          ],
          [
           "Computerbetrug (sonstiger) § 263a Abs. 1 und 2 StGB",
           "517510",
           17901
          ],
          [
           "Vorbereitung des Computerbetruges § 263a Abs. 3 StGB",
           "517520",
           185
          ],
          [
           "Provisionsbetrug",
           "517600",
           783
          ],
          [
           "Sozialleistungsbetrug",
           "517800",
           11726
          ],
          [
           "Missbräuchliche Nutzung von Telekommunikationsdiensten § 263a StGB",
           "517900",
           351
          ],
          [
           "Abrechnungsbetrug",
           "518100",
           12368
          ],
          [
           "Abrechnungsbetrug im Gesundheitswesen §§ 263, 263a StGB",
           "518110",
           11328
          ],
          [
           "Abrechnungsbetrug im Gesundheitswesen § 263 StGB",
           "518111",
           11318
          ],
          [
           "Abrechnungsbetrug im Gesundheitswesen § 263a StGB",
           "518112",
           10
          ],
          [
           "Sonstiger Abrechnungsbetrug",
           "518179",
           1040
          ],
          [
           "Einmietbetrug",
           "518200",
           3571
          ],
          [
           "Überweisungsbetrug §§ 263, 263a StGB",
           "518300",
           12663
          ],
          [
           "Überweisungsbetrug § 263 StGB",
           "518301",
           11098
          ],
          [
           "Überweisungsbetrug § 263a StGB",
           "518302",
           1565
          ],
          [
           "Sportwettbetrug und Manipulation von berufssportlichen Wettbewerben §§ 265c-e StGB",
           "518500",
           3
          ],
          [
           "Sportwettbetrug §§ 265c, 265e StGB",
           "518510",
           2
          ],
          [
           "Manipulation von berufssportlichen Wettbewerben §§ 265d, 265e StGB",
           "518520",
           1
          ],
          [
           "Kreditvermittlungsbetrug § 263 StGB",
           "518800",
           436
          ],
          [
           "Sonstige weitere Betrugsarten",
           "518900",
           151030
          ],
          [
           "Veruntreuungen §§ 266, 266a, 266b StGB",
           "520000",
           12213
          ],
          [
           "Untreue § 266 StGB",
           "521000",
           4721
          ],
          [
           "Sonstige Untreue",
           "521079",
           4672
          ],
          [
           "Untreue bei Kapitalanlagegeschäften",
           "521100",
           49
          ],
          [
           "Vorenthalten und Veruntreuen von Arbeitsentgelt § 266a StGB",
           "522000",
           6951
          ],
          [
           "Missbrauch von Scheck- und Kreditkarten § 266b StGB",
           "523000",
           541
          ],
          [
           "Unterschlagung §§ 246, 247, 248a StGB",
           "530000",
           98498
          ],
          [
           "Unterschlagung sonstiger Güter/Sachen §§ 246, 247, 248a StGB - ohne von Kfz",
           "530079",
           90975
          ],
          [
           "Unterschlagung von Kfz §§ 246, 247 StGB",
           "531000",
           7523
          ],
          [
           "Urkundenfälschung §§ 267-271, 273-279, 281 StGB",
           "540000",
           90799
          ],
          [
           "Sonstige Urkundenfälschung § 267 StGB",
           "540001",
           59965
          ],
          [
           "Mittelbare Falschbeurkundung",
           "540002",
           1957
          ],
          [
           "Verändern von amtlichen Ausweisen",
           "540003",
           400
          ],
          [
           "Urkundenunterdrückung, Veränderung einer Grenzbezeichnung § 274 StGB",
           "540004",
           689
          ],
          [
           "Vorbereitung der Fälschung von amtlichen Ausweisen",
           "540005",
           302
          ],
          [
           "Verschaffen von falschen amtlichen Ausweisen",
           "540006",
           2332
          ],
          [
           "Fälschung von Gesundheitszeugnissen",
           "540007",
           1052
          ],
          [
           "Ausstellen unrichtiger Gesundheitszeugnisse",
           "540008",
           1693
          ],
          [
           "Gebrauch unrichtiger Gesundheitszeugnisse",
           "540009",
           4541
          ],
          [
           "Missbrauch von Ausweispapieren",
           "540010",
           2553
          ],
          [
           "Fälschung technischer Aufzeichnungen § 268 StGB",
           "541000",
           365
          ],
          [
           "Manipulation von Fahrtenschreibern und EG-Kontrollgeräten § 268 StGB",
           "541001",
           76
          ],
          [
           "Sonstige Fälschung technischer Aufzeichnungen",
           "541079",
           289
          ],
          [
           "Fälschung zur Erlangung von Betäubungsmitteln",
           "542000",
           1560
          ],
          [
           "Fälschung beweiserheblicher Daten, Täuschung im Rechtsverkehr bei Datenverarbeitung §§ 269, 270 StGB",
           "543000",
           13390
          ],
          [
           "Fälschung beweiserheblicher Daten § 269 StGB",
           "543010",
           12844
          ],
          [
           "Täuschung im Rechtsverkehr bei Datenverarbeitung § 270 StGB",
           "543020",
           546
          ],
          [
           "Geld- und Wertzeichenfälschung, Fälschung von Zahlungskarten mit oder ohne Garantiefunktion, Schecks und Wechseln §§ 146-149, 151, 152, 152a, 152b StGB",
           "550000",
           7208
          ],
          [
           "Gewerbs- oder bandenmäßige Geldfälschung §§ 146 Abs. 2, 151, 152 StGB",
           "550010",
           38
          ],
          [
           "Geld- und Wertzeichenfälschung einschl. Vorbereitungshandlungen §§ 146 außer Abs. 1 Nr. 3, 148, 149, 151, 152 StGB",
           "551000",
           1178
          ],
          [
           "Geldfälschung (einschl. Vorbereitungshandlung) §§ 146 außer Abs. 1 Nr. 3, 151, 152 StGB",
           "551010",
           1108
          ],
          [
           "Wertzeichenfälschung §§ 148, 152 StGB",
           "551020",
           12
          ],
          [
           "Vorbereitung der Fälschung von Geld und Wertzeichen §§ 149, 151, 152 StGB",
           "551030",
           58
          ],
          [
           "Inverkehrbringen von Falschgeld §§ 146 Abs. 1 Nr. 3, 147, 151, 152 StGB",
           "552000",
           4540
          ],
          [
           "Inverkehrbringen von Falschgeld § 146 Abs. 1 Nr. 3, 151, 152 StGB",
           "552010",
           3554
          ],
          [
           "Inverkehrbringen von Falschgeld (nach gutgläubigem Erwerb) § 147, 151, 152 StGB",
           "552020",
           986
          ],
          [
           "Fälschung von Zahlungskarten mit oder ohne Garantiefunktion, Schecks und Wechseln §§ 152a, 152b StGB",
           "553000",
           1452
          ],
          [
           "Gebrauch falscher Zahlungskarten mit oder ohne Garantiefunktion, Schecks und Wechsel §§ 152a, 152b StGB",
           "553100",
           952
          ],
          [
           "Gebrauch falscher Zahlungskarten ohne Garantiefunktion, Schecks und Wechsel",
           "553110",
           146
          ],
          [
           "Gebrauch falscher Zahlungskarten mit Garantiefunktion",
           "553120",
           806
          ],
          [
           "Nachmachen, Verfälschen, Verschaffen, Feilhalten oder Überlassen falscher Zahlungskarten mit oder ohne Garantiefunktion, Schecks und Wechsel §§ 152a, 152b StGB",
           "553200",
           500
          ],
          [
           "Nachmachen, Verfälschen, Verschaffen, Feilhalten oder Überlassen falscher Zahlungskarten ohne Garantiefunktion, Schecks und Wechsel",
           "553210",
           117
          ],
          [
           "Nachmachen, Verfälschen, Verschaffen, Feilhalten oder Überlassen falscher Zahlungskarten mit Garantiefunktion",
           "553220",
           383
          ],
          [
           "Insolvenzstraftaten §§ 283, 283a-d StGB",
           "560000",
           2726
          ],
          [
           "Bankrott § 283 StGB",
           "561000",
           2026
          ],
          [
           "Besonders schwerer Fall des Bankrotts § 283a StGB",
           "562000",
           10
          ],
          [
           "Verletzung der Buchführungspflicht § 283b StGB",
           "563000",
           634
          ],
          [
           "Gläubigerbegünstigung § 283c StGB",
           "564000",
           32
          ],
          [
           "Schuldnerbegünstigung § 283d StGB",
           "565000",
           24
          ],
          [
           "Sonstige Straftatbestände (StGB)",
           "600000",
           1115732
          ],
          [
           "Erpressung § 253 StGB",
           "610000",
           11899
          ],
          [
           "Schutzgelderpressung",
           "610001",
           71
          ],
          [
           "Sonstige Erpressung",
           "610079",
           7905
          ],
          [
           "Erpressung auf sexueller Grundlage",
           "611000",
           3923
          ],
          [
           "Widerstand gegen und tätlicher Angriff auf die Staatsgewalt und Straftaten gegen die öffentliche Ordnung §§ 111, 113-115, 120, 121, 123-127, 129, 130a-134, 136, 138, 140, 145, 145a, 145c, 145d StGB",
           "620000",
           158326
          ],
          [
           "Störung des öffentlichen Friedens durch Androhung von Straftaten",
           "620001",
           2818
          ],
          [
           "Bildung bewaffneter Gruppen § 127 StGB",
           "620002",
           5
          ],
          [
           "Bildung krimineller Vereinigungen",
           "620003",
           26
          ],
          [
           "Anleitung zu Straftaten",
           "620004",
           43
          ],
          [
           "Amtsanmaßung",
           "620005",
           1742
          ],
          [
           "Missbrauch von Titeln, Berufsbezeichnungen, Abzeichen",
           "620006",
           750
          ],
          [
           "Verwahrungsbruch",
           "620007",
           139
          ],
          [
           "Verletzung amtlicher Bekanntmachungen",
           "620008",
           1
          ],
          [
           "Verstrickungsbruch, Siegelbruch",
           "620009",
           956
          ],
          [
           "Nichtanzeige geplanter Straftaten",
           "620010",
           24
          ],
          [
           "Belohnung und Billigung von Straftaten",
           "620011",
           146
          ],
          [
           "Missbrauch von Notrufen und Beeinträchtigung von Unfallverhütungs- und Nothilfemitteln",
           "620013",
           12277
          ],
          [
           "Verstoß gegen Weisung während Führungsaufsicht",
           "620014",
           3684
          ],
          [
           "Verstoß gegen das Berufsverbot",
           "620015",
           7
          ],
          [
           "Widerstand gegen und tätlicher Angriff auf die Staatsgewalt §§ 111, 113-115, 120, 121 StGB",
           "621000",
           39239
          ],
          [
           "Öffentliche Aufforderung zu Straftaten",
           "621010",
           1007
          ],
          [
           "Gefangenenbefreiung",
           "621040",
           293
          ],
          [
           "Gefangenenmeuterei",
           "621050",
           6
          ],
          [
           "Widerstand gegen und tätlicher Angriff auf Vollstreckungsbeamte und gleichstehende Personen §§ 113-115 StGB",
           "621100",
           37933
          ],
          [
           "Widerstand gegen Vollstreckungsbeamte und gleichstehende Personen §§ 113, 115 StGB",
           "621110",
           21146
          ],
          [
           "Tätlicher Angriff auf Vollstreckungsbeamte und gleichstehende Personen §§ 114, 115 StGB",
           "621120",
           16787
          ],
          [
           "Hausfriedensbruch §§ 123, 124 StGB",
           "622000",
           87156
          ],
          [
           "Hausfriedensbruch § 123 StGB",
           "622100",
           87098
          ],
          [
           "Schwerer Hausfriedensbruch § 124 StGB",
           "622200",
           58
          ],
          [
           "Landfriedensbruch §§ 125, 125a StGB",
           "623000",
           1352
          ],
          [
           "Landfriedensbruch § 125 StGB",
           "623010",
           722
          ],
          [
           "Besonders schwerer Landfriedensbruch § 125a StGB",
           "623020",
           630
          ],
          [
           "Vortäuschen einer Straftat § 145d StGB",
           "624000",
           7258
          ],
          [
           "Vortäuschen einer Straftat gegen die sexuelle Selbstbestimmung",
           "624010",
           388
          ],
          [
           "Vortäuschen einer sonstigen Straftat",
           "624079",
           5521
          ],
          [
           "Vortäuschen eines Raubes",
           "624100",
           449
          ],
          [
           "Vortäuschen eines Diebstahls",
           "624200",
           900
          ],
          [
           "Vortäuschen eines Kfz-Diebstahls",
           "624201",
           336
          ],
          [
           "Vortäuschen eines sonstigen Diebstahls",
           "624279",
           564
          ],
          [
           "Gewaltdarstellung § 131 StGB",
           "626000",
           703
          ],
          [
           "Sonstige Gewaltdarstellung",
           "626079",
           526
          ],
          [
           "Gewaltdarstellung, Schriften an Personen unter 18 Jahren § 131 Abs. 1 Nr. 3 StGB",
           "626100",
           177
          ],
          [
           "Begünstigung, Strafvereitelung (ohne Strafvereitelung im Amt), Hehlerei und Geldwäsche §§ 257, 258, 259-261 StGB",
           "630000",
           27974
          ],
          [
           "Begünstigung",
           "630010",
           116
          ],
          [
           "Strafvereitelung",
           "630020",
           2494
          ],
          [
           "Hehlerei von Kfz §§ 259-260a StGB",
           "631000",
           1280
          ],
          [
           "Hehlerei von Kfz § 259 StGB",
           "631079",
           1028
          ],
          [
           "Gewerbsmäßige Hehlerei von Kfz § 260 Abs. 1 Nr. 1 StGB",
           "631100",
           109
          ],
          [
           "Bandenhehlerei von Kfz § 260 Abs. 1 Nr. 2 StGB",
           "631200",
           21
          ],
          [
           "Gewerbsmäßige Bandenhehlerei von Kfz § 260a StGB",
           "631300",
           122
          ],
          [
           "Sonstige Hehlerei §§ 259-260a StGB",
           "632000",
           9299
          ],
          [
           "Sonstige Hehlerei § 259 StGB",
           "632079",
           8593
          ],
          [
           "Sonstige gewerbsmäßige Hehlerei § 260 Abs. 1 Nr. 1 StGB",
           "632100",
           634
          ],
          [
           "Sonstige Bandenhehlerei § 260 Abs. 1 Nr. 2 StGB",
           "632200",
           20
          ],
          [
           "Sonstige Gewerbsmäßige Bandenhehlerei § 260a StGB",
           "632300",
           52
          ],
          [
           "Geldwäsche, Verschleierung unrechtmäßig erlangter Vermögenswerte § 261 StGB",
           "633000",
           14785
          ],
          [
           "Brandstiftung und Herbeiführen einer Brandgefahr §§ 306-306d, 306f StGB",
           "640000",
           17151
          ],
          [
           "Fahrlässige Brandstiftung",
           "640010",
           6289
          ],
          [
           "Fahrlässiges Herbeiführen einer Brandgefahr",
           "640020",
           354
          ],
          [
           "(Vorsätzliche) Brandstiftung und Herbeiführen einer Brandgefahr §§ 306-306c, 306f Abs. 1 und 2 StGB",
           "641000",
           10508
          ],
          [
           "Vorsätzliche Brandstiftung",
           "641010",
           7501
          ],
          [
           "Schwere Brandstiftung",
           "641020",
           2364
          ],
          [
           "Besonders schwere Brandstiftung",
           "641030",
           180
          ],
          [
           "Brandstiftung mit Todesfolge",
           "641040",
           1
          ],
          [
           "Vorsätzliches Herbeiführen einer Brandgefahr",
           "641050",
           462
          ],
          [
           "Wettbewerbs-, Korruptions- und Amtsdelikte §§ 258a, 298-300, 331-353d, 355, 357 StGB",
           "650000",
           5110
          ],
          [
           "Vorteilsannahme, Bestechlichkeit §§ 331, 332, 335 StGB",
           "651000",
           304
          ],
          [
           "Vorteilsannahme § 331 StGB",
           "651100",
           135
          ],
          [
           "Bestechlichkeit § 332 StGB",
           "651200",
           155
          ],
          [
           "Bestechlichkeit - gewerbsmäßig oder als Mitglied einer Bande § 335 Abs. 2 Nr. 3 StGB",
           "651300",
           3
          ],
          [
           "Alle sonstigen besonders schweren Fälle der Bestechlichkeit § 335 StGB",
           "651400",
           11
          ],
          [
           "Vorteilsgewährung, Bestechung §§ 333, 334, 335 StGB",
           "652000",
           408
          ],
          [
           "Vorteilsgewährung § 333 StGB",
           "652100",
           66
          ],
          [
           "Bestechung § 334 StGB",
           "652200",
           333
          ],
          [
           "Bestechung - gewerbsmäßig oder als Mitglied einer Bande nach § 335 Abs. 2 Nr. 3 StGB",
           "652300",
           6
          ],
          [
           "Alle sonstigen besonders schweren Fälle der Bestechung nach § 335 StGB",
           "652400",
           3
          ],
          [
           "Sonstige Straftaten im Amt §§ 258a, 339-353d, 355, 357 StGB",
           "655000",
           3818
          ],
          [
           "Strafvereitelung im Amt",
           "655001",
           554
          ],
          [
           "Rechtsbeugung",
           "655002",
           193
          ],
          [
           "Aussageerpressung",
           "655003",
           5
          ],
          [
           "Verfolgung Unschuldiger",
           "655004",
           109
          ],
          [
           "Vollstreckung gegen Unschuldige",
           "655005",
           6
          ],
          [
           "Falschbeurkundung im Amt",
           "655006",
           298
          ],
          [
           "Gebührenüberhebung",
           "655007",
           45
          ],
          [
           "Abgabenüberhebung, Leistungskürzung",
           "655008",
           2
          ],
          [
           "Vertrauensbruch im auswärtigen Dienst",
           "655009",
           0
          ],
          [
           "Verbotene Mitteilungen über Gerichtsverhandlungen",
           "655010",
           72
          ],
          [
           "Verletzung des Steuergeheimnisses",
           "655011",
           4
          ],
          [
           "Verleitung eines Untergebenen zu Straftaten",
           "655012",
           2
          ],
          [
           "Körperverletzung im Amt § 340 StGB",
           "655100",
           2084
          ],
          [
           "Verletzung des Dienstgeheimnisses § 353b StGB",
           "655200",
           444
          ],
          [
           "Wettbewerbsbeschränkende Absprachen bei Ausschreibungen § 298 StGB",
           "656000",
           222
          ],
          [
           "Bestechlichkeit und Bestechung im geschäftlichen Verkehr und im Gesundheitswesen §§ 299, 299a, 299b und 300 StGB",
           "657000",
           358
          ],
          [
           "Bestechlichkeit und Bestechung § 299 StGB",
           "657100",
           305
          ],
          [
           "Bestechlichkeit und Bestechung, gewerbsmäßig oder als Mitglied einer Bande § 300 Satz 2 Nr. 2 StGB",
           "657200",
           15
          ],
          [
           "Bestechlichkeit und Bestechung, Vorteil großen Ausmaßes § 300 Satz 2 Nr. 1 StGB",
           "657300",
           5
          ],
          [
           "Bestechlichkeit im Gesundheitswesen",
           "657400",
           21
          ],
          [
           "Bestechung im Gesundheitswesen",
           "657500",
           12
          ],
          [
           "Strafbarer Eigennutz §§ 284, 285, 287-293, 297 StGB",
           "660000",
           7182
          ],
          [
           "Vereiteln der Zwangsvollstreckung",
           "660010",
           350
          ],
          [
           "Pfandkehr",
           "660020",
           222
          ],
          [
           "Unbefugter Gebrauch von Pfandsachen",
           "660030",
           1
          ],
          [
           "Gefährdung von Schiffen, Kraft- und Luftfahrzeugen durch Bannware",
           "660040",
           0
          ],
          [
           "Glücksspiel §§ 284, 285, 287 StGB",
           "661000",
           1907
          ],
          [
           "Unerlaubte Veranstaltung eines Glücksspiels",
           "661010",
           860
          ],
          [
           "Beteiligung am unerlaubten Glückspiel",
           "661020",
           1040
          ],
          [
           "Unerlaubte Veranstaltung einer Lotterie oder Ausspielung",
           "661030",
           7
          ],
          [
           "Wilderei §§ 292, 293 StGB",
           "662000",
           2983
          ],
          [
           "Fischwilderei",
           "662001",
           1958
          ],
          [
           "Jagdwilderei § 292 StGB",
           "662100",
           1025
          ],
          [
           "Wucher § 291 StGB",
           "663000",
           1719
          ],
          [
           "Alle sonstigen Straftaten gemäß StGB - ohne Verkehrsdelikte -",
           "670000",
           888090
          ],
          [
           "Falsche uneidliche Aussage (Falschaussage)",
           "670001",
           3422
          ],
          [
           "Meineid",
           "670002",
           76
          ],
          [
           "Falsche Versicherung an Eides statt",
           "670003",
           3181
          ],
          [
           "Verleitung zur Falschaussage",
           "670005",
           106
          ],
          [
           "Fahrlässiger Falscheid, fahrlässige falsche Versicherung an Eides statt",
           "670006",
           10
          ],
          [
           "Falsche Verdächtigung",
           "670007",
           16982
          ],
          [
           "Beschimpfung von Bekenntnissen, Religionsgemeinschaften und Weltanschauungsvereinigungen",
           "670008",
           95
          ],
          [
           "Störung der Religionsausübung",
           "670009",
           57
          ],
          [
           "Störung einer Bestattungsfeier",
           "670010",
           6
          ],
          [
           "Störung der Totenruhe",
           "670011",
           1286
          ],
          [
           "Personenstandsfälschung",
           "670012",
           30
          ],
          [
           "Doppelehe",
           "670013",
           13
          ],
          [
           "Beischlaf zwischen Verwandten",
           "670014",
           37
          ],
          [
           "Üble Nachrede und Verleumdung gegen Personen des politischen Lebens",
           "670015",
           748
          ],
          [
           "Verletzung der Vertraulichkeit des Wortes",
           "670016",
           4349
          ],
          [
           "Verletzung des Briefgeheimnisses",
           "670017",
           3472
          ],
          [
           "Verletzung von Privatgeheimnissen",
           "670018",
           538
          ],
          [
           "Verwertung fremder Geheimnisse",
           "670019",
           9
          ],
          [
           "Verletzung des Post- u. Fernmeldegeheimnisses",
           "670020",
           3864
          ],
          [
           "Aussetzung",
           "670021",
           87
          ],
          [
           "Gefährliche Eingriffe in den Bahn-, Schiffs- und Luftverkehr",
           "670024",
           2686
          ],
          [
           "Gefährliche Eingriffe in den Straßenverkehr",
           "670025",
           16946
          ],
          [
           "Störung öffentlicher Betriebe",
           "670026",
           433
          ],
          [
           "Störung von Telekommunikationsanlagen",
           "670027",
           702
          ],
          [
           "Baugefährdung",
           "670029",
           118
          ],
          [
           "Vollrausch",
           "670030",
           45
          ],
          [
           "Gefährdung einer Entziehungskur",
           "670031",
           16
          ],
          [
           "Unterlassene Hilfeleistung, Behinderung von hilfeleistenden Personen § 323c StGB",
           "670032",
           1986
          ],
          [
           "Parteiverrat",
           "670033",
           100
          ],
          [
           "Verletzung des höchstpersönlichen Lebensbereiches und von Persönlichkeitsrechten durch Bildaufnahmen § 201a StGB",
           "670034",
           8952
          ],
          [
           "Sonstige weitere Straftaten gemäß StGB",
           "670079",
           44
          ],
          [
           "Verletzung der Unterhaltspflicht § 170 StGB",
           "671000",
           2700
          ],
          [
           "Verletzung der Fürsorge- oder Erziehungspflicht § 171 StGB",
           "672000",
           1009
          ],
          [
           "Beleidigung §§ 185-187, 189 StGB",
           "673000",
           235335
          ],
          [
           "Beleidigung ohne sexuelle Grundlage",
           "673010",
           179699
          ],
          [
           "Üble Nachrede ohne sexuelle Grundlage",
           "673020",
           13385
          ],
          [
           "Verleumdung ohne sexuelle Grundlage",
           "673030",
           18224
          ],
          [
           "Verunglimpfung des Andenkens Verstorbener ohne sexuelle Grundlage",
           "673040",
           130
          ],
          [
           "Beleidigung auf sexueller Grundlage §§ 185-187, 189 StGB",
           "673100",
           23897
          ],
          [
           "Beleidigung auf sexueller Grundlage",
           "673110",
           21208
          ],
          [
           "Üble Nachrede auf sexueller Grundlage",
           "673120",
           1094
          ],
          [
           "Verleumdung auf sexueller Grundlage",
           "673130",
           1593
          ],
          [
           "Verunglimpfung des Andenkens Verstorbener auf sexueller Grundlage",
           "673140",
           2
          ],
          [
           "Sachbeschädigung §§ 303-305a StGB",
           "674000",
           550613
          ],
          [
           "Sachbeschädigung § 303 StGB ohne Schl. 674100 u. 674300",
           "674010",
           204996
          ],
          [
           "Sachbeschädigung durch Graffiti ohne Schl. 674111 u. 674311",
           "674011",
           43209
          ],
          [
           "Sachbeschädigung durch Feuer ohne Schl. 674312",
           "674012",
           10255
          ],
          [
           "Sonstige Sachbeschädigung ohne Schl. 674119 u. 674319",
           "674019",
           151532
          ],
          [
           "Gemeinschädliche Sachbeschädigung ohne Schl. 674320",
           "674020",
           10326
          ],
          [
           "Gemeinschädliche Sachbeschädigung durch Graffiti ohne Schl. 674321",
           "674021",
           3027
          ],
          [
           "Gemeinschädliche Sachbeschädigung durch Feuer ohne Schl. 674322",
           "674022",
           620
          ],
          [
           "Sonstige gemeinschädliche Sachbeschädigung ohne Schl. 674329",
           "674029",
           6679
          ],
          [
           "Zerstörung von Bauwerken ohne Schl. 674330",
           "674030",
           25
          ],
          [
           "Sachbeschädigung an Kfz",
           "674100",
           192132
          ],
          [
           "Sachbeschädigung durch Graffiti an Kfz",
           "674111",
           3973
          ],
          [
           "Sonstige Sachbeschädigung an Kfz",
           "674119",
           188159
          ],
          [
           "Datenveränderung, Computersabotage §§ 303a, 303b StGB",
           "674200",
           5053
          ],
          [
           "Datenveränderung",
           "674210",
           4188
          ],
          [
           "Computersabotage",
           "674220",
           865
          ],
          [
           "Sonstige Sachbeschädigung auf Straßen, Wegen oder Plätzen",
           "674300",
           137613
          ],
          [
           "Sonstige Sachbeschädigung auf Straßen, Wegen oder Plätzen § 303 StGB",
           "674310",
           122111
          ],
          [
           "Sonstige Sachbeschädigung durch Graffiti auf Straßen, Wegen oder Plätzen",
           "674311",
           47411
          ],
          [
           "Sonstige Sachbeschädigung durch Feuer auf Straßen, Wegen oder Plätzen",
           "674312",
           9386
          ],
          [
           "Sonstige Sachbeschädigung auf Straßen, Wegen oder Plätzen",
           "674319",
           65314
          ],
          [
           "Gemeinschädliche Sachbeschädigung auf Straßen, Wegen oder Plätzen",
           "674320",
           15486
          ],
          [
           "Gemeinschädliche Sachbeschädigung durch Graffiti auf Straßen, Wegen oder Plätzen",
           "674321",
           2938
          ],
          [
           "Gemeinschädliche Sachbeschädigung durch Feuer auf Straßen, Wegen oder Plätzen",
           "674322",
           816
          ],
          [
           "Sonstige gemeinschädliche Sachbeschädigung auf Straßen, Wegen oder Plätzen",
           "674329",
           11732
          ],
          [
           "Zerstörung von Bauwerken auf Straßen, Wegen oder Plätzen",
           "674330",
           16
          ],
          [
           "Zerstörung wichtiger Arbeitsmittel § 305a StGB",
           "674500",
           468
          ],
          [
           "Zerstörung wichtiger Arbeitsmittel durch Feuer",
           "674512",
           7
          ],
          [
           "Sonstige Zerstörung wichtiger Arbeitsmittel",
           "674519",
           461
          ],
          [
           "Sprengstoff- und Strahlungsverbrechen §§ 307-312 StGB",
           "675000",
           1540
          ],
          [
           "Herbeiführen einer Explosion durch Kernenergie § 307 StGB",
           "675100",
           0
          ],
          [
           "Herbeiführen einer Sprengstoffexplosion § 308 StGB",
           "675200",
           1527
          ],
          [
           "Missbrauch ionisierender Strahlen § 309 StGB",
           "675300",
           0
          ],
          [
           "Vorbereitung eines Explosions- oder Strahlungsverbrechens § 310 StGB",
           "675400",
           10
          ],
          [
           "Freisetzen ionisierender Strahlen § 311 StGB",
           "675500",
           3
          ],
          [
           "Fehlerhafte Herstellung einer kerntechnischen Anlage § 312 StGB",
           "675600",
           0
          ],
          [
           "Straftaten gegen die Umwelt §§ 324, 324a, 325-330a StGB",
           "676000",
           11563
          ],
          [
           "Bodenverunreinigung 324a StGB",
           "676010",
           996
          ],
          [
           "Bodenverunreinigung",
           "676011",
           956
          ],
          [
           "Bodenverunreinigung - besonders schwerer Fall",
           "676012",
           40
          ],
          [
           "Gewässerverunreinigung § 324 StGB",
           "676100",
           2420
          ],
          [
           "Gewässerverunreinigung",
           "676101",
           2400
          ],
          [
           "Gewässerverunreinigung - besonders schwerer Fall",
           "676102",
           20
          ],
          [
           "Luftverunreinigung § 325 StGB",
           "676200",
           75
          ],
          [
           "Luftverunreinigung",
           "676201",
           73
          ],
          [
           "Luftverunreinigung - besonders schwerer Fall",
           "676202",
           2
          ],
          [
           "Verursachen von Lärm, Erschütterungen und nichtionisierenden Strahlen § 325a StGB",
           "676300",
           19
          ],
          [
           "Verursachen von Lärm, Erschütterungen und nichtionisierenden Strahlen",
           "676301",
           19
          ],
          [
           "Verursachen von Lärm, Erschütterungen und nichtionisierenden Strahlen - besonders schwerer Fall",
           "676302",
           0
          ],
          [
           "Unerlaubter Umgang mit Abfällen § 326 außer Abs. 2 StGB",
           "676400",
           7550
          ],
          [
           "Unerlaubter Umgang mit Abfällen § 326 Abs. 1 StGB",
           "676410",
           7515
          ],
          [
           "Unerlaubter Umgang mit Abfällen § 326 Abs. 1 StGB",
           "676411",
           7321
          ],
          [
           "Unerlaubter Umgang mit Abfällen § 326 Abs. 1 StGB - besonders schwerer Fall",
           "676412",
           194
          ],
          [
           "Unerlaubter Umgang mit Abfällen § 326 Abs. 3 StGB",
           "676420",
           35
          ],
          [
           "Unerlaubter Umgang mit Abfällen § 326 Abs. 3 StGB",
           "676421",
           33
          ],
          [
           "Unerlaubter Umgang mit Abfällen § 326 Abs. 3 StGB - besonders schwerer Fall",
           "676422",
           2
          ],
          [
           "Unerlaubtes Betreiben von Anlagen § 327 StGB",
           "676500",
           312
          ],
          [
           "Unerlaubtes Betreiben von Anlagen § 327 StGB Abs. 1 (kerntechnische Anlage und Kernbrennstoffe)",
           "676510",
           0
          ],
          [
           "Unerlaubtes Betreiben von Anlagen § 327 Abs. 1 (kerntechnische Anlage und Kernbrennstoffe)",
           "676511",
           0
          ],
          [
           "Unerlaubtes Betreiben von Anlagen § 327 Abs. 1 (kerntechnische Anlage und Kernbrennstoffe) - besonders schwerer Fall",
           "676512",
           0
          ],
          [
           "Unerlaubtes Betreiben von Anlagen § 327 Abs. 2",
           "676520",
           312
          ],
          [
           "Unerlaubtes Betreiben von Anlagen § 327 Abs. 2",
           "676521",
           309
          ],
          [
           "Unerlaubtes Betreiben von Anlagen § 327 Abs. 2 - besonders schwerer Fall",
           "676522",
           3
          ],
          [
           "Unerlaubter Umgang mit radioaktiven Stoffen und anderen gefährlichen Gütern § 328 StGB",
           "676600",
           102
          ],
          [
           "Unerlaubter Umgang mit radioaktiven Stoffen § 328 StGB Abs. 1 und 2",
           "676610",
           10
          ],
          [
           "Unerlaubter Umgang mit radioaktiven Stoffen § 328 StGB Abs. 1 und 2",
           "676611",
           10
          ],
          [
           "Unerlaubter Umgang mit radioaktiven Stoffen § 328 StGB Abs. 1 und 2 - besonders schwerer Fall",
           "676612",
           0
          ],
          [
           "Unerlaubter Umgang mit anderen gefährlichen Stoffen und Gütern § 328 Abs. 3 StGB",
           "676620",
           92
          ],
          [
           "Unerlaubter Umgang mit anderen gefährlichen Stoffen und Gütern § 328 Abs. 3 StGB",
           "676621",
           89
          ],
          [
           "Unerlaubter Umgang mit anderen gefährlichen Stoffen und Gütern § 328 Abs. 3 StGB - besonders schwerer Fall",
           "676622",
           3
          ],
          [
           "Gefährdung schutzbedürftiger Gebiete § 329 StGB",
           "676700",
           24
          ],
          [
           "Gefährdung schutzbedürftiger Gebiete",
           "676701",
           22
          ],
          [
           "Gefährdung schutzbedürftiger Gebiete - besonders schwerer Fall",
           "676702",
           2
          ],
          [
           "Abfallein- / -aus- und -durchfuhr § 326 Abs. 2 StGB",
           "676800",
           23
          ],
          [
           "Ungenehmigte Einfuhr von Abfällen § 326 Abs. 2 StGB",
           "676810",
           5
          ],
          [
           "Ungenehmigte Einfuhr von Abfällen",
           "676811",
           5
          ],
          [
           "Ungenehmigte Einfuhr von Abfällen - besonders schwerer Fall",
           "676812",
           0
          ],
          [
           "Ungenehmigte Ausfuhr von Abfällen § 326 Abs. 2 StGB",
           "676820",
           17
          ],
          [
           "Ungenehmigte Ausfuhr von Abfällen",
           "676821",
           16
          ],
          [
           "Ungenehmigte Ausfuhr von Abfällen - besonders schwerer Fall",
           "676822",
           1
          ],
          [
           "Ungenehmigte Durchfuhr von Abfällen § 326 Abs. 2 StGB",
           "676830",
           1
          ],
          [
           "Ungenehmigte Durchfuhr von Abfällen",
           "676831",
           1
          ],
          [
           "Ungenehmigte Durchfuhr von Abfällen - besonders schwerer Fall",
           "676832",
           0
          ],
          [
           "Schwere Gefährdung durch Freisetzen von Giften § 330a StGB",
           "676900",
           42
          ],
          [
           "Gemeingefährliche Vergiftung § 314 StGB",
           "677000",
           5
          ],
          [
           "Ausspähen, Abfangen von Daten einschl. Vorbereitungshandlungen und Datenhehlerei §§ 202a, 202b, 202c, 202d StGB",
           "678000",
           14918
          ],
          [
           "Ausspähen von Daten § 202a StGB",
           "678010",
           13251
          ],
          [
           "Abfangen von Daten § 202b StGB",
           "678020",
           181
          ],
          [
           "Vorbereiten des Ausspähens und Abfangens von Daten § 202c StGB",
           "678030",
           1219
          ],
          [
           "Datenhehlerei",
           "678040",
           267
          ],
          [
           "Weitere Straftaten mit Umweltrelevanz gemäß StGB",
           "679000",
           11
          ],
          [
           "Herbeiführen einer Überschwemmung § 313 StGB",
           "679010",
           8
          ],
          [
           "Beschädigung wichtiger Anlagen § 318 StGB",
           "679020",
           3
          ],
          [
           "Strafrechtliche Nebengesetze",
           "700000",
           596194
          ],
          [
           "Straftaten gegen strafrechtliche Nebengesetze auf dem Wirtschaftssektor",
           "710000",
           21870
          ],
          [
           "Straftaten nach AktG, GenG, GmbHG, HGB, RechnungslegungsG, UmwandlungsG, InsO",
           "712000",
           4345
          ],
          [
           "Aktiengesetz",
           "712010",
           1
          ],
          [
           "Handelsgesetzbuch",
           "712020",
           32
          ],
          [
           "GmbH-Gesetz",
           "712030",
           142
          ],
          [
           "Genossenschaftsgesetz",
           "712040",
           4
          ],
          [
           "Rechnungslegungsgesetz",
           "712050",
           0
          ],
          [
           "Umwandlungsgesetz",
           "712060",
           0
          ],
          [
           "Insolvenzverschleppung § 15a InsO",
           "712200",
           4166
          ],
          [
           "Delikte im Zusammenhang mit Schwarzarbeitsbekämpfungsgesetz und Arbeitnehmerüberlassungsgesetz",
           "713000",
           237
          ],
          [
           "Arbeitnehmerüberlassungsgesetz",
           "713010",
           8
          ],
          [
           "Schwarzarbeitsbekämpfungsgesetz",
           "713030",
           229
          ],
          [
           "Straftaten i.V.m. dem Bankgewerbe sowie Wertpapierhandelsgesetz (Güd-Kreditwesen, BörsenG, DepotG, PfandBG, § 35 BundesbankG, ZAG)",
           "714000",
           142
          ],
          [
           "Bundesbankgesetz",
           "714010",
           0
          ],
          [
           "Börsengesetz",
           "714020",
           0
          ],
          [
           "Pfandbriefgesetz",
           "714030",
           0
          ],
          [
           "Kreditwesengesetz",
           "714040",
           66
          ],
          [
           "Depotgesetz",
           "714050",
           0
          ],
          [
           "Wertpapierhandelsgesetz",
           "714060",
           27
          ],
          [
           "Zahlungsdiensteaufsichtsgesetz",
           "714070",
           49
          ],
          [
           "Straftaten im Zusammenhang mit Urheberrechtsbestimmungen (UrheberrechtsG, MarkenG, § 23 Abs. 1, 2 und 4 GeschGehG, DesignG,GebrauchsmusterG, KunsturheberrechtsG, PatentG, HalbleiterschutzG)",
           "715000",
           9764
          ],
          [
           "Markengesetz",
           "715010",
           1752
          ],
          [
           "Designgesetz",
           "715020",
           18
          ],
          [
           "Gebrauchsmustergesetz",
           "715030",
           3
          ],
          [
           "Kunsturheberrechtsgesetz",
           "715040",
           5938
          ],
          [
           "Urheberrechtsgesetz -sonstige Verstöße- (ohne Schl. 715100 u. 715200)",
           "715050",
           1535
          ],
          [
           "Patentgesetz",
           "715060",
           6
          ],
          [
           "Halbleiterschutzgesetz",
           "715070",
           0
          ],
          [
           "Softwarepiraterie (private Anwendung z.B. Computerspiele)",
           "715100",
           244
          ],
          [
           "Softwarepiraterie in Form gewerbsmäßigen Handelns",
           "715200",
           35
          ],
          [
           "Verletzung von Geschäftsgeheimnissen § 23 Abs. 1 Nr. 3 und Abs. 4 GeschGehG",
           "715300",
           104
          ],
          [
           "Verletzung von Geschäftsgeheimnissen § 23 Abs. 1 Nr. 1, 2, Abs. 2 und 4 GeschGehG",
           "715400",
           129
          ],
          [
           "Straftaten im Zusammenhang mit Lebens- und Arzneimitteln (z.B. Lebensmittel- und Futtermittelgesetzbuch, ArzneimittelG, WeinG)",
           "716000",
           6720
          ],
          [
           "Straftaten nach dem Gentechnikgesetz",
           "716030",
           1
          ],
          [
           "Sonstige Straftaten im Zusammenhang mit Lebensmitteln - soweit nicht unter anderen Schlüsseln zu erfassen -",
           "716079",
           19
          ],
          [
           "Straftaten nach dem Lebensmittel- und Futtermittelgesetzbuch",
           "716100",
           1251
          ],
          [
           "Straftaten nach dem Weingesetz",
           "716300",
           81
          ],
          [
           "Straftaten nach dem Arzneimittelgesetz (AMG)",
           "716400",
           3604
          ],
          [
           "illegale Arzneimittel in der legalen Verteilerkette (iAMidlegV)",
           "716420",
           141
          ],
          [
           "Inverkehrbringen von bedenklichen Arzneimitteln (iAMidlegV)",
           "716421",
           79
          ],
          [
           "Inverkehrbringen von oder Handel treiben mit gefälschten Arzneimitteln, Wirkstoffen (iAMidlegV)",
           "716422",
           6
          ],
          [
           "Inverkehrbringen nicht zugelassener Arzneimittel (iAMidlegV)",
           "716423",
           56
          ],
          [
           "Arzneimittel in der illegalen Verteilerkette (AMidillegV)",
           "716430",
           1393
          ],
          [
           "Inverkehrbringen von bedenklichen Arzneimitteln (AMidillegV)",
           "716431",
           62
          ],
          [
           "Inverkehrbringen von oder Handel treiben mit gefälschten Arzneimitteln, Wirkstoffen (AMidillegV)",
           "716432",
           21
          ],
          [
           "Inverkehrbringen nicht zugelassener Arzneimittel, Illegaler Handel oder Abgabe von verschreibungspflichtigen Arzneimitteln §§ 96 Nr. 5, 95 (1) 4 AMG (AMidillegV)",
           "716433",
           1310
          ],
          [
           "Herstellen gefälschter Arzneimittel oder Wirkstoffe",
           "716440",
           3
          ],
          [
           "Illegaler Umgang mit Tierarzneimitteln",
           "716450",
           80
          ],
          [
           "Straftaten nach dem AMG § 95 Absatz 1 Nr. 2, 3, 5, 5a",
           "716460",
           1653
          ],
          [
           "Straftaten nach dem AMG § 96 ohne die Nummern 5, 15-18a und 20b",
           "716470",
           334
          ],
          [
           "Straftaten nach dem Anti-Doping-Gesetz (AntiDopG)",
           "716500",
           1764
          ],
          [
           "Herstellen, Inverkehrbringen, Verschreiben, Anwendung bei Dritten, Handel treiben, veräußern, abgeben von Dopingmitteln",
           "716510",
           315
          ],
          [
           "Erwerb, Besitz, Verbringung von Dopingmitteln",
           "716520",
           1394
          ],
          [
           "Selbstdoping (anwenden/ anwenden lassen), Erwerb und Besitz von Dopingmitteln, zur Verschaffung eines Vorteils im Wettbewerb",
           "716530",
           55
          ],
          [
           "sonstige Straftaten (Nebengesetze) auf dem Wirtschaftssektor (z.B. Rennwett- und LotterieG, § 23 Abs. 3 GeschGehG und UWG § 16, VersicherungsaufsichtsG, WirtschaftsstrafG, Gewerbeordnung)",
           "719000",
           662
          ],
          [
           "Rennwett- und Lotteriegesetz",
           "719010",
           0
          ],
          [
           "Gewerbeordnung",
           "719040",
           165
          ],
          [
           "Sonstige Nebengesetze auf dem Wirtschaftssektor",
           "719079",
           384
          ],
          [
           "Verletzung von Geschäftsgeheimnissen § 23 Abs. 3 GeschGehG, strafbare Werbung § 16 UWG",
           "719200",
           113
          ],
          [
           "Straftaten gegen sonstige strafrechtliche Nebengesetze -ohne Verkehrsdelikte-",
           "720000",
           202577
          ],
          [
           "Vereinsgesetz",
           "720001",
           468
          ],
          [
           "Versammlungsgesetze des Bundes und der Länder",
           "720002",
           2757
          ],
          [
           "Missbräuchliches Herstellen, Vertreiben oder Ausgeben von amtlichen Kennzeichen § 22a StVG",
           "720005",
           112
          ],
          [
           "Telekommunikation-Telemedien-Datenschutz-Gesetz",
           "720009",
           84
          ],
          [
           "Straftaten § 4 Gewaltschutzgesetz",
           "720011",
           11804
          ],
          [
           "Straftaten § 1 EU-Bestechungsgesetz (EUBestG)",
           "720012",
           1
          ],
          [
           "Straftaten gemäß § 2 des Gesetzes zur Bekämpfung internationaler Bestechung (IntBestG)",
           "720013",
           1
          ],
          [
           "Luftsicherheitsgesetz",
           "720014",
           1700
          ],
          [
           "Sonstige strafrechtliche Nebengesetze",
           "720079",
           1956
          ],
          [
           "Straftaten gegen § 27 Abs. 2 des Jugendschutzgesetzes",
           "721000",
           22
          ],
          [
           "Straftaten gegen § 27 Abs. 1 des Jugendschutzgesetzes",
           "722000",
           17
          ],
          [
           "Straftaten gegen § 24 des Passgesetzes",
           "724000",
           4
          ],
          [
           "Straftaten gegen das Aufenthalts-, das Asyl- und das Freizügigkeitsgesetz/EU",
           "725000",
           146853
          ],
          [
           "Unerlaubte Einreise § 95 Abs. 1 Nr. 3 und Abs. 2 Nr.1a Aufenthaltsgesetz",
           "725100",
           41290
          ],
          [
           "Unerlaubte Einreise § 95 Abs. 1 Nr. 3 Aufenthaltsgesetz",
           "725110",
           39609
          ],
          [
           "Unerlaubte Wiedereinreise entgegen oder in Zuwiderhandlung eines Einreise- und Aufenthaltsverbotes § 95 Abs. 2 Nr. 1a AufenthG",
           "725120",
           1681
          ],
          [
           "Einschleusen von Ausländern § 96 Aufenthaltsgesetz",
           "725200",
           3628
          ],
          [
           "Einschleusen von Ausländern § 96 Abs. 1 und 4 Aufenthaltsgesetz",
           "725210",
           2855
          ],
          [
           "Einschleusen von Ausländern § 96 Abs. 2 Aufenthaltsgesetz",
           "725220",
           773
          ],
          [
           "Erschleichen eines Aufenthaltstitels (§ 95 Abs. 2 Nr. 2 Aufenthaltsgesetz) durch unrichtige oder unvollständige Angaben oder Gebrauch eines so beschafften Aufenthaltstitels zur Täuschung im Rechtsverkehr",
           "725300",
           2980
          ],
          [
           "Erschleichen oder Gebrauch eines Aufenthaltstitels (Visum)",
           "725310",
           1913
          ],
          [
           "Erschleichen oder Gebrauch eines Aufenthaltstitels (Visum) durch Scheinehe",
           "725311",
           106
          ],
          [
           "Erschleichen oder Gebrauch eines Aufenthaltstitels (Visum) durch sonstigen Modus Operandi",
           "725312",
           1807
          ],
          [
           "Erschleichen oder Gebrauch eines Aufenthaltstitels (Aufenthaltserlaubnis oder Niederlassungsbefugnis)",
           "725320",
           1067
          ],
          [
           "Erschleichen oder Gebrauch eines Aufenthaltstitels (Aufenthaltserlaubnis oder Niederlassungsbefugnis) durch Scheinehe",
           "725321",
           241
          ],
          [
           "Erschleichen oder Gebrauch eines Aufenthaltstitels (Aufenthaltserlaubnis oder Niederlassungsbefugnis) durch sonstigen Modus Operandi",
           "725322",
           826
          ],
          [
           "Einschleusen mit Todesfolge, gewerbs- und bandenmäßiges Einschleusen von Ausländern § 97 Aufenthaltsgesetz",
           "725400",
           183
          ],
          [
           "Einschleusen mit Todesfolge § 97 Abs. 1 Aufenthaltsgesetz",
           "725410",
           1
          ],
          [
           "Gewerbs- und bandenmäßiges Einschleusen von Ausländern § 97 Abs. 2 Aufenthaltsgesetz",
           "725420",
           182
          ],
          [
           "Straftaten gegen §§ 84, 85 Asylgesetz",
           "725500",
           874
          ],
          [
           "Straftaten gegen § 84 Asylgesetz",
           "725510",
           16
          ],
          [
           "Straftaten gegen § 85 Asylgesetz",
           "725520",
           858
          ],
          [
           "Gewerbs- und bandenmäßige Verleitung zur missbräuchlichen Asylantragstellung § 84a Asylgesetz",
           "725600",
           2
          ],
          [
           "Unerlaubter Aufenthalt § 95 Abs. 1 Nr. 1, 2 und Abs. 2 Nr. 1b Aufenthaltsgesetz",
           "725700",
           92456
          ],
          [
           "Unerlaubter Aufenthalt § 95 Abs. 1 Nr. 1 und 2 Aufenthaltsgesetz",
           "725710",
           90836
          ],
          [
           "Unerlaubter Aufenthalt ohne unerlaubte Einreise",
           "725711",
           24946
          ],
          [
           "Unerlaubter Aufenthalt nach unerlaubter/ungeklärter Einreise",
           "725712",
           65890
          ],
          [
           "Unerlaubter Aufenthalt entgegen oder in Zuwiderhandlung eines Einreise- und Aufenthaltsverbotes § 95 Abs. 2 Nr. 1b AufenthG",
           "725720",
           1620
          ],
          [
           "Straftaten gegen § 9 FreizügG/EU",
           "725800",
           949
          ],
          [
           "Sonstige Verstöße gegen das Aufenthaltsgesetz",
           "725900",
           4491
          ],
          [
           "Straftaten gegen das Sprengstoff-, das Waffen- und das Kriegswaffenkontrollgesetz",
           "726000",
           35656
          ],
          [
           "Straftaten gegen das Sprengstoffgesetz",
           "726100",
           3353
          ],
          [
           "Straftaten gegen das Waffengesetz",
           "726200",
           31672
          ],
          [
           "Straftaten gegen das Kriegswaffenkontrollgesetz",
           "726300",
           631
          ],
          [
           "Straftaten nach dem Kulturgutschutzgesetz (KGSG)",
           "727000",
           22
          ],
          [
           "Illegale Ausfuhr von Kulturgut § 83 Abs. 1 Nr. 1, 2 und Abs. 2 KGSG",
           "727100",
           1
          ],
          [
           "Illegale Einfuhr von Kulturgut § 83 Abs. 1 Nr. 3 KGSG",
           "727200",
           8
          ],
          [
           "Illegaler Handel mit Kulturgut § 83 Abs. 1 Nr. 4, 5 und Abs. 5 KGSG",
           "727300",
           9
          ],
          [
           "Beschädigung, Zerstörung oder Veränderung von Kulturgut § 83 Abs. 3 KGSG",
           "727400",
           4
          ],
          [
           "Straftaten gegen das Bundes- (oder Landes-) Datenschutzgesetz",
           "728000",
           1120
          ],
          [
           "Straftaten gegen Landesdatenschutzgesetz",
           "728010",
           195
          ],
          [
           "Straftaten gegen das Bundesdatenschutzgesetz",
           "728020",
           925
          ],
          [
           "Rauschgiftdelikte (soweit nicht bereits mit anderer Schlüsselzahl erfasst)",
           "730000",
           361048
          ],
          [
           "Allgemeine Verstöße § 29 BtMG (soweit nicht unter 7340 pp. zu erfassen)",
           "731000",
           280204
          ],
          [
           "Allgemeiner Verstoß mit Heroin",
           "731100",
           8626
          ],
          [
           "Allgemeiner Verstoß mit Kokain einschl. Crack",
           "731200",
           19500
          ],
          [
           "Allgemeiner Verstoß mit Crack",
           "731201",
           2287
          ],
          [
           "Allgemeiner Verstoß mit Kokain",
           "731202",
           17213
          ],
          [
           "Allgemeiner Verstoß mit LSD",
           "731300",
           897
          ],
          [
           "Allgemeiner Verstoß mit NPS (BtMG)",
           "731400",
           2925
          ],
          [
           "Allgemeiner Verstoß mit Amphetamin und seinen Derivaten in Pulver- oder flüssiger sowie in Tabletten- bzw. Kapselform (Ecstasy)",
           "731600",
           38745
          ],
          [
           "Allgemeiner Verstoß mit Amphetamin und seinen Derivaten in Pulver- oder flüssiger Form",
           "731601",
           32280
          ],
          [
           "Allgemeiner Verstoß mit Amphetamin und seinen Derivaten in Tabletten- bzw. Kapselform (Ecstasy)",
           "731602",
           6465
          ],
          [
           "Allgemeiner Verstoß mit Methamphetamin in Pulver-, kristalliner oder flüssiger sowie in Tabletten- bzw. Kapselform",
           "731700",
           11535
          ],
          [
           "Allgemeiner Verstoß mit Methamphetamin in Pulver- oder flüssiger Form",
           "731701",
           1191
          ],
          [
           "Allgemeiner Verstoß mit Methamphetamin in kristalliner Form (Crystal)",
           "731702",
           9966
          ],
          [
           "Allgemeiner Verstoß mit Methamphetamin in Tabletten- bzw. Kapselform",
           "731703",
           378
          ],
          [
           "Allgemeiner Verstoß mit Cannabis und Zubereitungen",
           "731800",
           181040
          ],
          [
           "Allgemeiner Verstoß mit sonstigen Betäubungsmitteln",
           "731900",
           16936
          ],
          [
           "Unerlaubter Handel mit und Schmuggel von Rauschgiften § 29 BtMG",
           "732000",
           54182
          ],
          [
           "Unerlaubter Handel mit und Schmuggel von Heroin",
           "732100",
           2050
          ],
          [
           "Unerlaubter Handel mit Heroin",
           "732110",
           1808
          ],
          [
           "Schmuggel von Heroin",
           "732120",
           242
          ],
          [
           "Unerlaubter Handel mit und Schmuggel von Kokain einschl. Crack",
           "732200",
           4925
          ],
          [
           "Unerlaubter Handel mit Kokain einschl. Crack",
           "732210",
           4278
          ],
          [
           "Unerlaubter Handel mit Crack",
           "732211",
           218
          ],
          [
           "Unerlaubter Handel mit Kokain",
           "732212",
           4060
          ],
          [
           "Schmuggel von Kokain einschl. Crack",
           "732220",
           647
          ],
          [
           "Schmuggel von Crack",
           "732221",
           7
          ],
          [
           "Schmuggel von Kokain",
           "732222",
           640
          ],
          [
           "Unerlaubter Handel mit und Schmuggel von LSD",
           "732300",
           220
          ],
          [
           "Unerlaubter Handel mit LSD",
           "732310",
           146
          ],
          [
           "Schmuggel von LSD",
           "732320",
           74
          ],
          [
           "Unerlaubter Handel mit und Schmuggel von NPS (BtMG)",
           "732400",
           698
          ],
          [
           "Unerlaubter Handel mit NPS (BtMG)",
           "732410",
           377
          ],
          [
           "Schmuggel von NPS (BtMG)",
           "732420",
           321
          ],
          [
           "Unerlaubter Handel mit und Schmuggel von Amphetamin und seinen Derivaten in Pulver- oder flüssiger sowie in Tabletten- bzw. Kapselform (Ecstasy)",
           "732600",
           6834
          ],
          [
           "Unerlaubter Handel mit Amphetamin und seinen Derivaten in Pulver- oder flüssiger sowie in Tabletten- bzw. Kapselform (Ecstasy)",
           "732610",
           5542
          ],
          [
           "Unerlaubter Handel mit Amphetamin und seinen Derivaten in Pulver- oder flüssiger Form",
           "732611",
           4012
          ],
          [
           "Unerlaubter Handel mit Amphetamin und seinen Derivaten in Tabletten- bzw. Kapselform (Ecstasy)",
           "732612",
           1530
          ],
          [
           "Schmuggel von Amphetamin und seinen Derivaten in Pulver- oder flüssiger sowie in Tabletten- bzw. Kapselform (Ecstasy)",
           "732620",
           1292
          ],
          [
           "Schmuggel von Amphetamin und seinen Derivaten in Pulver- oder flüssiger Form",
           "732621",
           997
          ],
          [
           "Schmuggel von Amphetamin und seinen Derivaten in Tabletten- bzw. Kapselform (Ecstasy)",
           "732622",
           295
          ],
          [
           "Unerlaubter Handel mit und Schmuggel von Methamphetamin in Pulver-, kristalliner oder flüssiger sowie in Tabletten- bzw. Kapselform",
           "732700",
           2068
          ],
          [
           "Unerlaubter Handel mit Methamphetamin in Pulver-, kristalliner oder flüssiger sowie in Tabletten- bzw. Kapselform",
           "732710",
           1588
          ],
          [
           "Unerlaubter Handel mit Methamphetamin in Pulver- oder flüssiger Form",
           "732711",
           129
          ],
          [
           "Unerlaubter Handel mit Methamphetamin in kristalliner Form (Crystal)",
           "732712",
           1382
          ],
          [
           "Unerlaubter Handel mit Methamphetamin in Tabletten- bzw. Kapselform",
           "732713",
           77
          ],
          [
           "Schmuggel von Methamphetamin in Pulver-, kristalliner oder flüssiger sowie in Tabletten- bzw. Kapselform",
           "732720",
           480
          ],
          [
           "Schmuggel von Methamphetamin in Pulver- oder flüssiger Form",
           "732721",
           36
          ],
          [
           "Schmuggel von Methamphetamin in kristalliner Form (Crystal)",
           "732722",
           436
          ],
          [
           "Schmuggel von Methamphetamin in Tabletten- bzw. Kapselform",
           "732723",
           8
          ],
          [
           "Unerlaubter Handel mit und Schmuggel von Cannabis und Zubereitungen",
           "732800",
           32312
          ],
          [
           "Unerlaubter Handel mit Cannabis und Zubereitungen",
           "732810",
           24495
          ],
          [
           "Schmuggel von Cannabis und Zubereitungen",
           "732820",
           7817
          ],
          [
           "Unerlaubter Handel mit und Schmuggel von sonstigen Betäubungsmitteln",
           "732900",
           5075
          ],
          [
           "Unerlaubter Handel mit sonstigen Betäubungsmitteln",
           "732910",
           3942
          ],
          [
           "Schmuggel von sonstigen Betäubungsmitteln",
           "732920",
           1133
          ],
          [
           "Unerlaubte Einfuhr von Betäubungsmitteln § 30 Abs. 1 Nr. 4 BtMG (in nicht geringer Menge)",
           "733000",
           1759
          ],
          [
           "Unerlaubte Einfuhr in nicht geringer Menge von Heroin",
           "733100",
           170
          ],
          [
           "Unerlaubte Einfuhr in nicht geringer Menge von Kokain einschl. Crack",
           "733200",
           303
          ],
          [
           "Unerlaubte Einfuhr in nicht geringer Menge von Crack",
           "733201",
           1
          ],
          [
           "Unerlaubte Einfuhr in nicht geringer Menge von Kokain",
           "733202",
           302
          ],
          [
           "Unerlaubte Einfuhr in nicht geringer Menge von LSD",
           "733300",
           10
          ],
          [
           "Unerlaubte Einfuhr in nicht geringer Menge von NPS (BtMG)",
           "733400",
           28
          ],
          [
           "Unerlaubte Einfuhr in nicht geringer Menge von Amphetamin und seinen Derivaten in Pulver- oder flüssiger sowie in Tabletten- bzw. Kapselform (Ecstasy)",
           "733600",
           266
          ],
          [
           "Unerlaubte Einfuhr in nicht geringer Menge von Amphetamin und seinen Derivaten in Pulver- oder flüssiger Form",
           "733601",
           222
          ],
          [
           "Unerlaubte Einfuhr in nicht geringer Menge von Amphetamin und seinen Derivaten in Tabletten- bzw. Kapselform (Ecstasy)",
           "733602",
           44
          ],
          [
           "Unerlaubte Einfuhr in nicht geringer Menge von Methamphetamin in Pulver-, kristalliner oder flüssiger sowie in Tabletten- bzw. Kapselform",
           "733700",
           102
          ],
          [
           "Unerlaubte Einfuhr in nicht geringer Menge von Methamphetamin in Pulver- oder flüssiger Form",
           "733701",
           7
          ],
          [
           "Unerlaubte Einfuhr in nicht geringer Menge von Methamphetamin in kristalliner Form (Crystal)",
           "733702",
           94
          ],
          [
           "Unerlaubte Einfuhr in nicht geringer Menge von Methamphetamin in Tabletten- bzw. Kapselform",
           "733703",
           1
          ],
          [
           "Unerlaubte Einfuhr in nicht geringer Menge von Cannabis und Zubereitungen",
           "733800",
           748
          ],
          [
           "Unerlaubte Einfuhr in nicht geringer Menge von sonstigen Betäubungsmitteln",
           "733900",
           132
          ],
          [
           "Sonstige Verstöße gegen das BtMG",
           "734000",
           24132
          ],
          [
           "Unerlaubter Anbau von Betäubungsmitteln § 29 Abs. 1 Nr. 1 BtMG",
           "734100",
           4196
          ],
          [
           "Betäubungsmittelanbau, -herstellung und -handel §§ 30 Abs. 1 Nr. 1, 30a BtMG",
           "734200",
           2181
          ],
          [
           "Verstöße gemäß § 30 Abs. 1 Nr. 1 BtMG",
           "734210",
           155
          ],
          [
           "Verstöße gemäß § 30a BtMG",
           "734220",
           2026
          ],
          [
           "Bereitstellung von Geldmitteln oder anderen Vermögensgegenständen § 29 Abs. 1 Nr. 13 BtMG",
           "734300",
           19
          ],
          [
           "Werbung für Betäubungsmittel § 29 Abs. 1 Nr. 8 BtMG",
           "734400",
           5
          ],
          [
           "Abgabe, Verabreichung oder Überlassung von Betäubungsmitteln an Minderjährige § 29a Abs. 1 Nr. 1, ggf. § 30 Abs. 1 Nr. 2 BtMG",
           "734500",
           2129
          ],
          [
           "Abgabe, Verabreichung oder Überlassung von Betäubungsmitteln an Minderjährige § 29a Abs. 1 Nr. 1 BtMG",
           "734510",
           1996
          ],
          [
           "Gewerbsmäßige Abgabe, Verabreichung oder Überlassung von Betäubungsmitteln an Minderjährige § 30 Abs. 1 Nr. 2 BtMG",
           "734520",
           133
          ],
          [
           "Leichtfertige Verursachung des Todes eines Anderen durch Abgabe pp. von Betäubungsmitteln § 30 Abs. 1 Nr. 3 BtMG",
           "734600",
           36
          ],
          [
           "Unerlaubte Verschreibung und Verabreichung durch Ärzte § 29 Abs. 1 Nr. 6 BtMG",
           "734700",
           86
          ],
          [
           "Unerlaubte(r) Handel, Herstellung, Abgabe und Besitz in nicht geringer Menge von Betäubungsmitteln § 29a Abs. 1 Nr. 2 BtMG",
           "734800",
           15480
          ],
          [
           "Unerlaubte(r) Abgabe und Besitz in nicht geringer Menge § 29a Abs. 1 Nr. 2 BtMG",
           "734810",
           3691
          ],
          [
           "Unerlaubte(r) Abgabe und Besitz in nicht geringer Menge von Heroin",
           "734811",
           192
          ],
          [
           "Unerlaubte(r) Abgabe und Besitz in nicht geringer Menge von Kokain einschl. Crack",
           "734812",
           370
          ],
          [
           "Unerlaubte(r) Abgabe und Besitz in nicht geringer Menge von LSD",
           "734813",
           5
          ],
          [
           "Unerlaubte(r) Abgabe und Besitz in nicht geringer Menge von NPS (BtMG)",
           "734814",
           323
          ],
          [
           "Unerlaubte(r) Abgabe und Besitz in nicht geringer Menge von Amphetamin und seinen Derivaten in Pulver- oder flüssiger sowie in Tabletten- bzw. Kapselform (Ecstasy)",
           "734816",
           561
          ],
          [
           "Unerlaubte(r) Abgabe und Besitz in nicht geringer Menge von Methamphetamin in Pulver-, kristalliner oder flüssiger sowie in Tabletten- bzw. Kapselform",
           "734817",
           206
          ],
          [
           "Unerlaubte(r) Abgabe und Besitz in nicht geringer Menge von Cannabis und Zubereitungen",
           "734818",
           1811
          ],
          [
           "Unerlaubte(r) Abgabe und Besitz in nicht geringer Menge von sonstigen Betäubungsmitteln",
           "734819",
           223
          ],
          [
           "Unerlaubter Handel in nicht geringer Menge § 29a Abs. 1 Nr. 2 BtMG",
           "734820",
           11122
          ],
          [
           "Unerlaubter Handel in nicht geringer Menge von Heroin",
           "734821",
           467
          ],
          [
           "Unerlaubter Handel in nicht geringer Menge von Kokain einschl. Crack",
           "734822",
           1731
          ],
          [
           "Unerlaubter Handel in nicht geringer Menge von LSD",
           "734823",
           12
          ],
          [
           "Unerlaubter Handel in nicht geringer Menge von NPS (BtMG)",
           "734824",
           77
          ],
          [
           "Unerlaubter Handel in nicht geringer Menge mit Amphetamin und seinen Derivaten in Pulver- oder flüssiger sowie in Tabletten- bzw. Kapselform (Ecstasy)",
           "734826",
           1681
          ],
          [
           "Unerlaubter Handel in nicht geringer Menge mit Methamphetamin in Pulver-, kristalliner oder flüssiger sowie in Tabletten- bzw. Kapselform",
           "734827",
           818
          ],
          [
           "Unerlaubter Handel in nicht geringer Menge von Cannabis und Zubereitungen",
           "734828",
           5684
          ],
          [
           "Unerlaubter Handel in nicht geringer Menge von sonstigen Betäubungsmitteln",
           "734829",
           652
          ],
          [
           "Unerlaubte Herstellung in nicht geringer Menge § 29a Abs. 1 Nr. 2 BtMG",
           "734840",
           667
          ],
          [
           "Unerlaubte Herstellung in nicht geringer Menge von Heroin",
           "734841",
           9
          ],
          [
           "Unerlaubte Herstellung in nicht geringer Menge von Kokain einschl. Crack",
           "734842",
           23
          ],
          [
           "Unerlaubte Herstellung in nicht geringer Menge von LSD",
           "734843",
           1
          ],
          [
           "Unerlaubte Herstellung in nicht geringer Menge von NPS (BtMG)",
           "734844",
           7
          ],
          [
           "Unerlaubte Herstellung in nicht geringer Menge von Amphetamin und seinen Derivaten in Pulver- oder flüssiger sowie in Tabletten- bzw. Kapselform (Ecstasy)",
           "734846",
           63
          ],
          [
           "Unerlaubte Herstellung in nicht geringer Menge von Methamphetamin in Pulver-, kristalliner oder flüssiger sowie in Tabletten- bzw. Kapselform",
           "734847",
           20
          ],
          [
           "Unerlaubte Herstellung in nicht geringer Menge von Cannabis und Zubereitungen",
           "734848",
           513
          ],
          [
           "Unerlaubte Herstellung in nicht geringer Menge von sonstigen Betäubungsmitteln",
           "734849",
           31
          ],
          [
           "Straftaten gemäß § 4 NpSG",
           "735000",
           771
          ],
          [
           "Straftaten gegen strafrechtliche Nebengesetze auf dem Umwelt- und Verbraucherschutzsektor (neben Schlüssel 716000)",
           "740000",
           10699
          ],
          [
           "Transplantationsgesetz (unerlaubter Organhandel)",
           "740001",
           0
          ],
          [
           "Hundeverbringungs- und -einfuhrbeschränkungsgesetz",
           "740002",
           119
          ],
          [
           "Verstoß gegen das Heilpraktikergesetz",
           "740003",
           61
          ],
          [
           "Sonstiges strafrechtliches Nebengesetz auf dem Umwelt- und Verbraucherschutzsektor (ohne Lebensmittel)",
           "740079",
           175
          ],
          [
           "Straftaten nach dem ChemikalienG",
           "741000",
           351
          ],
          [
           "Straftaten nach § 27 ChemikalienG i.V.m. der Gefahrstoffverordnung",
           "741001",
           285
          ],
          [
           "Sonstige Straftaten nach dem ChemikalienG",
           "741079",
           66
          ],
          [
           "Straftaten nach dem Infektionsschutz- und Tiergesundheitsgesetz",
           "742000",
           1282
          ],
          [
           "Infektionsschutzgesetz",
           "742010",
           1175
          ],
          [
           "Tiergesundheitsgesetz (TierGesG)",
           "742020",
           107
          ],
          [
           "Straftaten nach dem Bundesnaturschutz-, Tierschutz-, Bundesjagd- und PflanzenschutzG",
           "743000",
           8587
          ],
          [
           "Bundesnaturschutzgesetz",
           "743010",
           537
          ],
          [
           "Tierschutzgesetz",
           "743020",
           7950
          ],
          [
           "Bundesjagdgesetz",
           "743030",
           93
          ],
          [
           "Pflanzenschutzgesetz",
           "743040",
           7
          ],
          [
           "Straftaten nach dem Abfallverbringungsgesetz (AbfVerbrG)",
           "744000",
           124
          ],
          [
           "Illegale Verbringung gefährlicher Abfälle § 18a AbfVerbrG",
           "744100",
           61
          ],
          [
           "Illegale Verbringung nichtgefährlicher Abfälle § 18b AbfVerbrG",
           "744200",
           63
          ],
          [
           "Straftaten insgesamt, jedoch ohne Verstöße gegen das Aufenthalts-, das Asyl- und das Freizügigkeitsgesetz/EU (Schlüssel 725000)",
           "890000",
           4901007
          ],
          [
           "Rauschgiftkriminalität darunter:",
           "891000",
           363362
          ],
          [
           "direkte Beschaffungskriminalität",
           "891100",
           2314
          ],
          [
           "Gewaltkriminalität",
           "892000",
           164646
          ],
          [
           "Mord, Totschlag und Tötung auf Verlangen",
           "892500",
           2111
          ],
          [
           "Wirtschaftskriminalität und zwar:",
           "893000",
           51260
          ],
          [
           "Wirtschaftskriminalität bei Betrug",
           "893100",
           33454
          ],
          [
           "Insolvenzstraftaten gemäß StGB und Nebenstrafrecht (Wikri)",
           "893200",
           6892
          ],
          [
           "Wirtschaftskriminalität im Anlage- und Finanzierungsbereich pp.",
           "893300",
           4671
          ],
          [
           "Wettbewerbsdelikte (Wikri)",
           "893400",
           1068
          ],
          [
           "Wirtschaftskriminalität im Zusammenhang mit Arbeitsverhältnissen",
           "893500",
           4677
          ],
          [
           "Betrug und Untreue im Zusammenhang mit Beteiligungen und Kapitalanlagen (Wikri)",
           "893600",
           4255
          ],
          [
           "Menschenhandel insgesamt",
           "895000",
           900
          ],
          [
           "Straftaten gegen Bestimmungen zum Schutze der Jugend",
           "896000",
           2692
          ],
          [
           "Cybercrime",
           "897000",
           146363
          ],
          [
           "Computerbetrug § 263a StGB",
           "897100",
           113002
          ],
          [
           "Straftaten insgesamt auf dem Umwelt- und Verbraucherschutzsektor",
           "898000",
           33521
          ],
          [
           "Umweltstraftaten gemäß 29. Abschnitt des StGB",
           "898100",
           11563
          ],
          [
           "Sonstige Straftaten nach dem StGB mit Umweltrelevanz",
           "898200",
           4539
          ],
          [
           "Straftaten auf dem Umwelt- und Verbraucherschutzsektor gemäß strafrechtlicher Nebengesetze",
           "898300",
           17419
          ],
          [
           "Straßenkriminalität",
           "899000",
           949131
          ],
          [
           "Sachbeschädigung durch Graffiti insgesamt",
           "899500",
           100558
          ],
          [
           "Acts leading to death or intending to cause death (010000,020000,030000,040000,050000,111900,131800,210030,211130,211230,212030,212130,212230,213130,213230,216030,217030,218030,219030,221000,641040,725410,734600)CTS",
           "900230",
           3094
          ],
          [
           "injurious acts of a sexual nature (111700,111800,112100,113000,114000,115000,131010,131100,131200,131300,131400,131500,131600,131700,133000,141100,141200,142000,143200,143030,143040) CTS",
           "900250",
           85969
          ],
          [
           "Rape (111700+131500)_CTS",
           "900251",
           10410
          ],
          [
           "Sexual assault (111800+112100+113000+114000+115000+130000 -131400-131500-131600-131800-132000) CTS",
           "900252",
           31380
          ],
          [
           "Drug trafficking (732000+733000)_CTS",
           "900253",
           55941
          ],
          [
           "entry or transit (725200+725400)_CTS",
           "900260",
           3811
          ],
          [
           "residence (725510+725600)_CTS",
           "900261",
           18
          ],
          [
           "Wohnungseinbruchdiebstahl (mit TWE) bandenmäßig § 244a StGB",
           "943520",
           825
          ],
          [
           "Unerlaubt eingereiste/aufhältige Personen (SZ: 725100, 725700)",
           "972500",
           133746
          ],
          [
           "Drogenarten insgesamt bei RG-Delikten (SZ 730000)",
           "973000",
           352396
          ],
          [
           "Heroin",
           "973010",
           11514
          ],
          [
           "Kokain einschl. Crack",
           "973020",
           26852
          ],
          [
           "LSD",
           "973030",
           1145
          ],
          [
           "NPS",
           "973040",
           4829
          ],
          [
           "Amphetamin und seine Derivate in Pulver- oder flüssiger sowie in Tabletten- bzw. Kapselform (Ecstasy)",
           "973060",
           48150
          ],
          [
           "Methamphetamin in Pulver-, kristalliner oder flüssiger sowie in Tabletten- bzw. Kapselform",
           "973070",
           14749
          ],
          [
           "Cannabis und Zubereitungen",
           "973080",
           222108
          ],
          [
           "Sonstige Betäubungsmittel",
           "973090",
           23049
          ],
          [
           "Crystal -Methamphetamin in kristalliner Form- (nur SB 731000, 732000, 733000)",
           "973172",
           11878
          ]
         ],
         "domain": {
          "x": [
           0,
           1
          ],
          "y": [
           0,
           1
          ]
         },
         "hovertemplate": "key=%{customdata[1]}<br>parent=%{parent}<br>label=%{customdata[0]}<br>count=%{customdata[2]}<extra></extra>",
         "labels": [
          "****00",
          "***100",
          "***200",
          "***300",
          "***400",
          "***500",
          "***700",
          "***800",
          "*05*00",
          "*10*00",
          "*15*00",
          "*25*00",
          "*26*00",
          "*35*00",
          "*40*00",
          "*45*00",
          "*50*00",
          "*71000",
          "*72000",
          "*73000",
          "*74000",
          "*75000",
          "*90*00",
          "000000",
          "010000",
          "010079",
          "011000",
          "012000",
          "020000",
          "020010",
          "020020",
          "020030",
          "030000",
          "040000",
          "040010",
          "040020",
          "040030",
          "040040",
          "040050",
          "050000",
          "100000",
          "110000",
          "111000",
          "111700",
          "111710",
          "111720",
          "111730",
          "111800",
          "111810",
          "111820",
          "111830",
          "111900",
          "112100",
          "112110",
          "112120",
          "112130",
          "113000",
          "113010",
          "113020",
          "113030",
          "113040",
          "114000",
          "115000",
          "130000",
          "131000",
          "131010",
          "131100",
          "131200",
          "131300",
          "131400",
          "131500",
          "131600",
          "131700",
          "131800",
          "132000",
          "132010",
          "132020",
          "133000",
          "133100",
          "133700",
          "140000",
          "140010",
          "140020",
          "141000",
          "141100",
          "141110",
          "141179",
          "141200",
          "142000",
          "143000",
          "143010",
          "143020",
          "143030",
          "143040",
          "143100",
          "143200",
          "143210",
          "143211",
          "143212",
          "143213",
          "143214",
          "143220",
          "143230",
          "143500",
          "143510",
          "143511",
          "143512",
          "143513",
          "143514",
          "143520",
          "143530",
          "145000",
          "200000",
          "210000",
          "210010",
          "210020",
          "210030",
          "210040",
          "210050",
          "211000",
          "211100",
          "211110",
          "211120",
          "211130",
          "211150",
          "211200",
          "211210",
          "211220",
          "211230",
          "211250",
          "212000",
          "212010",
          "212020",
          "212030",
          "212050",
          "212100",
          "212110",
          "212120",
          "212130",
          "212150",
          "212200",
          "212210",
          "212220",
          "212230",
          "212250",
          "213000",
          "213100",
          "213110",
          "213120",
          "213130",
          "213150",
          "213200",
          "213210",
          "213220",
          "213230",
          "213250",
          "214000",
          "214079",
          "214100",
          "216000",
          "216010",
          "216020",
          "216030",
          "216050",
          "217000",
          "217010",
          "217020",
          "217030",
          "217050",
          "218000",
          "218010",
          "218020",
          "218030",
          "218050",
          "219000",
          "219010",
          "219020",
          "219030",
          "219050",
          "220000",
          "221000",
          "221010",
          "221020",
          "222000",
          "222010",
          "222020",
          "222030",
          "222040",
          "222100",
          "222110",
          "222120",
          "222130",
          "223000",
          "223001",
          "223100",
          "224000",
          "225000",
          "230000",
          "231000",
          "231100",
          "231200",
          "231210",
          "231279",
          "231300",
          "232000",
          "232100",
          "232200",
          "232201",
          "232279",
          "232300",
          "232400",
          "232410",
          "232420",
          "232430",
          "232500",
          "233000",
          "233079",
          "233100",
          "233200",
          "233300",
          "234000",
          "234079",
          "234100",
          "234200",
          "234300",
          "235000",
          "239000",
          "239100",
          "239110",
          "239120",
          "239130",
          "239140",
          "239150",
          "239160",
          "239200",
          "239210",
          "239220",
          "239300",
          "239310",
          "239320",
          "239330",
          "239400",
          "239410",
          "239420",
          "239430",
          "239500",
          "239510",
          "239520",
          "239530",
          "239540",
          "3***00",
          "3**100",
          "3**200",
          "3**300",
          "3**400",
          "3**500",
          "3**700",
          "3**800",
          "300000",
          "300010",
          "300040",
          "300050",
          "300100",
          "300110",
          "300140",
          "300200",
          "300210",
          "300240",
          "300300",
          "300310",
          "300340",
          "300400",
          "300500",
          "300700",
          "300800",
          "305*00",
          "305000",
          "305500",
          "310*00",
          "310000",
          "310100",
          "310200",
          "310300",
          "310400",
          "310500",
          "310700",
          "310800",
          "315*00",
          "315000",
          "315500",
          "315700",
          "325*00",
          "325000",
          "325300",
          "325500",
          "326*00",
          "326000",
          "326300",
          "335*00",
          "335000",
          "335400",
          "335500",
          "335800",
          "340*00",
          "340000",
          "340300",
          "345*00",
          "345000",
          "345100",
          "345500",
          "350*00",
          "350000",
          "350500",
          "371000",
          "372000",
          "373000",
          "374000",
          "375000",
          "390000",
          "390500",
          "4***00",
          "4**100",
          "4**200",
          "4**300",
          "4**400",
          "4**500",
          "4**700",
          "4**800",
          "400000",
          "400010",
          "400020",
          "400100",
          "400110",
          "400120",
          "400200",
          "400210",
          "400220",
          "400300",
          "400310",
          "400320",
          "400400",
          "400410",
          "400420",
          "400500",
          "400510",
          "400520",
          "400700",
          "400710",
          "400720",
          "400800",
          "400810",
          "400820",
          "405*00",
          "405000",
          "405010",
          "405020",
          "410*00",
          "410000",
          "410010",
          "410020",
          "410100",
          "410110",
          "410120",
          "410200",
          "410210",
          "410220",
          "410300",
          "410310",
          "410320",
          "410400",
          "410410",
          "410420",
          "410500",
          "410510",
          "410520",
          "410700",
          "410710",
          "410720",
          "410800",
          "410810",
          "410820",
          "415*00",
          "415000",
          "415010",
          "415020",
          "415500",
          "415510",
          "415520",
          "415700",
          "415710",
          "415720",
          "425*00",
          "425000",
          "425010",
          "425020",
          "425300",
          "425310",
          "425320",
          "425400",
          "425410",
          "425420",
          "425500",
          "425510",
          "425520",
          "426*00",
          "426000",
          "426010",
          "426020",
          "435*00",
          "435000",
          "435020",
          "435400",
          "435500",
          "435800",
          "436*00",
          "436000",
          "436020",
          "436400",
          "436500",
          "436800",
          "440*00",
          "440000",
          "440010",
          "440020",
          "440300",
          "440310",
          "440320",
          "445*00",
          "445000",
          "445010",
          "445020",
          "445100",
          "445110",
          "445120",
          "445500",
          "445510",
          "445520",
          "450*00",
          "450000",
          "450010",
          "450020",
          "450500",
          "450510",
          "450520",
          "471000",
          "471010",
          "471020",
          "472000",
          "472010",
          "472020",
          "473000",
          "473010",
          "473020",
          "474000",
          "474010",
          "474020",
          "475000",
          "475010",
          "475020",
          "490000",
          "490010",
          "490020",
          "490500",
          "490510",
          "490520",
          "500000",
          "510000",
          "511000",
          "511100",
          "511110",
          "511120",
          "511200",
          "511201",
          "511210",
          "511211",
          "511212",
          "511300",
          "513000",
          "513100",
          "513200",
          "514000",
          "514100",
          "514200",
          "514300",
          "515000",
          "515001",
          "515079",
          "516000",
          "516200",
          "516300",
          "516500",
          "516510",
          "516520",
          "516900",
          "516910",
          "516920",
          "517000",
          "517100",
          "517200",
          "517210",
          "517220",
          "517400",
          "517410",
          "517420",
          "517500",
          "517510",
          "517520",
          "517600",
          "517800",
          "517900",
          "518100",
          "518110",
          "518111",
          "518112",
          "518179",
          "518200",
          "518300",
          "518301",
          "518302",
          "518500",
          "518510",
          "518520",
          "518800",
          "518900",
          "520000",
          "521000",
          "521079",
          "521100",
          "522000",
          "523000",
          "530000",
          "530079",
          "531000",
          "540000",
          "540001",
          "540002",
          "540003",
          "540004",
          "540005",
          "540006",
          "540007",
          "540008",
          "540009",
          "540010",
          "541000",
          "541001",
          "541079",
          "542000",
          "543000",
          "543010",
          "543020",
          "550000",
          "550010",
          "551000",
          "551010",
          "551020",
          "551030",
          "552000",
          "552010",
          "552020",
          "553000",
          "553100",
          "553110",
          "553120",
          "553200",
          "553210",
          "553220",
          "560000",
          "561000",
          "562000",
          "563000",
          "564000",
          "565000",
          "600000",
          "610000",
          "610001",
          "610079",
          "611000",
          "620000",
          "620001",
          "620002",
          "620003",
          "620004",
          "620005",
          "620006",
          "620007",
          "620008",
          "620009",
          "620010",
          "620011",
          "620013",
          "620014",
          "620015",
          "621000",
          "621010",
          "621040",
          "621050",
          "621100",
          "621110",
          "621120",
          "622000",
          "622100",
          "622200",
          "623000",
          "623010",
          "623020",
          "624000",
          "624010",
          "624079",
          "624100",
          "624200",
          "624201",
          "624279",
          "626000",
          "626079",
          "626100",
          "630000",
          "630010",
          "630020",
          "631000",
          "631079",
          "631100",
          "631200",
          "631300",
          "632000",
          "632079",
          "632100",
          "632200",
          "632300",
          "633000",
          "640000",
          "640010",
          "640020",
          "641000",
          "641010",
          "641020",
          "641030",
          "641040",
          "641050",
          "650000",
          "651000",
          "651100",
          "651200",
          "651300",
          "651400",
          "652000",
          "652100",
          "652200",
          "652300",
          "652400",
          "655000",
          "655001",
          "655002",
          "655003",
          "655004",
          "655005",
          "655006",
          "655007",
          "655008",
          "655009",
          "655010",
          "655011",
          "655012",
          "655100",
          "655200",
          "656000",
          "657000",
          "657100",
          "657200",
          "657300",
          "657400",
          "657500",
          "660000",
          "660010",
          "660020",
          "660030",
          "660040",
          "661000",
          "661010",
          "661020",
          "661030",
          "662000",
          "662001",
          "662100",
          "663000",
          "670000",
          "670001",
          "670002",
          "670003",
          "670005",
          "670006",
          "670007",
          "670008",
          "670009",
          "670010",
          "670011",
          "670012",
          "670013",
          "670014",
          "670015",
          "670016",
          "670017",
          "670018",
          "670019",
          "670020",
          "670021",
          "670024",
          "670025",
          "670026",
          "670027",
          "670029",
          "670030",
          "670031",
          "670032",
          "670033",
          "670034",
          "670079",
          "671000",
          "672000",
          "673000",
          "673010",
          "673020",
          "673030",
          "673040",
          "673100",
          "673110",
          "673120",
          "673130",
          "673140",
          "674000",
          "674010",
          "674011",
          "674012",
          "674019",
          "674020",
          "674021",
          "674022",
          "674029",
          "674030",
          "674100",
          "674111",
          "674119",
          "674200",
          "674210",
          "674220",
          "674300",
          "674310",
          "674311",
          "674312",
          "674319",
          "674320",
          "674321",
          "674322",
          "674329",
          "674330",
          "674500",
          "674512",
          "674519",
          "675000",
          "675100",
          "675200",
          "675300",
          "675400",
          "675500",
          "675600",
          "676000",
          "676010",
          "676011",
          "676012",
          "676100",
          "676101",
          "676102",
          "676200",
          "676201",
          "676202",
          "676300",
          "676301",
          "676302",
          "676400",
          "676410",
          "676411",
          "676412",
          "676420",
          "676421",
          "676422",
          "676500",
          "676510",
          "676511",
          "676512",
          "676520",
          "676521",
          "676522",
          "676600",
          "676610",
          "676611",
          "676612",
          "676620",
          "676621",
          "676622",
          "676700",
          "676701",
          "676702",
          "676800",
          "676810",
          "676811",
          "676812",
          "676820",
          "676821",
          "676822",
          "676830",
          "676831",
          "676832",
          "676900",
          "677000",
          "678000",
          "678010",
          "678020",
          "678030",
          "678040",
          "679000",
          "679010",
          "679020",
          "700000",
          "710000",
          "712000",
          "712010",
          "712020",
          "712030",
          "712040",
          "712050",
          "712060",
          "712200",
          "713000",
          "713010",
          "713030",
          "714000",
          "714010",
          "714020",
          "714030",
          "714040",
          "714050",
          "714060",
          "714070",
          "715000",
          "715010",
          "715020",
          "715030",
          "715040",
          "715050",
          "715060",
          "715070",
          "715100",
          "715200",
          "715300",
          "715400",
          "716000",
          "716030",
          "716079",
          "716100",
          "716300",
          "716400",
          "716420",
          "716421",
          "716422",
          "716423",
          "716430",
          "716431",
          "716432",
          "716433",
          "716440",
          "716450",
          "716460",
          "716470",
          "716500",
          "716510",
          "716520",
          "716530",
          "719000",
          "719010",
          "719040",
          "719079",
          "719200",
          "720000",
          "720001",
          "720002",
          "720005",
          "720009",
          "720011",
          "720012",
          "720013",
          "720014",
          "720079",
          "721000",
          "722000",
          "724000",
          "725000",
          "725100",
          "725110",
          "725120",
          "725200",
          "725210",
          "725220",
          "725300",
          "725310",
          "725311",
          "725312",
          "725320",
          "725321",
          "725322",
          "725400",
          "725410",
          "725420",
          "725500",
          "725510",
          "725520",
          "725600",
          "725700",
          "725710",
          "725711",
          "725712",
          "725720",
          "725800",
          "725900",
          "726000",
          "726100",
          "726200",
          "726300",
          "727000",
          "727100",
          "727200",
          "727300",
          "727400",
          "728000",
          "728010",
          "728020",
          "730000",
          "731000",
          "731100",
          "731200",
          "731201",
          "731202",
          "731300",
          "731400",
          "731600",
          "731601",
          "731602",
          "731700",
          "731701",
          "731702",
          "731703",
          "731800",
          "731900",
          "732000",
          "732100",
          "732110",
          "732120",
          "732200",
          "732210",
          "732211",
          "732212",
          "732220",
          "732221",
          "732222",
          "732300",
          "732310",
          "732320",
          "732400",
          "732410",
          "732420",
          "732600",
          "732610",
          "732611",
          "732612",
          "732620",
          "732621",
          "732622",
          "732700",
          "732710",
          "732711",
          "732712",
          "732713",
          "732720",
          "732721",
          "732722",
          "732723",
          "732800",
          "732810",
          "732820",
          "732900",
          "732910",
          "732920",
          "733000",
          "733100",
          "733200",
          "733201",
          "733202",
          "733300",
          "733400",
          "733600",
          "733601",
          "733602",
          "733700",
          "733701",
          "733702",
          "733703",
          "733800",
          "733900",
          "734000",
          "734100",
          "734200",
          "734210",
          "734220",
          "734300",
          "734400",
          "734500",
          "734510",
          "734520",
          "734600",
          "734700",
          "734800",
          "734810",
          "734811",
          "734812",
          "734813",
          "734814",
          "734816",
          "734817",
          "734818",
          "734819",
          "734820",
          "734821",
          "734822",
          "734823",
          "734824",
          "734826",
          "734827",
          "734828",
          "734829",
          "734840",
          "734841",
          "734842",
          "734843",
          "734844",
          "734846",
          "734847",
          "734848",
          "734849",
          "735000",
          "740000",
          "740001",
          "740002",
          "740003",
          "740079",
          "741000",
          "741001",
          "741079",
          "742000",
          "742010",
          "742020",
          "743000",
          "743010",
          "743020",
          "743030",
          "743040",
          "744000",
          "744100",
          "744200",
          "890000",
          "891000",
          "891100",
          "892000",
          "892500",
          "893000",
          "893100",
          "893200",
          "893300",
          "893400",
          "893500",
          "893600",
          "895000",
          "896000",
          "897000",
          "897100",
          "898000",
          "898100",
          "898200",
          "898300",
          "899000",
          "899500",
          "900230",
          "900250",
          "900251",
          "900252",
          "900253",
          "900260",
          "900261",
          "943520",
          "972500",
          "973000",
          "973010",
          "973020",
          "973030",
          "973040",
          "973060",
          "973070",
          "973080",
          "973090",
          "973172"
         ],
         "marker": {
          "colors": [
           "#7f5f3f",
           "#7f593f",
           "#7f723f",
           "#727f3f",
           "#597f3f",
           "#3f7f3f",
           "#3f7f59",
           "#3f7f72",
           "#3f727f",
           "#3f597f",
           "#7f3f41",
           "#3f3f7f",
           "#7f3f41",
           "#593f7f",
           "#723f7f",
           "#7f3f41",
           "#7f3f72",
           "#7f3f59",
           "#5f7f3f",
           "#3f7c7f",
           "#5c3f7f",
           "#7f3f40",
           "#7f3f3f",
           "#7f7f3f",
           "#697f3f",
           "#437f3f",
           "#423f7f",
           "#7f3f40",
           "#3f7f6b",
           "#3f7f4b",
           "#423f7f",
           "#7f3f40",
           "#413f7f",
           "#7f3f6b",
           "#697f3f",
           "#3f7f60",
           "#3f557f",
           "#773f7f",
           "#7f3f40",
           "#7f3f40",
           "#5f7f3f",
           "#407f3f",
           "#587f3f",
           "#5c3f7f",
           "#417f3f",
           "#3f417f",
           "#7f3f41",
           "#7f3f71",
           "#417f3f",
           "#3f417f",
           "#7f3f41",
           "#7f3f40",
           "#7f3f44",
           "#417f3f",
           "#3f417f",
           "#7f3f41",
           "#423f7f",
           "#5a7f3f",
           "#3f7a7f",
           "#5a3f7f",
           "#7f3f40",
           "#7f3f7e",
           "#7f3f40",
           "#3f407f",
           "#527f3f",
           "#7f663f",
           "#6d7f3f",
           "#417f3f",
           "#3f7f69",
           "#3f697f",
           "#413f7f",
           "#6b3f7f",
           "#7f3f67",
           "#7f3f44",
           "#3f647f",
           "#3f7f7e",
           "#7f3f41",
           "#7f3f77",
           "#3f7f7d",
           "#7f3f41",
           "#7f3f40",
           "#7d7f3f",
           "#407f3f",
           "#3f727f",
           "#3f7d7f",
           "#3f7f7c",
           "#7f3f42",
           "#7f3f40",
           "#5a3f7f",
           "#7f3f57",
           "#567f3f",
           "#3f6d7f",
           "#783f7f",
           "#7f3f40",
           "#617f3f",
           "#3f7f79",
           "#7f3f43",
           "#607f3f",
           "#3f7f7e",
           "#5e3f7f",
           "#7f3f40",
           "#3f7f7d",
           "#7f3f41",
           "#7f3f79",
           "#7f3f43",
           "#607f3f",
           "#3f7f7e",
           "#5e3f7f",
           "#7f3f40",
           "#3f7f7d",
           "#7f3f41",
           "#7f3f47",
           "#3f7f40",
           "#407f3f",
           "#7f5b3f",
           "#7f773f",
           "#717f3f",
           "#557f3f",
           "#3f7f46",
           "#3f7f65",
           "#3f7d7f",
           "#647f3f",
           "#3f7d7f",
           "#553f7f",
           "#7f3f40",
           "#7f3f40",
           "#617f3f",
           "#3f7a7f",
           "#5a3f7f",
           "#7f3f40",
           "#3f7a7f",
           "#7e7f3f",
           "#3f7f41",
           "#3f7f6d",
           "#3f507f",
           "#763f7f",
           "#5c7f3f",
           "#3f757f",
           "#5a3f7f",
           "#7f3f40",
           "#7f3f40",
           "#5c7f3f",
           "#3f757f",
           "#593f7f",
           "#7f3f40",
           "#3f5b7f",
           "#3f717f",
           "#597f3f",
           "#3f737f",
           "#603f7f",
           "#7f3f40",
           "#7f3f41",
           "#617f3f",
           "#3f7e7f",
           "#5f3f7f",
           "#7f3f40",
           "#423f7f",
           "#3f7f75",
           "#7f3f40",
           "#613f7f",
           "#587f3f",
           "#3f717f",
           "#623f7f",
           "#7f3f40",
           "#7f3f7d",
           "#5b7f3f",
           "#3f777f",
           "#5a3f7f",
           "#7f3f40",
           "#7f3f5f",
           "#5b7f3f",
           "#3f777f",
           "#5b3f7f",
           "#7f3f40",
           "#7f3f3f",
           "#5b7f3f",
           "#3f767f",
           "#5a3f7f",
           "#7f3f40",
           "#3f407f",
           "#737f3f",
           "#3f6b7f",
           "#7f3f41",
           "#3f7f58",
           "#6f7f3f",
           "#3f7f60",
           "#3f587f",
           "#653f7f",
           "#7f3f40",
           "#3f7f43",
           "#473f7f",
           "#7f3f40",
           "#3f597f",
           "#3f7f74",
           "#7f3f40",
           "#723f7f",
           "#7f3f40",
           "#7f3f40",
           "#7f713f",
           "#477f3f",
           "#443f7f",
           "#3f7f7c",
           "#7f3f42",
           "#7f3f40",
           "#5a7f3f",
           "#727f3f",
           "#3f7f59",
           "#7f3f42",
           "#7f3f42",
           "#3f587f",
           "#743f7f",
           "#3f7f47",
           "#4b3f7f",
           "#7f3f40",
           "#7f3f40",
           "#3f7f56",
           "#5c7f3f",
           "#3f7c7f",
           "#623f7f",
           "#7f3f40",
           "#3f7a7f",
           "#5f7f3f",
           "#3f7e7f",
           "#603f7f",
           "#7f3f40",
           "#3f507f",
           "#7f3f6d",
           "#7f553f",
           "#7f7e3f",
           "#407f3f",
           "#3f7f7e",
           "#3f407f",
           "#7e3f7f",
           "#7f3f40",
           "#7f6b3f",
           "#3f7f7d",
           "#7f3f41",
           "#7e7f3f",
           "#417f3f",
           "#3f417f",
           "#7f3f41",
           "#687f3f",
           "#417f3f",
           "#3f417f",
           "#7f3f41",
           "#527f3f",
           "#607f3f",
           "#3f7f7e",
           "#5e3f7f",
           "#7f3f40",
           "#3f7f60",
           "#7f5d3f",
           "#7f7a3f",
           "#677f3f",
           "#497f3f",
           "#3f7f53",
           "#3f7f70",
           "#3f707f",
           "#3f7f7d",
           "#7f653f",
           "#727f3f",
           "#4c7f3f",
           "#3f7f54",
           "#3f7f7e",
           "#7f3f41",
           "#3f7f7b",
           "#3f7e7f",
           "#7f3f41",
           "#3f5c7f",
           "#3f7f7e",
           "#7f3f41",
           "#493f7f",
           "#703f7f",
           "#7f3f67",
           "#7f3f40",
           "#3f537f",
           "#7f3f40",
           "#7f3f42",
           "#493f7f",
           "#3f7f59",
           "#7f6f3f",
           "#607f3f",
           "#3f7f50",
           "#3f7f7d",
           "#3f517f",
           "#5d3f7f",
           "#7f3f70",
           "#7f3f41",
           "#7f3f40",
           "#3f7f7f",
           "#7f3f41",
           "#663f7f",
           "#3f7f7f",
           "#407f3f",
           "#3f417f",
           "#7f3f41",
           "#7f3f40",
           "#7f3f42",
           "#7f3f7a",
           "#3f597f",
           "#407f3f",
           "#403f7f",
           "#7f3f40",
           "#7f3f5d",
           "#4c3f7f",
           "#3f7f7e",
           "#7f3f41",
           "#7f3f41",
           "#3f7f7a",
           "#7f3f41",
           "#7f3f3f",
           "#723f7f",
           "#7f3f42",
           "#7f3f66",
           "#617f3f",
           "#3f7d7f",
           "#5c3f7f",
           "#7f3f40",
           "#7f3f40",
           "#3f7f7c",
           "#3f617f",
           "#7f5d3f",
           "#7f7a3f",
           "#677f3f",
           "#497f3f",
           "#3f7f53",
           "#3f7f70",
           "#3f707f",
           "#3f447f",
           "#7f693f",
           "#6b7f3f",
           "#7f763f",
           "#3f7f7e",
           "#7f3f41",
           "#527f3f",
           "#3f7e7f",
           "#7f3f41",
           "#3f7f63",
           "#3f7e7f",
           "#7f3f41",
           "#3f647f",
           "#3f717f",
           "#7f3f41",
           "#513f7f",
           "#3f7c7f",
           "#7f3f41",
           "#7f3f76",
           "#3f7e7f",
           "#7f3f41",
           "#7f3f40",
           "#3f747f",
           "#7f3f41",
           "#3f537f",
           "#7f3f41",
           "#7f6a3f",
           "#6a7f3f",
           "#493f7f",
           "#417f3f",
           "#407f3f",
           "#3f407f",
           "#3f7f3f",
           "#3f7f7f",
           "#7f3f41",
           "#3f7f6a",
           "#3f747f",
           "#7f3f41",
           "#3f6a7f",
           "#3f727f",
           "#7f3f41",
           "#3f407f",
           "#3f737f",
           "#7f3f41",
           "#693f7f",
           "#3f747f",
           "#7f3f41",
           "#7f3f6a",
           "#3f777f",
           "#7f3f41",
           "#7f3f40",
           "#3f707f",
           "#7f3f41",
           "#7f3f41",
           "#7f3f40",
           "#7f763f",
           "#527f3f",
           "#3f7f65",
           "#3f767f",
           "#7f3f41",
           "#3f627f",
           "#3f787f",
           "#7f3f41",
           "#663f7f",
           "#3f7f68",
           "#407f3f",
           "#3f407f",
           "#543f7f",
           "#3f747f",
           "#7f3f41",
           "#7f3f76",
           "#3f7c7f",
           "#7f3f41",
           "#7f3f40",
           "#3f7b7f",
           "#7f3f41",
           "#7f3f41",
           "#7f3f40",
           "#727f3f",
           "#3f7f59",
           "#7f3f7a",
           "#3f6c7f",
           "#3f7f57",
           "#3f597f",
           "#723f7f",
           "#7f3f40",
           "#7f3f41",
           "#7f3f41",
           "#7f763f",
           "#3f7f49",
           "#3f617f",
           "#6b3f7f",
           "#7f3f5d",
           "#3f427f",
           "#3f7f3f",
           "#3f417f",
           "#7f3f40",
           "#3f787f",
           "#7f3f41",
           "#7f3f41",
           "#7f3f40",
           "#717f3f",
           "#3f7f58",
           "#3f597f",
           "#3f717f",
           "#7f3f41",
           "#703f7f",
           "#3f757f",
           "#7f3f41",
           "#7f3f3f",
           "#663f7f",
           "#3f7f7e",
           "#7f3f41",
           "#7f3f40",
           "#3f797f",
           "#7f3f41",
           "#7f3f6a",
           "#7f7e3f",
           "#487f3f",
           "#3f7f7b",
           "#3f6f7f",
           "#7f3f41",
           "#413f7f",
           "#3f707f",
           "#7f3f41",
           "#7d3f7f",
           "#3f7e7f",
           "#7f3f41",
           "#7f3f40",
           "#3f7f40",
           "#3f4e7f",
           "#7f3f40",
           "#3f7f7e",
           "#7f3f41",
           "#7f3f40",
           "#3f7b7f",
           "#7f3f41",
           "#5b3f7f",
           "#7f7f3f",
           "#7f733f",
           "#407f3f",
           "#3f7f7d",
           "#7f3f41",
           "#3f407f",
           "#3f7f7e",
           "#7e3f7f",
           "#3f7f7d",
           "#7f3f41",
           "#7f3f40",
           "#477f3f",
           "#427f3f",
           "#453f7f",
           "#3f7f6c",
           "#497f3f",
           "#3f537f",
           "#7f3f5c",
           "#3f5d7f",
           "#7f3f42",
           "#7f3f42",
           "#563f7f",
           "#667f3f",
           "#3f7f71",
           "#653f7f",
           "#3f7f7d",
           "#7f3f41",
           "#7f3f40",
           "#3f7f7d",
           "#7f3f41",
           "#7f3f74",
           "#7f713f",
           "#5a7f3f",
           "#3f7f7d",
           "#7f3f41",
           "#3f7f65",
           "#3f7e7f",
           "#7f3f41",
           "#3f677f",
           "#3f7f7d",
           "#7f3f41",
           "#4a3f7f",
           "#7f3f72",
           "#7f3f40",
           "#7f3f40",
           "#7f7b3f",
           "#3f7f7d",
           "#7f3f41",
           "#7f3f42",
           "#407f3f",
           "#3f7c7f",
           "#3f7f7d",
           "#7f3f41",
           "#3f467f",
           "#3f7f7c",
           "#7f3f42",
           "#7b3f7f",
           "#7f3f40",
           "#407f3f",
           "#407f3f",
           "#3f7f74",
           "#7f3f40",
           "#3f407f",
           "#7f3f40",
           "#3f7f7f",
           "#3f7f74",
           "#7f3f40",
           "#3f407f",
           "#7f5f3f",
           "#7f7e3f",
           "#607f3f",
           "#417f3f",
           "#3f7f5b",
           "#3f7f7a",
           "#3f667f",
           "#3f477f",
           "#553f7f",
           "#3f7f7e",
           "#783f7f",
           "#7f3f42",
           "#7f3f41",
           "#7f3f63",
           "#7f3f3f",
           "#3f7f7f",
           "#7f3f41",
           "#7f3f7f",
           "#7f783f",
           "#3f5c7f",
           "#3f7f47",
           "#3f427f",
           "#7f3f40",
           "#6d3f7f",
           "#3f7f7e",
           "#7f3f41",
           "#7f3f47",
           "#3f7f7e",
           "#3f7f7e",
           "#7f3f41",
           "#7f3f40",
           "#7f7c3f",
           "#467f3f",
           "#7f3f40",
           "#6f7f3f",
           "#3f7f56",
           "#3f587f",
           "#743f7f",
           "#7f3f40",
           "#7b3f7f",
           "#7f763f",
           "#3f7f72",
           "#3f7f75",
           "#7f3f40",
           "#527f3f",
           "#7f593f",
           "#7f6f3f",
           "#787f3f",
           "#607f3f",
           "#477f3f",
           "#3f7f51",
           "#3f7f6a",
           "#3f7f7f",
           "#3f657f",
           "#3f527f",
           "#637f3f",
           "#3f7d7f",
           "#663f7f",
           "#7f3f40",
           "#3f487f",
           "#3f7f74",
           "#7f3f74",
           "#7f3f40",
           "#7f3f40",
           "#3f7f7c",
           "#7f3f42",
           "#533f7f",
           "#3f7c7f",
           "#7f3f40",
           "#6f3f7f",
           "#3f7e7f",
           "#7f3f41",
           "#7f3f73",
           "#657f3f",
           "#3f7f74",
           "#5a3f7f",
           "#7f3f40",
           "#7f3f42",
           "#7f3f42",
           "#7f3f56",
           "#3f7f77",
           "#7f3f40",
           "#3f7f63",
           "#787f3f",
           "#3f7f4e",
           "#3f607f",
           "#637f3f",
           "#3f7d7f",
           "#5e3f7f",
           "#7f3f40",
           "#6e3f7f",
           "#667f3f",
           "#3f7f7c",
           "#5c3f7f",
           "#7f3f40",
           "#7f3f40",
           "#3f647f",
           "#447f3f",
           "#3f4a7f",
           "#7f3f40",
           "#707f3f",
           "#3f7f5d",
           "#3f537f",
           "#703f7f",
           "#7f3f40",
           "#513f7f",
           "#727f3f",
           "#5a7f3f",
           "#3f737f",
           "#653f7f",
           "#7f3f40",
           "#3f7f5a",
           "#5a7f3f",
           "#3f737f",
           "#653f7f",
           "#7f3f40",
           "#3f567f",
           "#7f633f",
           "#777f3f",
           "#577f3f",
           "#3f7f4b",
           "#3f7f6a",
           "#3f707f",
           "#3f4c7f",
           "#513f7f",
           "#6d3f7f",
           "#7f3f42",
           "#3f7b7f",
           "#7f3f41",
           "#7f3f68",
           "#7f3f3f",
           "#713f7f",
           "#7f3f40",
           "#7f3f42",
           "#4a7f3f",
           "#3f5b7f",
           "#713f7f",
           "#7f3f40",
           "#7f3f76",
           "#7f763f",
           "#517f3f",
           "#3f7f5a",
           "#3f787f",
           "#443f7f",
           "#3f7f49",
           "#4a3f7f",
           "#7f3f40",
           "#7f3f7d",
           "#3f7f74",
           "#7f3f40",
           "#7f3f40",
           "#7f3f40",
           "#7f553f",
           "#7f6a3f",
           "#7e7f3f",
           "#697f3f",
           "#547f3f",
           "#3f7f40",
           "#3f7f55",
           "#3f7f6a",
           "#687f3f",
           "#7f6b3f",
           "#6a7f3f",
           "#417f3f",
           "#3f7f68",
           "#3f6a7f",
           "#413f7f",
           "#6d3f7f",
           "#7f3f65",
           "#7f3f40",
           "#3f7d7f",
           "#7f7e3f",
           "#407f3f",
           "#3f7f7f",
           "#403f7f",
           "#7f3f7e",
           "#7f3f40",
           "#653f7f",
           "#697f3f",
           "#3f7f79",
           "#5b3f7f",
           "#7f3f40",
           "#7f3f40",
           "#3f7c7f",
           "#3f647f",
           "#3f4c7f",
           "#5f7f3f",
           "#3f7e7f",
           "#613f7f",
           "#7f3f40",
           "#7f3f41",
           "#7e7f3f",
           "#3f7f42",
           "#3f7a7f",
           "#3f417f",
           "#4b3f7f",
           "#797f3f",
           "#417f3f",
           "#3f417f",
           "#7f3f40",
           "#7f3f7f",
           "#407f3f",
           "#3f427f",
           "#7f3f40",
           "#7f3f40",
           "#3f7f54",
           "#7f3f42",
           "#7f3f42",
           "#3f5c7f",
           "#3f7f7e",
           "#7f3f41",
           "#703f7f",
           "#3f7f44",
           "#407f3f",
           "#3f417f",
           "#7f3f40",
           "#493f7f",
           "#417f3f",
           "#3f417f",
           "#7f3f40",
           "#7f3f40",
           "#7f3f40",
           "#7f3f42",
           "#7f3f42",
           "#633f7f",
           "#7f7a3f",
           "#3f7f45",
           "#3f7d7f",
           "#453f7f",
           "#7f3f7b",
           "#7f3f40",
           "#7b3f7f",
           "#7f633f",
           "#3f747f",
           "#7f3f41",
           "#747f3f",
           "#3f757f",
           "#7f3f41",
           "#4d7f3f",
           "#3f6b7f",
           "#7f3f41",
           "#3f7f56",
           "#3f727f",
           "#7f3f41",
           "#3f7f7e",
           "#3f797f",
           "#3f7c7f",
           "#7f3f41",
           "#7f3f41",
           "#3f777f",
           "#7f3f41",
           "#3f597f",
           "#3f7f69",
           "#3f7f7f",
           "#7f3f41",
           "#7f3f41",
           "#3f737f",
           "#7f3f41",
           "#4d3f7f",
           "#3f7f72",
           "#3f767f",
           "#7f3f41",
           "#7f3f41",
           "#3f757f",
           "#7f3f41",
           "#723f7f",
           "#3f717f",
           "#7f3f41",
           "#7f3f65",
           "#3f7f40",
           "#3f707f",
           "#7f3f41",
           "#453f7f",
           "#3f6e7f",
           "#7f3f41",
           "#7f3f40",
           "#3f747f",
           "#7f3f41",
           "#7f3f3f",
           "#7f3f6d",
           "#7f3f55",
           "#547f3f",
           "#3f687f",
           "#7f3f7c",
           "#7f3f40",
           "#7f3f3f",
           "#3f7d7f",
           "#7f3f41",
           "#7f3f63",
           "#607f3f",
           "#7f7f3f",
           "#7f753f",
           "#507f3f",
           "#3f7f6b",
           "#3f637f",
           "#4b3f7f",
           "#7b3f7f",
           "#7f3f40",
           "#407f3f",
           "#3f7f6e",
           "#7f3f41",
           "#3f7f7d",
           "#7f733f",
           "#587f3f",
           "#3f7f59",
           "#3f687f",
           "#493f7f",
           "#7f3f7a",
           "#7f3f40",
           "#3f417f",
           "#7f623f",
           "#7c7f3f",
           "#5e7f3f",
           "#3f7f44",
           "#3f7f67",
           "#3f777f",
           "#3f5b7f",
           "#4a3f7f",
           "#703f7f",
           "#7f3f66",
           "#7f3f3f",
           "#7e3f7f",
           "#7f763f",
           "#4a7f3f",
           "#3f7f7f",
           "#543f7f",
           "#7f3f6d",
           "#7f7e3f",
           "#407f3f",
           "#3f407f",
           "#7f3f40",
           "#407f3f",
           "#407f3f",
           "#3f407f",
           "#7f3f40",
           "#3f7f7e",
           "#3f407f",
           "#7e3f7f",
           "#7f3f40",
           "#7f3f40",
           "#417f3f",
           "#3f417f",
           "#7f3f41",
           "#7f3f40",
           "#6f7f3f",
           "#3f7f70",
           "#523f7f",
           "#7f3f40",
           "#3f7f7e",
           "#7f623f",
           "#797f3f",
           "#577f3f",
           "#3f7f4a",
           "#3f7f7e",
           "#477f3f",
           "#3f4c7f",
           "#7f3f40",
           "#7f3f41",
           "#3f7f6f",
           "#3f6a7f",
           "#3f487f",
           "#5e3f7f",
           "#7f3f41",
           "#3f7f7e",
           "#7f3f41",
           "#7f703f",
           "#3f7f7e",
           "#7f3f41",
           "#5c7f3f",
           "#3f7f7f",
           "#3f7f7d",
           "#7f3f41",
           "#7f3f41",
           "#3f7f7e",
           "#7f3f41",
           "#3f7f52",
           "#3f7f6b",
           "#7f3f41",
           "#3f7a7f",
           "#3f7f77",
           "#7f3f41",
           "#3f537f",
           "#5d3f7f",
           "#7f3f42",
           "#3f7f7e",
           "#7f3f41",
           "#7f3f42",
           "#7f3f71",
           "#7f3f40",
           "#7f3f7a",
           "#447f3f",
           "#3f487f",
           "#7f3f4c",
           "#7f3f66",
           "#607f3f",
           "#3f7f7e",
           "#5e3f7f",
           "#7f3f40",
           "#7f3f3f",
           "#3f7f7b",
           "#7f3f41",
           "#5f3f7f",
           "#6c7f3f",
           "#7f723f",
           "#597f3f",
           "#3f7f77",
           "#7f3f41",
           "#3f7f58",
           "#3f7f77",
           "#3f547f",
           "#3f7f7e",
           "#7f3f41",
           "#583f7f",
           "#3f7f3f",
           "#3f3f7f",
           "#7f3f40",
           "#7f3f73",
           "#7f3f40",
           "#3f7f66",
           "#7f723f",
           "#3f767f",
           "#7f3f41",
           "#587f3f",
           "#3f797f",
           "#3f7f70",
           "#7f3f41",
           "#7f3f41",
           "#3f7f6e",
           "#7f3f41",
           "#3f7f57",
           "#3f757f",
           "#7f3f41",
           "#3f7f76",
           "#3f7e7f",
           "#7f3f42",
           "#3f547f",
           "#3f7e7f",
           "#3f7f7e",
           "#7f3f41",
           "#7f3f41",
           "#3f7f7f",
           "#7f3f41",
           "#583f7f",
           "#3f7e7f",
           "#3f7f40",
           "#403f7f",
           "#7f3f40",
           "#7f3f41",
           "#3f7f3f",
           "#433f7f",
           "#7f3f40",
           "#7f3f73",
           "#3f7e7f",
           "#7f3f41",
           "#7f3f40",
           "#3f7e7f",
           "#7f3f41",
           "#3f457f",
           "#7f723f",
           "#587f3f",
           "#3f7f6b",
           "#7f3f41",
           "#3f7f53",
           "#3f7f73",
           "#3f587f",
           "#3f7e7f",
           "#7f3f41",
           "#553f7f",
           "#427f3f",
           "#403f7f",
           "#7f3f40",
           "#7f3f74",
           "#7f3f40",
           "#7f3f72",
           "#7f713f",
           "#5a7f3f",
           "#3f7f7b",
           "#7f3f41",
           "#3f7f53",
           "#3f7f7f",
           "#3f4d7f",
           "#3f7e7f",
           "#7f3f41",
           "#5e3f7f",
           "#7f3f72",
           "#7f3f40",
           "#7f3f42",
           "#7f733f",
           "#567f3f",
           "#3f7f55",
           "#3f7f72",
           "#3f587f",
           "#553f7f",
           "#7f3f73",
           "#7f3f40",
           "#5e7f3f",
           "#7f743f",
           "#567f3f",
           "#3f7f55",
           "#3f7f72",
           "#3f577f",
           "#563f7f",
           "#7f3f74",
           "#7f3f40",
           "#3f7c7f",
           "#7f6e3f",
           "#5f7f3f",
           "#3f7f4e",
           "#3f7f6c",
           "#3f5e7f",
           "#523f7f",
           "#7f3f73",
           "#7f3f40",
           "#7f3f40",
           "#7f3f40",
           "#7f553f",
           "#7f6e3f",
           "#767f3f",
           "#613f7f",
           "#597f3f",
           "#7f3f42",
           "#7f3f40",
           "#3f7f42",
           "#3f7f7d",
           "#7f3f41",
           "#3f7f5f",
           "#5b7f3f",
           "#3f767f",
           "#683f7f",
           "#7f3f40",
           "#3f7f6e",
           "#3f7f7d",
           "#7f3f41",
           "#7f3f43",
           "#7f3f41",
           "#7f3f41",
           "#3f727f",
           "#7f3f41",
           "#3f547f",
           "#7f7f3f",
           "#407f3f",
           "#3f7f7f",
           "#3f407f",
           "#7f3f7f",
           "#7f3f40",
           "#483f7f",
           "#663f7f",
           "#7f3f7b",
           "#7f3f42",
           "#7f3f5d",
           "#407f3f",
           "#3f407f",
           "#7f3f40",
           "#7f3f3f",
           "#7f3f41",
           "#7f3f3f",
           "#7f4e3f",
           "#477f3f",
           "#3f477f",
           "#7f3f47",
           "#7f3f56",
           "#7f3f56",
           "#507f3f",
           "#3f407f",
           "#7f3f44",
           "#7f6c3f",
           "#647f3f",
           "#3f7f48",
           "#3f7f6c",
           "#3f647f",
           "#483f7f",
           "#753f7f",
           "#7f3f5b",
           "#7f3f40"
          ]
         },
         "maxdepth": 2,
         "name": "",
         "parents": [
          null,
          "****00",
          "****00",
          "****00",
          "****00",
          "****00",
          "****00",
          "****00",
          "****00",
          "****00",
          "*10*00",
          "****00",
          "*25*00",
          "****00",
          "****00",
          "*40*00",
          "****00",
          "****00",
          "*71000",
          "*71000",
          "*71000",
          "*71000",
          "****00",
          null,
          "000000",
          "010000",
          "010000",
          "010000",
          "000000",
          "020000",
          "020000",
          "020000",
          "000000",
          "000000",
          "040000",
          "040000",
          "040000",
          "040000",
          "040000",
          "000000",
          null,
          "100000",
          "110000",
          "111000",
          "111700",
          "111700",
          "111700",
          "111000",
          "111800",
          "111800",
          "111800",
          "111000",
          "110000",
          "112100",
          "112100",
          "112100",
          "110000",
          "113000",
          "113000",
          "113000",
          "113000",
          "110000",
          "110000",
          "100000",
          "130000",
          "131000",
          "131000",
          "131000",
          "131000",
          "131000",
          "131000",
          "131000",
          "131000",
          "131000",
          "130000",
          "132000",
          "132000",
          "130000",
          "133000",
          "133000",
          "100000",
          "140000",
          "140000",
          "140000",
          "141000",
          "141100",
          "141100",
          "141000",
          "140000",
          "140000",
          "143000",
          "143000",
          "143000",
          "143000",
          "142000",
          "142000",
          "143200",
          "143210",
          "143210",
          "143210",
          "143210",
          "143100",
          "143100",
          "142000",
          "143500",
          "143510",
          "143510",
          "143510",
          "143510",
          "143500",
          "143500",
          "140000",
          null,
          "200000",
          "210000",
          "210000",
          "210000",
          "210000",
          "210000",
          "210000",
          "211000",
          "211100",
          "211100",
          "211100",
          "211100",
          "211000",
          "211200",
          "211200",
          "211200",
          "211200",
          "210000",
          "212000",
          "212000",
          "212000",
          "212000",
          "212000",
          "212100",
          "212100",
          "212100",
          "212100",
          "212000",
          "212200",
          "212200",
          "212200",
          "212200",
          "210000",
          "213000",
          "213100",
          "213100",
          "213100",
          "213100",
          "213000",
          "213200",
          "213200",
          "213200",
          "213200",
          "210000",
          "214000",
          "214000",
          "210000",
          "216000",
          "216000",
          "216000",
          "216000",
          "210000",
          "217000",
          "217000",
          "217000",
          "217000",
          "210000",
          "218000",
          "218000",
          "218000",
          "218000",
          "210000",
          "219000",
          "219000",
          "219000",
          "219000",
          "200000",
          "220000",
          "221000",
          "221000",
          "220000",
          "222000",
          "222000",
          "222000",
          "222000",
          "222000",
          "222100",
          "222100",
          "222100",
          "220000",
          "223000",
          "223000",
          "220000",
          "220000",
          "200000",
          "230000",
          "231000",
          "231000",
          "231200",
          "231200",
          "231000",
          "230000",
          "232000",
          "232000",
          "232200",
          "232100",
          "232000",
          "232000",
          "232400",
          "232400",
          "232400",
          "232000",
          "230000",
          "233000",
          "233000",
          "233000",
          "233000",
          "230000",
          "234000",
          "234000",
          "234000",
          "234000",
          "230000",
          "230000",
          "239000",
          "239100",
          "239100",
          "239100",
          "239100",
          "239100",
          "239100",
          "235000",
          "239200",
          "239200",
          "235000",
          "239300",
          "239300",
          "239300",
          "235000",
          "239400",
          "239400",
          "239400",
          "235000",
          "239500",
          "239500",
          "239500",
          "239500",
          null,
          "3***00",
          "3***00",
          "3***00",
          "3***00",
          "3***00",
          "3***00",
          "3***00",
          null,
          "300000",
          "300000",
          "300000",
          "235000",
          "300100",
          "300100",
          "235000",
          "300200",
          "300200",
          "235000",
          "300300",
          "300300",
          "235000",
          "235000",
          "235000",
          "235000",
          "3***00",
          "230000",
          "305000",
          "3***00",
          "300000",
          "310000",
          "310000",
          "310000",
          "310000",
          "310000",
          "310000",
          "310000",
          "310*00",
          "310000",
          "315000",
          "315000",
          "3***00",
          "300000",
          "325000",
          "325000",
          "325*00",
          "325000",
          "326000",
          "3***00",
          "300000",
          "335000",
          "335000",
          "335000",
          "3***00",
          "300000",
          "340000",
          "340*00",
          "340000",
          "345000",
          "345000",
          "3***00",
          "300000",
          "350000",
          "300000",
          "371000",
          "371000",
          "371000",
          "371000",
          "300000",
          "390000",
          null,
          "4***00",
          "4***00",
          "4***00",
          "4***00",
          "4***00",
          "4***00",
          "4***00",
          null,
          "400000",
          "400000",
          "372000",
          "400100",
          "400100",
          "372000",
          "400200",
          "400200",
          "372000",
          "400300",
          "400300",
          "372000",
          "400400",
          "400400",
          "372000",
          "400500",
          "400500",
          "372000",
          "400700",
          "400700",
          "372000",
          "400800",
          "400800",
          "4***00",
          "390000",
          "405000",
          "405000",
          "4***00",
          "400000",
          "410000",
          "410000",
          "405000",
          "410100",
          "410100",
          "405000",
          "410200",
          "410200",
          "405000",
          "410300",
          "410300",
          "405000",
          "410400",
          "410400",
          "405000",
          "410500",
          "410500",
          "405000",
          "410700",
          "410700",
          "405000",
          "410800",
          "410800",
          "410*00",
          "410000",
          "415000",
          "415000",
          "415000",
          "415500",
          "415500",
          "415000",
          "415700",
          "415700",
          "4***00",
          "400000",
          "425000",
          "425000",
          "415000",
          "425300",
          "425300",
          "415000",
          "425400",
          "425400",
          "415000",
          "425500",
          "425500",
          "425*00",
          "425000",
          "426000",
          "426000",
          "4***00",
          "400000",
          "435000",
          "426000",
          "426000",
          "426000",
          "435*00",
          "435000",
          "436000",
          "436000",
          "436000",
          "436000",
          "4***00",
          "400000",
          "440000",
          "440000",
          "436000",
          "440300",
          "440300",
          "440*00",
          "440000",
          "445000",
          "445000",
          "445000",
          "445100",
          "445100",
          "445000",
          "445500",
          "445500",
          "4***00",
          "400000",
          "450000",
          "450000",
          "445000",
          "450500",
          "450500",
          "400000",
          "471000",
          "471000",
          "471000",
          "472000",
          "472000",
          "471000",
          "473000",
          "473000",
          "471000",
          "474000",
          "474000",
          "471000",
          "475000",
          "475000",
          "400000",
          "490000",
          "490000",
          "475000",
          "490500",
          "490500",
          null,
          "500000",
          "510000",
          "511000",
          "511100",
          "511100",
          "511000",
          "511200",
          "511200",
          "511210",
          "511210",
          "511000",
          "510000",
          "513000",
          "513000",
          "510000",
          "514000",
          "514000",
          "514000",
          "510000",
          "515000",
          "514100",
          "510000",
          "516000",
          "516000",
          "516000",
          "516500",
          "516500",
          "516000",
          "516900",
          "516900",
          "510000",
          "517000",
          "517000",
          "517200",
          "517200",
          "517000",
          "517400",
          "517400",
          "517000",
          "517500",
          "517500",
          "517000",
          "517000",
          "517000",
          "510000",
          "518100",
          "518110",
          "518110",
          "517600",
          "518100",
          "518100",
          "518300",
          "518300",
          "518100",
          "518500",
          "518500",
          "518100",
          "518100",
          "500000",
          "520000",
          "521000",
          "521000",
          "520000",
          "520000",
          "500000",
          "530000",
          "530000",
          "500000",
          "540000",
          "540000",
          "540000",
          "540000",
          "540000",
          "540000",
          "540000",
          "540000",
          "540000",
          "521100",
          "540000",
          "541000",
          "521100",
          "540000",
          "540000",
          "543000",
          "543000",
          "500000",
          "550000",
          "550000",
          "551000",
          "551000",
          "551000",
          "550000",
          "552000",
          "552000",
          "550000",
          "553000",
          "553100",
          "553100",
          "553000",
          "553200",
          "553200",
          "500000",
          "560000",
          "560000",
          "560000",
          "560000",
          "560000",
          null,
          "600000",
          "610000",
          "553200",
          "610000",
          "600000",
          "620000",
          "620000",
          "620000",
          "620000",
          "620000",
          "620000",
          "620000",
          "620000",
          "620000",
          "553200",
          "620010",
          "620010",
          "620010",
          "620010",
          "620000",
          "621000",
          "621000",
          "621000",
          "621000",
          "621100",
          "621100",
          "620000",
          "622000",
          "622000",
          "620000",
          "623000",
          "623000",
          "620000",
          "624000",
          "624000",
          "624000",
          "624000",
          "624200",
          "624100",
          "620000",
          "626000",
          "626000",
          "600000",
          "630000",
          "630000",
          "630000",
          "631000",
          "631000",
          "631000",
          "631000",
          "630000",
          "632000",
          "632000",
          "632000",
          "632000",
          "630000",
          "600000",
          "640000",
          "640000",
          "640000",
          "641000",
          "641000",
          "641000",
          "641000",
          "641000",
          "600000",
          "650000",
          "651000",
          "651000",
          "651000",
          "651000",
          "650000",
          "652000",
          "652000",
          "652000",
          "652000",
          "650000",
          "655000",
          "655000",
          "655000",
          "655000",
          "655000",
          "655000",
          "655000",
          "655000",
          "655000",
          "652100",
          "655010",
          "655010",
          "655000",
          "655000",
          "650000",
          "650000",
          "657000",
          "657000",
          "657000",
          "657000",
          "657000",
          "600000",
          "660000",
          "660000",
          "660000",
          "660000",
          "660000",
          "661000",
          "661000",
          "661000",
          "660000",
          "662000",
          "662000",
          "660000",
          "600000",
          "670000",
          "670000",
          "670000",
          "670000",
          "670000",
          "670000",
          "670000",
          "670000",
          "662100",
          "670010",
          "670010",
          "670010",
          "670010",
          "670010",
          "670010",
          "670010",
          "670010",
          "670010",
          "662100",
          "670020",
          "670020",
          "670020",
          "670020",
          "670020",
          "670020",
          "662100",
          "670030",
          "670030",
          "670030",
          "670030",
          "662100",
          "670000",
          "670000",
          "670000",
          "673000",
          "673000",
          "673000",
          "673000",
          "671000",
          "673100",
          "673100",
          "673100",
          "673100",
          "670000",
          "674000",
          "674010",
          "674010",
          "674010",
          "673100",
          "674020",
          "674020",
          "674020",
          "673100",
          "674000",
          "674100",
          "674111",
          "674000",
          "674200",
          "674200",
          "674000",
          "674300",
          "674310",
          "674310",
          "674310",
          "674300",
          "674320",
          "674320",
          "674320",
          "674300",
          "674000",
          "674500",
          "674512",
          "670000",
          "675000",
          "675000",
          "675000",
          "675000",
          "675000",
          "675000",
          "670000",
          "676000",
          "676010",
          "676010",
          "676000",
          "676100",
          "676100",
          "676000",
          "676200",
          "676200",
          "676000",
          "676300",
          "676300",
          "676000",
          "676400",
          "676410",
          "676410",
          "676400",
          "676420",
          "676420",
          "676000",
          "676500",
          "676510",
          "676510",
          "676500",
          "676520",
          "676520",
          "676000",
          "676600",
          "676610",
          "676610",
          "676600",
          "676620",
          "676620",
          "676000",
          "676700",
          "676700",
          "676000",
          "676800",
          "676810",
          "676810",
          "676800",
          "676820",
          "676820",
          "676800",
          "676830",
          "676830",
          "676000",
          "670000",
          "670000",
          "678000",
          "678000",
          "678000",
          "678000",
          "670000",
          "679000",
          "679000",
          null,
          "700000",
          "710000",
          "712000",
          "712000",
          "712000",
          "712000",
          "712000",
          "712000",
          "712000",
          "710000",
          "713000",
          "713000",
          "710000",
          "714000",
          "714000",
          "714000",
          "714000",
          "714000",
          "714000",
          "714000",
          "710000",
          "715000",
          "715000",
          "715000",
          "715000",
          "715000",
          "715000",
          "715000",
          "715000",
          "715000",
          "715000",
          "715000",
          "710000",
          "716000",
          "716000",
          "716000",
          "716000",
          "716000",
          "716400",
          "716420",
          "716420",
          "716420",
          "716100",
          "716430",
          "716430",
          "716430",
          "716100",
          "716100",
          "716100",
          "716100",
          "716000",
          "716500",
          "716500",
          "716500",
          "710000",
          "719000",
          "719000",
          "719000",
          "719000",
          "700000",
          "720000",
          "720000",
          "720000",
          "720000",
          "719200",
          "720011",
          "720011",
          "720011",
          "719200",
          "720000",
          "720000",
          "720000",
          "720000",
          "725000",
          "725100",
          "725100",
          "721000",
          "725200",
          "725200",
          "721000",
          "725300",
          "725310",
          "725310",
          "725300",
          "725320",
          "725320",
          "721000",
          "725400",
          "725400",
          "721000",
          "725500",
          "725500",
          "721000",
          "721000",
          "725700",
          "725710",
          "725710",
          "725600",
          "721000",
          "721000",
          "720000",
          "726000",
          "726000",
          "726000",
          "720000",
          "727000",
          "727000",
          "727000",
          "727000",
          "720000",
          "728000",
          "728000",
          "700000",
          "730000",
          "731000",
          "731000",
          "731200",
          "731200",
          "731000",
          "731000",
          "731000",
          "731600",
          "731600",
          "731000",
          "731700",
          "731700",
          "731700",
          "731000",
          "731000",
          "730000",
          "732000",
          "732100",
          "732100",
          "732000",
          "732200",
          "732210",
          "732210",
          "732200",
          "732220",
          "732220",
          "732000",
          "732300",
          "732300",
          "732000",
          "732400",
          "732400",
          "732000",
          "732600",
          "732610",
          "732610",
          "732600",
          "732620",
          "732620",
          "732000",
          "732700",
          "732710",
          "732710",
          "732710",
          "732700",
          "732720",
          "732720",
          "732720",
          "732000",
          "732800",
          "732800",
          "732000",
          "732900",
          "732900",
          "730000",
          "733000",
          "733000",
          "733200",
          "733200",
          "733000",
          "733000",
          "733000",
          "733600",
          "733600",
          "733000",
          "733700",
          "733700",
          "733700",
          "733000",
          "733000",
          "730000",
          "734000",
          "734000",
          "734200",
          "734200",
          "734000",
          "734000",
          "734000",
          "734500",
          "734500",
          "734000",
          "734000",
          "734000",
          "734800",
          "734810",
          "734810",
          "734810",
          "734810",
          "734810",
          "734810",
          "734810",
          "734810",
          "734600",
          "734820",
          "734820",
          "734820",
          "734820",
          "734820",
          "734820",
          "734820",
          "734820",
          "734600",
          "734840",
          "734840",
          "734840",
          "734840",
          "734840",
          "734840",
          "734840",
          "734840",
          "730000",
          "700000",
          "740000",
          "740000",
          "740000",
          "734600",
          "740000",
          "741000",
          "734600",
          "740000",
          "742000",
          "742000",
          "740000",
          "743000",
          "743000",
          "743000",
          "743000",
          "740000",
          "744000",
          "744000",
          null,
          "890000",
          "891000",
          "740000",
          "892000",
          "740000",
          "893000",
          "893000",
          "893000",
          "893000",
          "893000",
          "893000",
          "740000",
          "740000",
          "740000",
          "897000",
          "740000",
          "898000",
          "898000",
          "898000",
          "740000",
          "899000",
          null,
          "900230",
          "900250",
          "900250",
          "900250",
          "899500",
          "900260",
          "900230",
          "900230",
          "972500",
          "973000",
          "973000",
          "973000",
          "973000",
          "973000",
          "973000",
          "973000",
          "973000",
          "973000"
         ],
         "type": "sunburst"
        }
       ],
       "layout": {
        "coloraxis": {
         "showscale": false
        },
        "height": 750,
        "legend": {
         "tracegroupgap": 0
        },
        "margin": {
         "b": 15,
         "l": 15,
         "r": 15,
         "t": 15
        },
        "template": {
         "data": {
          "bar": [
           {
            "error_x": {
             "color": "#2a3f5f"
            },
            "error_y": {
             "color": "#2a3f5f"
            },
            "marker": {
             "line": {
              "color": "#E5ECF6",
              "width": 0.5
             },
             "pattern": {
              "fillmode": "overlay",
              "size": 10,
              "solidity": 0.2
             }
            },
            "type": "bar"
           }
          ],
          "barpolar": [
           {
            "marker": {
             "line": {
              "color": "#E5ECF6",
              "width": 0.5
             },
             "pattern": {
              "fillmode": "overlay",
              "size": 10,
              "solidity": 0.2
             }
            },
            "type": "barpolar"
           }
          ],
          "carpet": [
           {
            "aaxis": {
             "endlinecolor": "#2a3f5f",
             "gridcolor": "white",
             "linecolor": "white",
             "minorgridcolor": "white",
             "startlinecolor": "#2a3f5f"
            },
            "baxis": {
             "endlinecolor": "#2a3f5f",
             "gridcolor": "white",
             "linecolor": "white",
             "minorgridcolor": "white",
             "startlinecolor": "#2a3f5f"
            },
            "type": "carpet"
           }
          ],
          "choropleth": [
           {
            "colorbar": {
             "outlinewidth": 0,
             "ticks": ""
            },
            "type": "choropleth"
           }
          ],
          "contour": [
           {
            "colorbar": {
             "outlinewidth": 0,
             "ticks": ""
            },
            "colorscale": [
             [
              0,
              "#0d0887"
             ],
             [
              0.1111111111111111,
              "#46039f"
             ],
             [
              0.2222222222222222,
              "#7201a8"
             ],
             [
              0.3333333333333333,
              "#9c179e"
             ],
             [
              0.4444444444444444,
              "#bd3786"
             ],
             [
              0.5555555555555556,
              "#d8576b"
             ],
             [
              0.6666666666666666,
              "#ed7953"
             ],
             [
              0.7777777777777778,
              "#fb9f3a"
             ],
             [
              0.8888888888888888,
              "#fdca26"
             ],
             [
              1,
              "#f0f921"
             ]
            ],
            "type": "contour"
           }
          ],
          "contourcarpet": [
           {
            "colorbar": {
             "outlinewidth": 0,
             "ticks": ""
            },
            "type": "contourcarpet"
           }
          ],
          "heatmap": [
           {
            "colorbar": {
             "outlinewidth": 0,
             "ticks": ""
            },
            "colorscale": [
             [
              0,
              "#0d0887"
             ],
             [
              0.1111111111111111,
              "#46039f"
             ],
             [
              0.2222222222222222,
              "#7201a8"
             ],
             [
              0.3333333333333333,
              "#9c179e"
             ],
             [
              0.4444444444444444,
              "#bd3786"
             ],
             [
              0.5555555555555556,
              "#d8576b"
             ],
             [
              0.6666666666666666,
              "#ed7953"
             ],
             [
              0.7777777777777778,
              "#fb9f3a"
             ],
             [
              0.8888888888888888,
              "#fdca26"
             ],
             [
              1,
              "#f0f921"
             ]
            ],
            "type": "heatmap"
           }
          ],
          "heatmapgl": [
           {
            "colorbar": {
             "outlinewidth": 0,
             "ticks": ""
            },
            "colorscale": [
             [
              0,
              "#0d0887"
             ],
             [
              0.1111111111111111,
              "#46039f"
             ],
             [
              0.2222222222222222,
              "#7201a8"
             ],
             [
              0.3333333333333333,
              "#9c179e"
             ],
             [
              0.4444444444444444,
              "#bd3786"
             ],
             [
              0.5555555555555556,
              "#d8576b"
             ],
             [
              0.6666666666666666,
              "#ed7953"
             ],
             [
              0.7777777777777778,
              "#fb9f3a"
             ],
             [
              0.8888888888888888,
              "#fdca26"
             ],
             [
              1,
              "#f0f921"
             ]
            ],
            "type": "heatmapgl"
           }
          ],
          "histogram": [
           {
            "marker": {
             "pattern": {
              "fillmode": "overlay",
              "size": 10,
              "solidity": 0.2
             }
            },
            "type": "histogram"
           }
          ],
          "histogram2d": [
           {
            "colorbar": {
             "outlinewidth": 0,
             "ticks": ""
            },
            "colorscale": [
             [
              0,
              "#0d0887"
             ],
             [
              0.1111111111111111,
              "#46039f"
             ],
             [
              0.2222222222222222,
              "#7201a8"
             ],
             [
              0.3333333333333333,
              "#9c179e"
             ],
             [
              0.4444444444444444,
              "#bd3786"
             ],
             [
              0.5555555555555556,
              "#d8576b"
             ],
             [
              0.6666666666666666,
              "#ed7953"
             ],
             [
              0.7777777777777778,
              "#fb9f3a"
             ],
             [
              0.8888888888888888,
              "#fdca26"
             ],
             [
              1,
              "#f0f921"
             ]
            ],
            "type": "histogram2d"
           }
          ],
          "histogram2dcontour": [
           {
            "colorbar": {
             "outlinewidth": 0,
             "ticks": ""
            },
            "colorscale": [
             [
              0,
              "#0d0887"
             ],
             [
              0.1111111111111111,
              "#46039f"
             ],
             [
              0.2222222222222222,
              "#7201a8"
             ],
             [
              0.3333333333333333,
              "#9c179e"
             ],
             [
              0.4444444444444444,
              "#bd3786"
             ],
             [
              0.5555555555555556,
              "#d8576b"
             ],
             [
              0.6666666666666666,
              "#ed7953"
             ],
             [
              0.7777777777777778,
              "#fb9f3a"
             ],
             [
              0.8888888888888888,
              "#fdca26"
             ],
             [
              1,
              "#f0f921"
             ]
            ],
            "type": "histogram2dcontour"
           }
          ],
          "mesh3d": [
           {
            "colorbar": {
             "outlinewidth": 0,
             "ticks": ""
            },
            "type": "mesh3d"
           }
          ],
          "parcoords": [
           {
            "line": {
             "colorbar": {
              "outlinewidth": 0,
              "ticks": ""
             }
            },
            "type": "parcoords"
           }
          ],
          "pie": [
           {
            "automargin": true,
            "type": "pie"
           }
          ],
          "scatter": [
           {
            "fillpattern": {
             "fillmode": "overlay",
             "size": 10,
             "solidity": 0.2
            },
            "type": "scatter"
           }
          ],
          "scatter3d": [
           {
            "line": {
             "colorbar": {
              "outlinewidth": 0,
              "ticks": ""
             }
            },
            "marker": {
             "colorbar": {
              "outlinewidth": 0,
              "ticks": ""
             }
            },
            "type": "scatter3d"
           }
          ],
          "scattercarpet": [
           {
            "marker": {
             "colorbar": {
              "outlinewidth": 0,
              "ticks": ""
             }
            },
            "type": "scattercarpet"
           }
          ],
          "scattergeo": [
           {
            "marker": {
             "colorbar": {
              "outlinewidth": 0,
              "ticks": ""
             }
            },
            "type": "scattergeo"
           }
          ],
          "scattergl": [
           {
            "marker": {
             "colorbar": {
              "outlinewidth": 0,
              "ticks": ""
             }
            },
            "type": "scattergl"
           }
          ],
          "scattermapbox": [
           {
            "marker": {
             "colorbar": {
              "outlinewidth": 0,
              "ticks": ""
             }
            },
            "type": "scattermapbox"
           }
          ],
          "scatterpolar": [
           {
            "marker": {
             "colorbar": {
              "outlinewidth": 0,
              "ticks": ""
             }
            },
            "type": "scatterpolar"
           }
          ],
          "scatterpolargl": [
           {
            "marker": {
             "colorbar": {
              "outlinewidth": 0,
              "ticks": ""
             }
            },
            "type": "scatterpolargl"
           }
          ],
          "scatterternary": [
           {
            "marker": {
             "colorbar": {
              "outlinewidth": 0,
              "ticks": ""
             }
            },
            "type": "scatterternary"
           }
          ],
          "surface": [
           {
            "colorbar": {
             "outlinewidth": 0,
             "ticks": ""
            },
            "colorscale": [
             [
              0,
              "#0d0887"
             ],
             [
              0.1111111111111111,
              "#46039f"
             ],
             [
              0.2222222222222222,
              "#7201a8"
             ],
             [
              0.3333333333333333,
              "#9c179e"
             ],
             [
              0.4444444444444444,
              "#bd3786"
             ],
             [
              0.5555555555555556,
              "#d8576b"
             ],
             [
              0.6666666666666666,
              "#ed7953"
             ],
             [
              0.7777777777777778,
              "#fb9f3a"
             ],
             [
              0.8888888888888888,
              "#fdca26"
             ],
             [
              1,
              "#f0f921"
             ]
            ],
            "type": "surface"
           }
          ],
          "table": [
           {
            "cells": {
             "fill": {
              "color": "#EBF0F8"
             },
             "line": {
              "color": "white"
             }
            },
            "header": {
             "fill": {
              "color": "#C8D4E3"
             },
             "line": {
              "color": "white"
             }
            },
            "type": "table"
           }
          ]
         },
         "layout": {
          "annotationdefaults": {
           "arrowcolor": "#2a3f5f",
           "arrowhead": 0,
           "arrowwidth": 1
          },
          "autotypenumbers": "strict",
          "coloraxis": {
           "colorbar": {
            "outlinewidth": 0,
            "ticks": ""
           }
          },
          "colorscale": {
           "diverging": [
            [
             0,
             "#8e0152"
            ],
            [
             0.1,
             "#c51b7d"
            ],
            [
             0.2,
             "#de77ae"
            ],
            [
             0.3,
             "#f1b6da"
            ],
            [
             0.4,
             "#fde0ef"
            ],
            [
             0.5,
             "#f7f7f7"
            ],
            [
             0.6,
             "#e6f5d0"
            ],
            [
             0.7,
             "#b8e186"
            ],
            [
             0.8,
             "#7fbc41"
            ],
            [
             0.9,
             "#4d9221"
            ],
            [
             1,
             "#276419"
            ]
           ],
           "sequential": [
            [
             0,
             "#0d0887"
            ],
            [
             0.1111111111111111,
             "#46039f"
            ],
            [
             0.2222222222222222,
             "#7201a8"
            ],
            [
             0.3333333333333333,
             "#9c179e"
            ],
            [
             0.4444444444444444,
             "#bd3786"
            ],
            [
             0.5555555555555556,
             "#d8576b"
            ],
            [
             0.6666666666666666,
             "#ed7953"
            ],
            [
             0.7777777777777778,
             "#fb9f3a"
            ],
            [
             0.8888888888888888,
             "#fdca26"
            ],
            [
             1,
             "#f0f921"
            ]
           ],
           "sequentialminus": [
            [
             0,
             "#0d0887"
            ],
            [
             0.1111111111111111,
             "#46039f"
            ],
            [
             0.2222222222222222,
             "#7201a8"
            ],
            [
             0.3333333333333333,
             "#9c179e"
            ],
            [
             0.4444444444444444,
             "#bd3786"
            ],
            [
             0.5555555555555556,
             "#d8576b"
            ],
            [
             0.6666666666666666,
             "#ed7953"
            ],
            [
             0.7777777777777778,
             "#fb9f3a"
            ],
            [
             0.8888888888888888,
             "#fdca26"
            ],
            [
             1,
             "#f0f921"
            ]
           ]
          },
          "colorway": [
           "#636efa",
           "#EF553B",
           "#00cc96",
           "#ab63fa",
           "#FFA15A",
           "#19d3f3",
           "#FF6692",
           "#B6E880",
           "#FF97FF",
           "#FECB52"
          ],
          "font": {
           "color": "#2a3f5f"
          },
          "geo": {
           "bgcolor": "white",
           "lakecolor": "white",
           "landcolor": "#E5ECF6",
           "showlakes": true,
           "showland": true,
           "subunitcolor": "white"
          },
          "hoverlabel": {
           "align": "left"
          },
          "hovermode": "closest",
          "mapbox": {
           "style": "light"
          },
          "paper_bgcolor": "white",
          "plot_bgcolor": "#E5ECF6",
          "polar": {
           "angularaxis": {
            "gridcolor": "white",
            "linecolor": "white",
            "ticks": ""
           },
           "bgcolor": "#E5ECF6",
           "radialaxis": {
            "gridcolor": "white",
            "linecolor": "white",
            "ticks": ""
           }
          },
          "scene": {
           "xaxis": {
            "backgroundcolor": "#E5ECF6",
            "gridcolor": "white",
            "gridwidth": 2,
            "linecolor": "white",
            "showbackground": true,
            "ticks": "",
            "zerolinecolor": "white"
           },
           "yaxis": {
            "backgroundcolor": "#E5ECF6",
            "gridcolor": "white",
            "gridwidth": 2,
            "linecolor": "white",
            "showbackground": true,
            "ticks": "",
            "zerolinecolor": "white"
           },
           "zaxis": {
            "backgroundcolor": "#E5ECF6",
            "gridcolor": "white",
            "gridwidth": 2,
            "linecolor": "white",
            "showbackground": true,
            "ticks": "",
            "zerolinecolor": "white"
           }
          },
          "shapedefaults": {
           "line": {
            "color": "#2a3f5f"
           }
          },
          "ternary": {
           "aaxis": {
            "gridcolor": "white",
            "linecolor": "white",
            "ticks": ""
           },
           "baxis": {
            "gridcolor": "white",
            "linecolor": "white",
            "ticks": ""
           },
           "bgcolor": "#E5ECF6",
           "caxis": {
            "gridcolor": "white",
            "linecolor": "white",
            "ticks": ""
           }
          },
          "title": {
           "x": 0.05
          },
          "xaxis": {
           "automargin": true,
           "gridcolor": "white",
           "linecolor": "white",
           "ticks": "",
           "title": {
            "standoff": 15
           },
           "zerolinecolor": "white",
           "zerolinewidth": 2
          },
          "yaxis": {
           "automargin": true,
           "gridcolor": "white",
           "linecolor": "white",
           "ticks": "",
           "title": {
            "standoff": 15
           },
           "zerolinecolor": "white",
           "zerolinewidth": 2
          }
         }
        },
        "width": 750
       }
      }
     },
     "metadata": {},
     "output_type": "display_data"
    }
   ],
   "source": [
    "data = data.loc[(data.year.eq(2021) & (data.state.eq(\"Bund\")))]\n",
    "data = hierarchize_data(data)\n",
    "\n",
    "fig = px.sunburst(data,\n",
    "                  names='key',\n",
    "                #   values='one',\n",
    "                  parents='parent',\n",
    "                  color=\"key\",\n",
    "                  color_discrete_map=colormap,\n",
    "                  hover_data=['label', 'key', 'count'],\n",
    "                  maxdepth=2,\n",
    "                  height=750,\n",
    "                  width=750)\n",
    "\n",
    "fig.update_layout(margin=dict(t=15, r=15, b=15, l=15))\n",
    "fig.update_coloraxes(showscale=False)"
   ]
  }
 ],
 "metadata": {
  "kernelspec": {
   "display_name": "venv",
   "language": "python",
   "name": "python3"
  },
  "language_info": {
   "codemirror_mode": {
    "name": "ipython",
    "version": 3
   },
   "file_extension": ".py",
   "mimetype": "text/x-python",
   "name": "python",
   "nbconvert_exporter": "python",
   "pygments_lexer": "ipython3",
   "version": "3.10.12"
  },
  "orig_nbformat": 4
 },
 "nbformat": 4,
 "nbformat_minor": 2
}
