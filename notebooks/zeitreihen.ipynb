{
 "cells": [
  {
   "cell_type": "code",
   "execution_count": 1,
   "metadata": {},
   "outputs": [],
   "source": [
    "import sys\n",
    "import re\n",
    "\n",
    "import pandas as pd\n",
    "import numpy as np\n",
    "import plotly.express as px\n",
    "import plotly.graph_objects as go\n",
    "from plotly.subplots import make_subplots\n",
    "\n",
    "sys.path.append('../src/')\n",
    "\n",
    "from visualization.visualize import get_timeseries"
   ]
  },
  {
   "cell_type": "code",
   "execution_count": 2,
   "metadata": {},
   "outputs": [
    {
     "data": {
      "text/html": [
       "<div>\n",
       "<style scoped>\n",
       "    .dataframe tbody tr th:only-of-type {\n",
       "        vertical-align: middle;\n",
       "    }\n",
       "\n",
       "    .dataframe tbody tr th {\n",
       "        vertical-align: top;\n",
       "    }\n",
       "\n",
       "    .dataframe thead th {\n",
       "        text-align: right;\n",
       "    }\n",
       "</style>\n",
       "<table border=\"1\" class=\"dataframe\">\n",
       "  <thead>\n",
       "    <tr style=\"text-align: right;\">\n",
       "      <th></th>\n",
       "      <th>key</th>\n",
       "      <th>year</th>\n",
       "      <th>state</th>\n",
       "      <th>label</th>\n",
       "      <th>index</th>\n",
       "      <th>count</th>\n",
       "      <th>freq</th>\n",
       "      <th>attempts</th>\n",
       "      <th>clearance</th>\n",
       "      <th>label_change</th>\n",
       "      <th>color</th>\n",
       "    </tr>\n",
       "  </thead>\n",
       "  <tbody>\n",
       "    <tr>\n",
       "      <th>0</th>\n",
       "      <td>****00</td>\n",
       "      <td>2013</td>\n",
       "      <td>Baden-Württemberg</td>\n",
       "      <td>Diebstahl insgesamt und zwar:</td>\n",
       "      <td>5599</td>\n",
       "      <td>208604</td>\n",
       "      <td>1973.700000</td>\n",
       "      <td>21196</td>\n",
       "      <td>64409</td>\n",
       "      <td>True</td>\n",
       "      <td>#bf5f00</td>\n",
       "    </tr>\n",
       "    <tr>\n",
       "      <th>1</th>\n",
       "      <td>****00</td>\n",
       "      <td>2013</td>\n",
       "      <td>Bayern</td>\n",
       "      <td>Diebstahl insgesamt und zwar:</td>\n",
       "      <td>5600</td>\n",
       "      <td>192429</td>\n",
       "      <td>1537.000000</td>\n",
       "      <td>16300</td>\n",
       "      <td>70111</td>\n",
       "      <td>True</td>\n",
       "      <td>#bf5f00</td>\n",
       "    </tr>\n",
       "    <tr>\n",
       "      <th>2</th>\n",
       "      <td>****00</td>\n",
       "      <td>2013</td>\n",
       "      <td>Berlin</td>\n",
       "      <td>Diebstahl insgesamt und zwar:</td>\n",
       "      <td>5601</td>\n",
       "      <td>226279</td>\n",
       "      <td>6704.100000</td>\n",
       "      <td>22016</td>\n",
       "      <td>48041</td>\n",
       "      <td>True</td>\n",
       "      <td>#bf5f00</td>\n",
       "    </tr>\n",
       "    <tr>\n",
       "      <th>3</th>\n",
       "      <td>****00</td>\n",
       "      <td>2013</td>\n",
       "      <td>Brandenburg</td>\n",
       "      <td>Diebstahl insgesamt und zwar:</td>\n",
       "      <td>5602</td>\n",
       "      <td>83537</td>\n",
       "      <td>3410.400000</td>\n",
       "      <td>9144</td>\n",
       "      <td>23639</td>\n",
       "      <td>True</td>\n",
       "      <td>#bf5f00</td>\n",
       "    </tr>\n",
       "    <tr>\n",
       "      <th>4</th>\n",
       "      <td>****00</td>\n",
       "      <td>2013</td>\n",
       "      <td>Bremen</td>\n",
       "      <td>Diebstahl insgesamt und zwar:</td>\n",
       "      <td>5603</td>\n",
       "      <td>39467</td>\n",
       "      <td>6027.600000</td>\n",
       "      <td>4932</td>\n",
       "      <td>9743</td>\n",
       "      <td>True</td>\n",
       "      <td>#bf5f00</td>\n",
       "    </tr>\n",
       "    <tr>\n",
       "      <th>...</th>\n",
       "      <td>...</td>\n",
       "      <td>...</td>\n",
       "      <td>...</td>\n",
       "      <td>...</td>\n",
       "      <td>...</td>\n",
       "      <td>...</td>\n",
       "      <td>...</td>\n",
       "      <td>...</td>\n",
       "      <td>...</td>\n",
       "      <td>...</td>\n",
       "      <td>...</td>\n",
       "    </tr>\n",
       "    <tr>\n",
       "      <th>164394</th>\n",
       "      <td>980100</td>\n",
       "      <td>2020</td>\n",
       "      <td>Saarland</td>\n",
       "      <td>Cybercrime im engeren Sinne</td>\n",
       "      <td>18779</td>\n",
       "      <td>982</td>\n",
       "      <td>99.504807</td>\n",
       "      <td>137</td>\n",
       "      <td>443</td>\n",
       "      <td>False</td>\n",
       "      <td>#bf0002</td>\n",
       "    </tr>\n",
       "    <tr>\n",
       "      <th>164395</th>\n",
       "      <td>980100</td>\n",
       "      <td>2020</td>\n",
       "      <td>Sachsen</td>\n",
       "      <td>Cybercrime im engeren Sinne</td>\n",
       "      <td>18780</td>\n",
       "      <td>2295</td>\n",
       "      <td>56.360912</td>\n",
       "      <td>216</td>\n",
       "      <td>1627</td>\n",
       "      <td>False</td>\n",
       "      <td>#bf0002</td>\n",
       "    </tr>\n",
       "    <tr>\n",
       "      <th>164396</th>\n",
       "      <td>980100</td>\n",
       "      <td>2020</td>\n",
       "      <td>Sachsen-Anhalt</td>\n",
       "      <td>Cybercrime im engeren Sinne</td>\n",
       "      <td>18781</td>\n",
       "      <td>5348</td>\n",
       "      <td>243.668847</td>\n",
       "      <td>875</td>\n",
       "      <td>1663</td>\n",
       "      <td>False</td>\n",
       "      <td>#bf0002</td>\n",
       "    </tr>\n",
       "    <tr>\n",
       "      <th>164397</th>\n",
       "      <td>980100</td>\n",
       "      <td>2020</td>\n",
       "      <td>Schleswig-Holstein</td>\n",
       "      <td>Cybercrime im engeren Sinne</td>\n",
       "      <td>18782</td>\n",
       "      <td>1625</td>\n",
       "      <td>55.961675</td>\n",
       "      <td>320</td>\n",
       "      <td>818</td>\n",
       "      <td>False</td>\n",
       "      <td>#bf0002</td>\n",
       "    </tr>\n",
       "    <tr>\n",
       "      <th>164398</th>\n",
       "      <td>980100</td>\n",
       "      <td>2020</td>\n",
       "      <td>Thüringen</td>\n",
       "      <td>Cybercrime im engeren Sinne</td>\n",
       "      <td>18783</td>\n",
       "      <td>2736</td>\n",
       "      <td>128.247315</td>\n",
       "      <td>235</td>\n",
       "      <td>953</td>\n",
       "      <td>False</td>\n",
       "      <td>#bf0002</td>\n",
       "    </tr>\n",
       "  </tbody>\n",
       "</table>\n",
       "<p>164399 rows × 11 columns</p>\n",
       "</div>"
      ],
      "text/plain": [
       "           key  year               state                          label  \\\n",
       "0       ****00  2013   Baden-Württemberg  Diebstahl insgesamt und zwar:   \n",
       "1       ****00  2013              Bayern  Diebstahl insgesamt und zwar:   \n",
       "2       ****00  2013              Berlin  Diebstahl insgesamt und zwar:   \n",
       "3       ****00  2013         Brandenburg  Diebstahl insgesamt und zwar:   \n",
       "4       ****00  2013              Bremen  Diebstahl insgesamt und zwar:   \n",
       "...        ...   ...                 ...                            ...   \n",
       "164394  980100  2020            Saarland    Cybercrime im engeren Sinne   \n",
       "164395  980100  2020             Sachsen    Cybercrime im engeren Sinne   \n",
       "164396  980100  2020      Sachsen-Anhalt    Cybercrime im engeren Sinne   \n",
       "164397  980100  2020  Schleswig-Holstein    Cybercrime im engeren Sinne   \n",
       "164398  980100  2020           Thüringen    Cybercrime im engeren Sinne   \n",
       "\n",
       "        index   count         freq  attempts  clearance  label_change    color  \n",
       "0        5599  208604  1973.700000     21196      64409          True  #bf5f00  \n",
       "1        5600  192429  1537.000000     16300      70111          True  #bf5f00  \n",
       "2        5601  226279  6704.100000     22016      48041          True  #bf5f00  \n",
       "3        5602   83537  3410.400000      9144      23639          True  #bf5f00  \n",
       "4        5603   39467  6027.600000      4932       9743          True  #bf5f00  \n",
       "...       ...     ...          ...       ...        ...           ...      ...  \n",
       "164394  18779     982    99.504807       137        443         False  #bf0002  \n",
       "164395  18780    2295    56.360912       216       1627         False  #bf0002  \n",
       "164396  18781    5348   243.668847       875       1663         False  #bf0002  \n",
       "164397  18782    1625    55.961675       320        818         False  #bf0002  \n",
       "164398  18783    2736   128.247315       235        953         False  #bf0002  \n",
       "\n",
       "[164399 rows x 11 columns]"
      ]
     },
     "execution_count": 2,
     "metadata": {},
     "output_type": "execute_result"
    }
   ],
   "source": [
    "selected = [\"621000\", \"620000\", \"621040\"]\n",
    "\n",
    "data_raw = pd.read_parquet(\"../data/processed/pks.parquet\")\n",
    "timerange = [min(data_raw.year), max(data_raw.year)]\n",
    "data_raw"
   ]
  },
  {
   "cell_type": "code",
   "execution_count": 3,
   "metadata": {},
   "outputs": [
    {
     "data": {
      "text/html": [
       "<div>\n",
       "<style scoped>\n",
       "    .dataframe tbody tr th:only-of-type {\n",
       "        vertical-align: middle;\n",
       "    }\n",
       "\n",
       "    .dataframe tbody tr th {\n",
       "        vertical-align: top;\n",
       "    }\n",
       "\n",
       "    .dataframe thead th {\n",
       "        text-align: right;\n",
       "    }\n",
       "</style>\n",
       "<table border=\"1\" class=\"dataframe\">\n",
       "  <thead>\n",
       "    <tr style=\"text-align: right;\">\n",
       "      <th></th>\n",
       "      <th>key</th>\n",
       "      <th>state</th>\n",
       "      <th>year</th>\n",
       "      <th>label</th>\n",
       "      <th>color</th>\n",
       "      <th>variable</th>\n",
       "      <th>value</th>\n",
       "    </tr>\n",
       "  </thead>\n",
       "  <tbody>\n",
       "    <tr>\n",
       "      <th>0</th>\n",
       "      <td>621000</td>\n",
       "      <td>Bund</td>\n",
       "      <td>2013</td>\n",
       "      <td>Widerstand gegen die Staatsgewalt §§ 111, 113,...</td>\n",
       "      <td>#001bbf</td>\n",
       "      <td>count</td>\n",
       "      <td>21618</td>\n",
       "    </tr>\n",
       "    <tr>\n",
       "      <th>1</th>\n",
       "      <td>621000</td>\n",
       "      <td>Bund</td>\n",
       "      <td>2014</td>\n",
       "      <td>Widerstand gegen die Staatsgewalt §§ 111, 113,...</td>\n",
       "      <td>#001bbf</td>\n",
       "      <td>count</td>\n",
       "      <td>21937</td>\n",
       "    </tr>\n",
       "    <tr>\n",
       "      <th>2</th>\n",
       "      <td>621000</td>\n",
       "      <td>Bund</td>\n",
       "      <td>2015</td>\n",
       "      <td>Widerstand gegen die Staatsgewalt §§ 111, 113,...</td>\n",
       "      <td>#001bbf</td>\n",
       "      <td>count</td>\n",
       "      <td>21945</td>\n",
       "    </tr>\n",
       "    <tr>\n",
       "      <th>3</th>\n",
       "      <td>621000</td>\n",
       "      <td>Bund</td>\n",
       "      <td>2016</td>\n",
       "      <td>Widerstand gegen die Staatsgewalt §§ 111, 113,...</td>\n",
       "      <td>#001bbf</td>\n",
       "      <td>count</td>\n",
       "      <td>24362</td>\n",
       "    </tr>\n",
       "    <tr>\n",
       "      <th>4</th>\n",
       "      <td>621000</td>\n",
       "      <td>Bund</td>\n",
       "      <td>2017</td>\n",
       "      <td>Widerstand gegen die Staatsgewalt §§ 111, 113,...</td>\n",
       "      <td>#001bbf</td>\n",
       "      <td>count</td>\n",
       "      <td>24419</td>\n",
       "    </tr>\n",
       "    <tr>\n",
       "      <th>5</th>\n",
       "      <td>621000</td>\n",
       "      <td>Bund</td>\n",
       "      <td>2018</td>\n",
       "      <td>Widerstand gegen und tätlicher Angriff auf die...</td>\n",
       "      <td>#001bbf</td>\n",
       "      <td>count</td>\n",
       "      <td>34168</td>\n",
       "    </tr>\n",
       "    <tr>\n",
       "      <th>6</th>\n",
       "      <td>621000</td>\n",
       "      <td>Bund</td>\n",
       "      <td>2019</td>\n",
       "      <td>Widerstand gegen und tätlicher Angriff auf die...</td>\n",
       "      <td>#001bbf</td>\n",
       "      <td>count</td>\n",
       "      <td>36959</td>\n",
       "    </tr>\n",
       "    <tr>\n",
       "      <th>7</th>\n",
       "      <td>621000</td>\n",
       "      <td>Bund</td>\n",
       "      <td>2020</td>\n",
       "      <td>Widerstand gegen und tätlicher Angriff auf die...</td>\n",
       "      <td>#001bbf</td>\n",
       "      <td>count</td>\n",
       "      <td>37778</td>\n",
       "    </tr>\n",
       "    <tr>\n",
       "      <th>8</th>\n",
       "      <td>621000</td>\n",
       "      <td>Bund</td>\n",
       "      <td>2021</td>\n",
       "      <td>Widerstand gegen und tätlicher Angriff auf die...</td>\n",
       "      <td>#001bbf</td>\n",
       "      <td>count</td>\n",
       "      <td>39239</td>\n",
       "    </tr>\n",
       "    <tr>\n",
       "      <th>9</th>\n",
       "      <td>621000</td>\n",
       "      <td>Bund</td>\n",
       "      <td>2022</td>\n",
       "      <td>Widerstand gegen und tätlicher Angriff auf die...</td>\n",
       "      <td>#001bbf</td>\n",
       "      <td>count</td>\n",
       "      <td>42013</td>\n",
       "    </tr>\n",
       "    <tr>\n",
       "      <th>10</th>\n",
       "      <td>620000</td>\n",
       "      <td>Bund</td>\n",
       "      <td>2013</td>\n",
       "      <td>Widerstand gegen die Staatsgewalt und Straftat...</td>\n",
       "      <td>#37bf00</td>\n",
       "      <td>count</td>\n",
       "      <td>125805</td>\n",
       "    </tr>\n",
       "    <tr>\n",
       "      <th>11</th>\n",
       "      <td>620000</td>\n",
       "      <td>Bund</td>\n",
       "      <td>2014</td>\n",
       "      <td>Widerstand gegen die Staatsgewalt und Straftat...</td>\n",
       "      <td>#37bf00</td>\n",
       "      <td>count</td>\n",
       "      <td>128911</td>\n",
       "    </tr>\n",
       "    <tr>\n",
       "      <th>12</th>\n",
       "      <td>620000</td>\n",
       "      <td>Bund</td>\n",
       "      <td>2015</td>\n",
       "      <td>Widerstand gegen die Staatsgewalt und Straftat...</td>\n",
       "      <td>#37bf00</td>\n",
       "      <td>count</td>\n",
       "      <td>135789</td>\n",
       "    </tr>\n",
       "    <tr>\n",
       "      <th>13</th>\n",
       "      <td>620000</td>\n",
       "      <td>Bund</td>\n",
       "      <td>2016</td>\n",
       "      <td>Widerstand gegen die Staatsgewalt und Straftat...</td>\n",
       "      <td>#37bf00</td>\n",
       "      <td>count</td>\n",
       "      <td>147502</td>\n",
       "    </tr>\n",
       "    <tr>\n",
       "      <th>14</th>\n",
       "      <td>620000</td>\n",
       "      <td>Bund</td>\n",
       "      <td>2017</td>\n",
       "      <td>Widerstand gegen die Staatsgewalt und Straftat...</td>\n",
       "      <td>#37bf00</td>\n",
       "      <td>count</td>\n",
       "      <td>147033</td>\n",
       "    </tr>\n",
       "    <tr>\n",
       "      <th>15</th>\n",
       "      <td>620000</td>\n",
       "      <td>Bund</td>\n",
       "      <td>2018</td>\n",
       "      <td>Widerstand gegen und tätlicher Angriff auf die...</td>\n",
       "      <td>#37bf00</td>\n",
       "      <td>count</td>\n",
       "      <td>159032</td>\n",
       "    </tr>\n",
       "    <tr>\n",
       "      <th>16</th>\n",
       "      <td>620000</td>\n",
       "      <td>Bund</td>\n",
       "      <td>2019</td>\n",
       "      <td>Widerstand gegen und tätlicher Angriff auf die...</td>\n",
       "      <td>#37bf00</td>\n",
       "      <td>count</td>\n",
       "      <td>159620</td>\n",
       "    </tr>\n",
       "    <tr>\n",
       "      <th>17</th>\n",
       "      <td>620000</td>\n",
       "      <td>Bund</td>\n",
       "      <td>2020</td>\n",
       "      <td>Widerstand gegen und tätlicher Angriff auf die...</td>\n",
       "      <td>#37bf00</td>\n",
       "      <td>count</td>\n",
       "      <td>169427</td>\n",
       "    </tr>\n",
       "    <tr>\n",
       "      <th>18</th>\n",
       "      <td>620000</td>\n",
       "      <td>Bund</td>\n",
       "      <td>2021</td>\n",
       "      <td>Widerstand gegen und tätlicher Angriff auf die...</td>\n",
       "      <td>#37bf00</td>\n",
       "      <td>count</td>\n",
       "      <td>158326</td>\n",
       "    </tr>\n",
       "    <tr>\n",
       "      <th>19</th>\n",
       "      <td>620000</td>\n",
       "      <td>Bund</td>\n",
       "      <td>2022</td>\n",
       "      <td>Widerstand gegen und tätlicher Angriff auf die...</td>\n",
       "      <td>#37bf00</td>\n",
       "      <td>count</td>\n",
       "      <td>162785</td>\n",
       "    </tr>\n",
       "    <tr>\n",
       "      <th>20</th>\n",
       "      <td>100000</td>\n",
       "      <td>Bund</td>\n",
       "      <td>2013</td>\n",
       "      <td>Straftaten gegen die sexuelle Selbstbestimmung</td>\n",
       "      <td>#5dbf00</td>\n",
       "      <td>count</td>\n",
       "      <td>46793</td>\n",
       "    </tr>\n",
       "    <tr>\n",
       "      <th>21</th>\n",
       "      <td>100000</td>\n",
       "      <td>Bund</td>\n",
       "      <td>2014</td>\n",
       "      <td>Straftaten gegen die sexuelle Selbstbestimmung</td>\n",
       "      <td>#5dbf00</td>\n",
       "      <td>count</td>\n",
       "      <td>46982</td>\n",
       "    </tr>\n",
       "    <tr>\n",
       "      <th>22</th>\n",
       "      <td>100000</td>\n",
       "      <td>Bund</td>\n",
       "      <td>2015</td>\n",
       "      <td>Straftaten gegen die sexuelle Selbstbestimmung</td>\n",
       "      <td>#5dbf00</td>\n",
       "      <td>count</td>\n",
       "      <td>46081</td>\n",
       "    </tr>\n",
       "    <tr>\n",
       "      <th>23</th>\n",
       "      <td>100000</td>\n",
       "      <td>Bund</td>\n",
       "      <td>2016</td>\n",
       "      <td>Straftaten gegen die sexuelle Selbstbestimmung</td>\n",
       "      <td>#5dbf00</td>\n",
       "      <td>count</td>\n",
       "      <td>47401</td>\n",
       "    </tr>\n",
       "    <tr>\n",
       "      <th>24</th>\n",
       "      <td>100000</td>\n",
       "      <td>Bund</td>\n",
       "      <td>2017</td>\n",
       "      <td>Straftaten gegen die sexuelle Selbstbestimmung</td>\n",
       "      <td>#5dbf00</td>\n",
       "      <td>count</td>\n",
       "      <td>56047</td>\n",
       "    </tr>\n",
       "    <tr>\n",
       "      <th>25</th>\n",
       "      <td>100000</td>\n",
       "      <td>Bund</td>\n",
       "      <td>2018</td>\n",
       "      <td>Straftaten gegen die sexuelle Selbstbestimmung...</td>\n",
       "      <td>#5dbf00</td>\n",
       "      <td>count</td>\n",
       "      <td>63782</td>\n",
       "    </tr>\n",
       "    <tr>\n",
       "      <th>26</th>\n",
       "      <td>100000</td>\n",
       "      <td>Bund</td>\n",
       "      <td>2019</td>\n",
       "      <td>Straftaten gegen die sexuelle Selbstbestimmung...</td>\n",
       "      <td>#5dbf00</td>\n",
       "      <td>count</td>\n",
       "      <td>69881</td>\n",
       "    </tr>\n",
       "    <tr>\n",
       "      <th>27</th>\n",
       "      <td>100000</td>\n",
       "      <td>Bund</td>\n",
       "      <td>2020</td>\n",
       "      <td>Straftaten gegen die sexuelle Selbstbestimmung...</td>\n",
       "      <td>#5dbf00</td>\n",
       "      <td>count</td>\n",
       "      <td>81630</td>\n",
       "    </tr>\n",
       "    <tr>\n",
       "      <th>28</th>\n",
       "      <td>100000</td>\n",
       "      <td>Bund</td>\n",
       "      <td>2021</td>\n",
       "      <td>Straftaten gegen die sexuelle Selbstbestimmung...</td>\n",
       "      <td>#5dbf00</td>\n",
       "      <td>count</td>\n",
       "      <td>106656</td>\n",
       "    </tr>\n",
       "    <tr>\n",
       "      <th>29</th>\n",
       "      <td>100000</td>\n",
       "      <td>Bund</td>\n",
       "      <td>2022</td>\n",
       "      <td>Straftaten gegen die sexuelle Selbstbestimmung...</td>\n",
       "      <td>#5dbf00</td>\n",
       "      <td>count</td>\n",
       "      <td>118196</td>\n",
       "    </tr>\n",
       "    <tr>\n",
       "      <th>30</th>\n",
       "      <td>621000</td>\n",
       "      <td>Bund</td>\n",
       "      <td>2013</td>\n",
       "      <td>Widerstand gegen die Staatsgewalt §§ 111, 113,...</td>\n",
       "      <td>#001bbf</td>\n",
       "      <td>unsolved</td>\n",
       "      <td>442</td>\n",
       "    </tr>\n",
       "    <tr>\n",
       "      <th>31</th>\n",
       "      <td>621000</td>\n",
       "      <td>Bund</td>\n",
       "      <td>2014</td>\n",
       "      <td>Widerstand gegen die Staatsgewalt §§ 111, 113,...</td>\n",
       "      <td>#001bbf</td>\n",
       "      <td>unsolved</td>\n",
       "      <td>405</td>\n",
       "    </tr>\n",
       "    <tr>\n",
       "      <th>32</th>\n",
       "      <td>621000</td>\n",
       "      <td>Bund</td>\n",
       "      <td>2015</td>\n",
       "      <td>Widerstand gegen die Staatsgewalt §§ 111, 113,...</td>\n",
       "      <td>#001bbf</td>\n",
       "      <td>unsolved</td>\n",
       "      <td>543</td>\n",
       "    </tr>\n",
       "    <tr>\n",
       "      <th>33</th>\n",
       "      <td>621000</td>\n",
       "      <td>Bund</td>\n",
       "      <td>2016</td>\n",
       "      <td>Widerstand gegen die Staatsgewalt §§ 111, 113,...</td>\n",
       "      <td>#001bbf</td>\n",
       "      <td>unsolved</td>\n",
       "      <td>627</td>\n",
       "    </tr>\n",
       "    <tr>\n",
       "      <th>34</th>\n",
       "      <td>621000</td>\n",
       "      <td>Bund</td>\n",
       "      <td>2017</td>\n",
       "      <td>Widerstand gegen die Staatsgewalt §§ 111, 113,...</td>\n",
       "      <td>#001bbf</td>\n",
       "      <td>unsolved</td>\n",
       "      <td>498</td>\n",
       "    </tr>\n",
       "    <tr>\n",
       "      <th>35</th>\n",
       "      <td>621000</td>\n",
       "      <td>Bund</td>\n",
       "      <td>2018</td>\n",
       "      <td>Widerstand gegen und tätlicher Angriff auf die...</td>\n",
       "      <td>#001bbf</td>\n",
       "      <td>unsolved</td>\n",
       "      <td>553</td>\n",
       "    </tr>\n",
       "    <tr>\n",
       "      <th>36</th>\n",
       "      <td>621000</td>\n",
       "      <td>Bund</td>\n",
       "      <td>2019</td>\n",
       "      <td>Widerstand gegen und tätlicher Angriff auf die...</td>\n",
       "      <td>#001bbf</td>\n",
       "      <td>unsolved</td>\n",
       "      <td>742</td>\n",
       "    </tr>\n",
       "    <tr>\n",
       "      <th>37</th>\n",
       "      <td>621000</td>\n",
       "      <td>Bund</td>\n",
       "      <td>2020</td>\n",
       "      <td>Widerstand gegen und tätlicher Angriff auf die...</td>\n",
       "      <td>#001bbf</td>\n",
       "      <td>unsolved</td>\n",
       "      <td>737</td>\n",
       "    </tr>\n",
       "    <tr>\n",
       "      <th>38</th>\n",
       "      <td>621000</td>\n",
       "      <td>Bund</td>\n",
       "      <td>2021</td>\n",
       "      <td>Widerstand gegen und tätlicher Angriff auf die...</td>\n",
       "      <td>#001bbf</td>\n",
       "      <td>unsolved</td>\n",
       "      <td>918</td>\n",
       "    </tr>\n",
       "    <tr>\n",
       "      <th>39</th>\n",
       "      <td>621000</td>\n",
       "      <td>Bund</td>\n",
       "      <td>2022</td>\n",
       "      <td>Widerstand gegen und tätlicher Angriff auf die...</td>\n",
       "      <td>#001bbf</td>\n",
       "      <td>unsolved</td>\n",
       "      <td>918</td>\n",
       "    </tr>\n",
       "    <tr>\n",
       "      <th>40</th>\n",
       "      <td>620000</td>\n",
       "      <td>Bund</td>\n",
       "      <td>2013</td>\n",
       "      <td>Widerstand gegen die Staatsgewalt und Straftat...</td>\n",
       "      <td>#37bf00</td>\n",
       "      <td>unsolved</td>\n",
       "      <td>13077</td>\n",
       "    </tr>\n",
       "    <tr>\n",
       "      <th>41</th>\n",
       "      <td>620000</td>\n",
       "      <td>Bund</td>\n",
       "      <td>2014</td>\n",
       "      <td>Widerstand gegen die Staatsgewalt und Straftat...</td>\n",
       "      <td>#37bf00</td>\n",
       "      <td>unsolved</td>\n",
       "      <td>13936</td>\n",
       "    </tr>\n",
       "    <tr>\n",
       "      <th>42</th>\n",
       "      <td>620000</td>\n",
       "      <td>Bund</td>\n",
       "      <td>2015</td>\n",
       "      <td>Widerstand gegen die Staatsgewalt und Straftat...</td>\n",
       "      <td>#37bf00</td>\n",
       "      <td>unsolved</td>\n",
       "      <td>16790</td>\n",
       "    </tr>\n",
       "    <tr>\n",
       "      <th>43</th>\n",
       "      <td>620000</td>\n",
       "      <td>Bund</td>\n",
       "      <td>2016</td>\n",
       "      <td>Widerstand gegen die Staatsgewalt und Straftat...</td>\n",
       "      <td>#37bf00</td>\n",
       "      <td>unsolved</td>\n",
       "      <td>18412</td>\n",
       "    </tr>\n",
       "    <tr>\n",
       "      <th>44</th>\n",
       "      <td>620000</td>\n",
       "      <td>Bund</td>\n",
       "      <td>2017</td>\n",
       "      <td>Widerstand gegen die Staatsgewalt und Straftat...</td>\n",
       "      <td>#37bf00</td>\n",
       "      <td>unsolved</td>\n",
       "      <td>18729</td>\n",
       "    </tr>\n",
       "    <tr>\n",
       "      <th>45</th>\n",
       "      <td>620000</td>\n",
       "      <td>Bund</td>\n",
       "      <td>2018</td>\n",
       "      <td>Widerstand gegen und tätlicher Angriff auf die...</td>\n",
       "      <td>#37bf00</td>\n",
       "      <td>unsolved</td>\n",
       "      <td>20232</td>\n",
       "    </tr>\n",
       "    <tr>\n",
       "      <th>46</th>\n",
       "      <td>620000</td>\n",
       "      <td>Bund</td>\n",
       "      <td>2019</td>\n",
       "      <td>Widerstand gegen und tätlicher Angriff auf die...</td>\n",
       "      <td>#37bf00</td>\n",
       "      <td>unsolved</td>\n",
       "      <td>18109</td>\n",
       "    </tr>\n",
       "    <tr>\n",
       "      <th>47</th>\n",
       "      <td>620000</td>\n",
       "      <td>Bund</td>\n",
       "      <td>2020</td>\n",
       "      <td>Widerstand gegen und tätlicher Angriff auf die...</td>\n",
       "      <td>#37bf00</td>\n",
       "      <td>unsolved</td>\n",
       "      <td>19736</td>\n",
       "    </tr>\n",
       "    <tr>\n",
       "      <th>48</th>\n",
       "      <td>620000</td>\n",
       "      <td>Bund</td>\n",
       "      <td>2021</td>\n",
       "      <td>Widerstand gegen und tätlicher Angriff auf die...</td>\n",
       "      <td>#37bf00</td>\n",
       "      <td>unsolved</td>\n",
       "      <td>19321</td>\n",
       "    </tr>\n",
       "    <tr>\n",
       "      <th>49</th>\n",
       "      <td>620000</td>\n",
       "      <td>Bund</td>\n",
       "      <td>2022</td>\n",
       "      <td>Widerstand gegen und tätlicher Angriff auf die...</td>\n",
       "      <td>#37bf00</td>\n",
       "      <td>unsolved</td>\n",
       "      <td>21962</td>\n",
       "    </tr>\n",
       "    <tr>\n",
       "      <th>50</th>\n",
       "      <td>100000</td>\n",
       "      <td>Bund</td>\n",
       "      <td>2013</td>\n",
       "      <td>Straftaten gegen die sexuelle Selbstbestimmung</td>\n",
       "      <td>#5dbf00</td>\n",
       "      <td>unsolved</td>\n",
       "      <td>9600</td>\n",
       "    </tr>\n",
       "    <tr>\n",
       "      <th>51</th>\n",
       "      <td>100000</td>\n",
       "      <td>Bund</td>\n",
       "      <td>2014</td>\n",
       "      <td>Straftaten gegen die sexuelle Selbstbestimmung</td>\n",
       "      <td>#5dbf00</td>\n",
       "      <td>unsolved</td>\n",
       "      <td>10118</td>\n",
       "    </tr>\n",
       "    <tr>\n",
       "      <th>52</th>\n",
       "      <td>100000</td>\n",
       "      <td>Bund</td>\n",
       "      <td>2015</td>\n",
       "      <td>Straftaten gegen die sexuelle Selbstbestimmung</td>\n",
       "      <td>#5dbf00</td>\n",
       "      <td>unsolved</td>\n",
       "      <td>9549</td>\n",
       "    </tr>\n",
       "    <tr>\n",
       "      <th>53</th>\n",
       "      <td>100000</td>\n",
       "      <td>Bund</td>\n",
       "      <td>2016</td>\n",
       "      <td>Straftaten gegen die sexuelle Selbstbestimmung</td>\n",
       "      <td>#5dbf00</td>\n",
       "      <td>unsolved</td>\n",
       "      <td>9959</td>\n",
       "    </tr>\n",
       "    <tr>\n",
       "      <th>54</th>\n",
       "      <td>100000</td>\n",
       "      <td>Bund</td>\n",
       "      <td>2017</td>\n",
       "      <td>Straftaten gegen die sexuelle Selbstbestimmung</td>\n",
       "      <td>#5dbf00</td>\n",
       "      <td>unsolved</td>\n",
       "      <td>11733</td>\n",
       "    </tr>\n",
       "    <tr>\n",
       "      <th>55</th>\n",
       "      <td>100000</td>\n",
       "      <td>Bund</td>\n",
       "      <td>2018</td>\n",
       "      <td>Straftaten gegen die sexuelle Selbstbestimmung...</td>\n",
       "      <td>#5dbf00</td>\n",
       "      <td>unsolved</td>\n",
       "      <td>12649</td>\n",
       "    </tr>\n",
       "    <tr>\n",
       "      <th>56</th>\n",
       "      <td>100000</td>\n",
       "      <td>Bund</td>\n",
       "      <td>2019</td>\n",
       "      <td>Straftaten gegen die sexuelle Selbstbestimmung...</td>\n",
       "      <td>#5dbf00</td>\n",
       "      <td>unsolved</td>\n",
       "      <td>12265</td>\n",
       "    </tr>\n",
       "    <tr>\n",
       "      <th>57</th>\n",
       "      <td>100000</td>\n",
       "      <td>Bund</td>\n",
       "      <td>2020</td>\n",
       "      <td>Straftaten gegen die sexuelle Selbstbestimmung...</td>\n",
       "      <td>#5dbf00</td>\n",
       "      <td>unsolved</td>\n",
       "      <td>13974</td>\n",
       "    </tr>\n",
       "    <tr>\n",
       "      <th>58</th>\n",
       "      <td>100000</td>\n",
       "      <td>Bund</td>\n",
       "      <td>2021</td>\n",
       "      <td>Straftaten gegen die sexuelle Selbstbestimmung...</td>\n",
       "      <td>#5dbf00</td>\n",
       "      <td>unsolved</td>\n",
       "      <td>16294</td>\n",
       "    </tr>\n",
       "    <tr>\n",
       "      <th>59</th>\n",
       "      <td>100000</td>\n",
       "      <td>Bund</td>\n",
       "      <td>2022</td>\n",
       "      <td>Straftaten gegen die sexuelle Selbstbestimmung...</td>\n",
       "      <td>#5dbf00</td>\n",
       "      <td>unsolved</td>\n",
       "      <td>19820</td>\n",
       "    </tr>\n",
       "  </tbody>\n",
       "</table>\n",
       "</div>"
      ],
      "text/plain": [
       "       key state  year                                              label  \\\n",
       "0   621000  Bund  2013  Widerstand gegen die Staatsgewalt §§ 111, 113,...   \n",
       "1   621000  Bund  2014  Widerstand gegen die Staatsgewalt §§ 111, 113,...   \n",
       "2   621000  Bund  2015  Widerstand gegen die Staatsgewalt §§ 111, 113,...   \n",
       "3   621000  Bund  2016  Widerstand gegen die Staatsgewalt §§ 111, 113,...   \n",
       "4   621000  Bund  2017  Widerstand gegen die Staatsgewalt §§ 111, 113,...   \n",
       "5   621000  Bund  2018  Widerstand gegen und tätlicher Angriff auf die...   \n",
       "6   621000  Bund  2019  Widerstand gegen und tätlicher Angriff auf die...   \n",
       "7   621000  Bund  2020  Widerstand gegen und tätlicher Angriff auf die...   \n",
       "8   621000  Bund  2021  Widerstand gegen und tätlicher Angriff auf die...   \n",
       "9   621000  Bund  2022  Widerstand gegen und tätlicher Angriff auf die...   \n",
       "10  620000  Bund  2013  Widerstand gegen die Staatsgewalt und Straftat...   \n",
       "11  620000  Bund  2014  Widerstand gegen die Staatsgewalt und Straftat...   \n",
       "12  620000  Bund  2015  Widerstand gegen die Staatsgewalt und Straftat...   \n",
       "13  620000  Bund  2016  Widerstand gegen die Staatsgewalt und Straftat...   \n",
       "14  620000  Bund  2017  Widerstand gegen die Staatsgewalt und Straftat...   \n",
       "15  620000  Bund  2018  Widerstand gegen und tätlicher Angriff auf die...   \n",
       "16  620000  Bund  2019  Widerstand gegen und tätlicher Angriff auf die...   \n",
       "17  620000  Bund  2020  Widerstand gegen und tätlicher Angriff auf die...   \n",
       "18  620000  Bund  2021  Widerstand gegen und tätlicher Angriff auf die...   \n",
       "19  620000  Bund  2022  Widerstand gegen und tätlicher Angriff auf die...   \n",
       "20  100000  Bund  2013     Straftaten gegen die sexuelle Selbstbestimmung   \n",
       "21  100000  Bund  2014     Straftaten gegen die sexuelle Selbstbestimmung   \n",
       "22  100000  Bund  2015     Straftaten gegen die sexuelle Selbstbestimmung   \n",
       "23  100000  Bund  2016     Straftaten gegen die sexuelle Selbstbestimmung   \n",
       "24  100000  Bund  2017     Straftaten gegen die sexuelle Selbstbestimmung   \n",
       "25  100000  Bund  2018  Straftaten gegen die sexuelle Selbstbestimmung...   \n",
       "26  100000  Bund  2019  Straftaten gegen die sexuelle Selbstbestimmung...   \n",
       "27  100000  Bund  2020  Straftaten gegen die sexuelle Selbstbestimmung...   \n",
       "28  100000  Bund  2021  Straftaten gegen die sexuelle Selbstbestimmung...   \n",
       "29  100000  Bund  2022  Straftaten gegen die sexuelle Selbstbestimmung...   \n",
       "30  621000  Bund  2013  Widerstand gegen die Staatsgewalt §§ 111, 113,...   \n",
       "31  621000  Bund  2014  Widerstand gegen die Staatsgewalt §§ 111, 113,...   \n",
       "32  621000  Bund  2015  Widerstand gegen die Staatsgewalt §§ 111, 113,...   \n",
       "33  621000  Bund  2016  Widerstand gegen die Staatsgewalt §§ 111, 113,...   \n",
       "34  621000  Bund  2017  Widerstand gegen die Staatsgewalt §§ 111, 113,...   \n",
       "35  621000  Bund  2018  Widerstand gegen und tätlicher Angriff auf die...   \n",
       "36  621000  Bund  2019  Widerstand gegen und tätlicher Angriff auf die...   \n",
       "37  621000  Bund  2020  Widerstand gegen und tätlicher Angriff auf die...   \n",
       "38  621000  Bund  2021  Widerstand gegen und tätlicher Angriff auf die...   \n",
       "39  621000  Bund  2022  Widerstand gegen und tätlicher Angriff auf die...   \n",
       "40  620000  Bund  2013  Widerstand gegen die Staatsgewalt und Straftat...   \n",
       "41  620000  Bund  2014  Widerstand gegen die Staatsgewalt und Straftat...   \n",
       "42  620000  Bund  2015  Widerstand gegen die Staatsgewalt und Straftat...   \n",
       "43  620000  Bund  2016  Widerstand gegen die Staatsgewalt und Straftat...   \n",
       "44  620000  Bund  2017  Widerstand gegen die Staatsgewalt und Straftat...   \n",
       "45  620000  Bund  2018  Widerstand gegen und tätlicher Angriff auf die...   \n",
       "46  620000  Bund  2019  Widerstand gegen und tätlicher Angriff auf die...   \n",
       "47  620000  Bund  2020  Widerstand gegen und tätlicher Angriff auf die...   \n",
       "48  620000  Bund  2021  Widerstand gegen und tätlicher Angriff auf die...   \n",
       "49  620000  Bund  2022  Widerstand gegen und tätlicher Angriff auf die...   \n",
       "50  100000  Bund  2013     Straftaten gegen die sexuelle Selbstbestimmung   \n",
       "51  100000  Bund  2014     Straftaten gegen die sexuelle Selbstbestimmung   \n",
       "52  100000  Bund  2015     Straftaten gegen die sexuelle Selbstbestimmung   \n",
       "53  100000  Bund  2016     Straftaten gegen die sexuelle Selbstbestimmung   \n",
       "54  100000  Bund  2017     Straftaten gegen die sexuelle Selbstbestimmung   \n",
       "55  100000  Bund  2018  Straftaten gegen die sexuelle Selbstbestimmung...   \n",
       "56  100000  Bund  2019  Straftaten gegen die sexuelle Selbstbestimmung...   \n",
       "57  100000  Bund  2020  Straftaten gegen die sexuelle Selbstbestimmung...   \n",
       "58  100000  Bund  2021  Straftaten gegen die sexuelle Selbstbestimmung...   \n",
       "59  100000  Bund  2022  Straftaten gegen die sexuelle Selbstbestimmung...   \n",
       "\n",
       "      color  variable   value  \n",
       "0   #001bbf     count   21618  \n",
       "1   #001bbf     count   21937  \n",
       "2   #001bbf     count   21945  \n",
       "3   #001bbf     count   24362  \n",
       "4   #001bbf     count   24419  \n",
       "5   #001bbf     count   34168  \n",
       "6   #001bbf     count   36959  \n",
       "7   #001bbf     count   37778  \n",
       "8   #001bbf     count   39239  \n",
       "9   #001bbf     count   42013  \n",
       "10  #37bf00     count  125805  \n",
       "11  #37bf00     count  128911  \n",
       "12  #37bf00     count  135789  \n",
       "13  #37bf00     count  147502  \n",
       "14  #37bf00     count  147033  \n",
       "15  #37bf00     count  159032  \n",
       "16  #37bf00     count  159620  \n",
       "17  #37bf00     count  169427  \n",
       "18  #37bf00     count  158326  \n",
       "19  #37bf00     count  162785  \n",
       "20  #5dbf00     count   46793  \n",
       "21  #5dbf00     count   46982  \n",
       "22  #5dbf00     count   46081  \n",
       "23  #5dbf00     count   47401  \n",
       "24  #5dbf00     count   56047  \n",
       "25  #5dbf00     count   63782  \n",
       "26  #5dbf00     count   69881  \n",
       "27  #5dbf00     count   81630  \n",
       "28  #5dbf00     count  106656  \n",
       "29  #5dbf00     count  118196  \n",
       "30  #001bbf  unsolved     442  \n",
       "31  #001bbf  unsolved     405  \n",
       "32  #001bbf  unsolved     543  \n",
       "33  #001bbf  unsolved     627  \n",
       "34  #001bbf  unsolved     498  \n",
       "35  #001bbf  unsolved     553  \n",
       "36  #001bbf  unsolved     742  \n",
       "37  #001bbf  unsolved     737  \n",
       "38  #001bbf  unsolved     918  \n",
       "39  #001bbf  unsolved     918  \n",
       "40  #37bf00  unsolved   13077  \n",
       "41  #37bf00  unsolved   13936  \n",
       "42  #37bf00  unsolved   16790  \n",
       "43  #37bf00  unsolved   18412  \n",
       "44  #37bf00  unsolved   18729  \n",
       "45  #37bf00  unsolved   20232  \n",
       "46  #37bf00  unsolved   18109  \n",
       "47  #37bf00  unsolved   19736  \n",
       "48  #37bf00  unsolved   19321  \n",
       "49  #37bf00  unsolved   21962  \n",
       "50  #5dbf00  unsolved    9600  \n",
       "51  #5dbf00  unsolved   10118  \n",
       "52  #5dbf00  unsolved    9549  \n",
       "53  #5dbf00  unsolved    9959  \n",
       "54  #5dbf00  unsolved   11733  \n",
       "55  #5dbf00  unsolved   12649  \n",
       "56  #5dbf00  unsolved   12265  \n",
       "57  #5dbf00  unsolved   13974  \n",
       "58  #5dbf00  unsolved   16294  \n",
       "59  #5dbf00  unsolved   19820  "
      ]
     },
     "execution_count": 3,
     "metadata": {},
     "output_type": "execute_result"
    }
   ],
   "source": [
    "selected = [{\"state\": \"Bund\", \"key\": \"621000\"},\n",
    "            {\"state\": \"Bund\", \"key\": \"620000\"},\n",
    "            {\"state\": \"Bund\", \"key\": \"100000\"},\n",
    "            ]\n",
    "\n",
    "df = pd.concat([\n",
    "    data_raw.loc[(data_raw.state.eq(entry[\"state\"])) & (data_raw.key.eq(entry[\"key\"]))] for entry in selected\n",
    "])\n",
    "\n",
    "df = df[[\"key\", \"state\", \"year\", \"label\", \"count\", \"clearance\", \"color\"]]\n",
    "df[\"unsolved\"] = df[\"count\"] - df[\"clearance\"]\n",
    "df = pd.melt(df,\n",
    "                  id_vars=[\"key\", \"state\", \"year\", \"label\", \"color\"],\n",
    "                  value_vars=[\"count\", \"unsolved\"],\n",
    "                  )\n",
    "colormap = {i: grp.loc[grp.index[0], \"color\"] for i, grp in df.groupby(\"key\")}\n",
    "\n",
    "df"
   ]
  },
  {
   "cell_type": "code",
   "execution_count": 4,
   "metadata": {},
   "outputs": [
    {
     "data": {
      "application/vnd.plotly.v1+json": {
       "config": {
        "plotlyServerURL": "https://plot.ly"
       },
       "data": [
        {
         "marker": {
          "color": "#5dbf00"
         },
         "showlegend": false,
         "type": "bar",
         "x": [
          "100000<br>D"
         ],
         "xaxis": "x",
         "y": [
          46793
         ],
         "yaxis": "y"
        },
        {
         "marker": {
          "color": "grey"
         },
         "showlegend": false,
         "type": "bar",
         "x": [
          "100000<br>D"
         ],
         "xaxis": "x",
         "y": [
          9600
         ],
         "yaxis": "y"
        },
        {
         "marker": {
          "color": "#37bf00"
         },
         "showlegend": false,
         "type": "bar",
         "x": [
          "620000<br>D"
         ],
         "xaxis": "x",
         "y": [
          125805
         ],
         "yaxis": "y"
        },
        {
         "marker": {
          "color": "grey"
         },
         "showlegend": false,
         "type": "bar",
         "x": [
          "620000<br>D"
         ],
         "xaxis": "x",
         "y": [
          13077
         ],
         "yaxis": "y"
        },
        {
         "marker": {
          "color": "#001bbf"
         },
         "showlegend": false,
         "type": "bar",
         "x": [
          "621000<br>D"
         ],
         "xaxis": "x",
         "y": [
          21618
         ],
         "yaxis": "y"
        },
        {
         "marker": {
          "color": "grey"
         },
         "showlegend": false,
         "type": "bar",
         "x": [
          "621000<br>D"
         ],
         "xaxis": "x",
         "y": [
          442
         ],
         "yaxis": "y"
        },
        {
         "marker": {
          "color": "#5dbf00"
         },
         "showlegend": false,
         "type": "bar",
         "x": [
          "100000<br>D"
         ],
         "xaxis": "x2",
         "y": [
          46982
         ],
         "yaxis": "y2"
        },
        {
         "marker": {
          "color": "grey"
         },
         "showlegend": false,
         "type": "bar",
         "x": [
          "100000<br>D"
         ],
         "xaxis": "x2",
         "y": [
          10118
         ],
         "yaxis": "y2"
        },
        {
         "marker": {
          "color": "#37bf00"
         },
         "showlegend": false,
         "type": "bar",
         "x": [
          "620000<br>D"
         ],
         "xaxis": "x2",
         "y": [
          128911
         ],
         "yaxis": "y2"
        },
        {
         "marker": {
          "color": "grey"
         },
         "showlegend": false,
         "type": "bar",
         "x": [
          "620000<br>D"
         ],
         "xaxis": "x2",
         "y": [
          13936
         ],
         "yaxis": "y2"
        },
        {
         "marker": {
          "color": "#001bbf"
         },
         "showlegend": false,
         "type": "bar",
         "x": [
          "621000<br>D"
         ],
         "xaxis": "x2",
         "y": [
          21937
         ],
         "yaxis": "y2"
        },
        {
         "marker": {
          "color": "grey"
         },
         "showlegend": false,
         "type": "bar",
         "x": [
          "621000<br>D"
         ],
         "xaxis": "x2",
         "y": [
          405
         ],
         "yaxis": "y2"
        },
        {
         "marker": {
          "color": "#5dbf00"
         },
         "showlegend": false,
         "type": "bar",
         "x": [
          "100000<br>D"
         ],
         "xaxis": "x3",
         "y": [
          46081
         ],
         "yaxis": "y3"
        },
        {
         "marker": {
          "color": "grey"
         },
         "showlegend": false,
         "type": "bar",
         "x": [
          "100000<br>D"
         ],
         "xaxis": "x3",
         "y": [
          9549
         ],
         "yaxis": "y3"
        },
        {
         "marker": {
          "color": "#37bf00"
         },
         "showlegend": false,
         "type": "bar",
         "x": [
          "620000<br>D"
         ],
         "xaxis": "x3",
         "y": [
          135789
         ],
         "yaxis": "y3"
        },
        {
         "marker": {
          "color": "grey"
         },
         "showlegend": false,
         "type": "bar",
         "x": [
          "620000<br>D"
         ],
         "xaxis": "x3",
         "y": [
          16790
         ],
         "yaxis": "y3"
        },
        {
         "marker": {
          "color": "#001bbf"
         },
         "showlegend": false,
         "type": "bar",
         "x": [
          "621000<br>D"
         ],
         "xaxis": "x3",
         "y": [
          21945
         ],
         "yaxis": "y3"
        },
        {
         "marker": {
          "color": "grey"
         },
         "showlegend": false,
         "type": "bar",
         "x": [
          "621000<br>D"
         ],
         "xaxis": "x3",
         "y": [
          543
         ],
         "yaxis": "y3"
        },
        {
         "marker": {
          "color": "#5dbf00"
         },
         "showlegend": false,
         "type": "bar",
         "x": [
          "100000<br>D"
         ],
         "xaxis": "x4",
         "y": [
          47401
         ],
         "yaxis": "y4"
        },
        {
         "marker": {
          "color": "grey"
         },
         "showlegend": false,
         "type": "bar",
         "x": [
          "100000<br>D"
         ],
         "xaxis": "x4",
         "y": [
          9959
         ],
         "yaxis": "y4"
        },
        {
         "marker": {
          "color": "#37bf00"
         },
         "showlegend": false,
         "type": "bar",
         "x": [
          "620000<br>D"
         ],
         "xaxis": "x4",
         "y": [
          147502
         ],
         "yaxis": "y4"
        },
        {
         "marker": {
          "color": "grey"
         },
         "showlegend": false,
         "type": "bar",
         "x": [
          "620000<br>D"
         ],
         "xaxis": "x4",
         "y": [
          18412
         ],
         "yaxis": "y4"
        },
        {
         "marker": {
          "color": "#001bbf"
         },
         "showlegend": false,
         "type": "bar",
         "x": [
          "621000<br>D"
         ],
         "xaxis": "x4",
         "y": [
          24362
         ],
         "yaxis": "y4"
        },
        {
         "marker": {
          "color": "grey"
         },
         "showlegend": false,
         "type": "bar",
         "x": [
          "621000<br>D"
         ],
         "xaxis": "x4",
         "y": [
          627
         ],
         "yaxis": "y4"
        },
        {
         "marker": {
          "color": "#5dbf00"
         },
         "showlegend": false,
         "type": "bar",
         "x": [
          "100000<br>D"
         ],
         "xaxis": "x5",
         "y": [
          56047
         ],
         "yaxis": "y5"
        },
        {
         "marker": {
          "color": "grey"
         },
         "showlegend": false,
         "type": "bar",
         "x": [
          "100000<br>D"
         ],
         "xaxis": "x5",
         "y": [
          11733
         ],
         "yaxis": "y5"
        },
        {
         "marker": {
          "color": "#37bf00"
         },
         "showlegend": false,
         "type": "bar",
         "x": [
          "620000<br>D"
         ],
         "xaxis": "x5",
         "y": [
          147033
         ],
         "yaxis": "y5"
        },
        {
         "marker": {
          "color": "grey"
         },
         "showlegend": false,
         "type": "bar",
         "x": [
          "620000<br>D"
         ],
         "xaxis": "x5",
         "y": [
          18729
         ],
         "yaxis": "y5"
        },
        {
         "marker": {
          "color": "#001bbf"
         },
         "showlegend": false,
         "type": "bar",
         "x": [
          "621000<br>D"
         ],
         "xaxis": "x5",
         "y": [
          24419
         ],
         "yaxis": "y5"
        },
        {
         "marker": {
          "color": "grey"
         },
         "showlegend": false,
         "type": "bar",
         "x": [
          "621000<br>D"
         ],
         "xaxis": "x5",
         "y": [
          498
         ],
         "yaxis": "y5"
        },
        {
         "marker": {
          "color": "#5dbf00"
         },
         "showlegend": false,
         "type": "bar",
         "x": [
          "100000<br>D"
         ],
         "xaxis": "x6",
         "y": [
          63782
         ],
         "yaxis": "y6"
        },
        {
         "marker": {
          "color": "grey"
         },
         "showlegend": false,
         "type": "bar",
         "x": [
          "100000<br>D"
         ],
         "xaxis": "x6",
         "y": [
          12649
         ],
         "yaxis": "y6"
        },
        {
         "marker": {
          "color": "#37bf00"
         },
         "showlegend": false,
         "type": "bar",
         "x": [
          "620000<br>D"
         ],
         "xaxis": "x6",
         "y": [
          159032
         ],
         "yaxis": "y6"
        },
        {
         "marker": {
          "color": "grey"
         },
         "showlegend": false,
         "type": "bar",
         "x": [
          "620000<br>D"
         ],
         "xaxis": "x6",
         "y": [
          20232
         ],
         "yaxis": "y6"
        },
        {
         "marker": {
          "color": "#001bbf"
         },
         "showlegend": false,
         "type": "bar",
         "x": [
          "621000<br>D"
         ],
         "xaxis": "x6",
         "y": [
          34168
         ],
         "yaxis": "y6"
        },
        {
         "marker": {
          "color": "grey"
         },
         "showlegend": false,
         "type": "bar",
         "x": [
          "621000<br>D"
         ],
         "xaxis": "x6",
         "y": [
          553
         ],
         "yaxis": "y6"
        },
        {
         "marker": {
          "color": "#5dbf00"
         },
         "showlegend": false,
         "type": "bar",
         "x": [
          "100000<br>D"
         ],
         "xaxis": "x7",
         "y": [
          69881
         ],
         "yaxis": "y7"
        },
        {
         "marker": {
          "color": "grey"
         },
         "showlegend": false,
         "type": "bar",
         "x": [
          "100000<br>D"
         ],
         "xaxis": "x7",
         "y": [
          12265
         ],
         "yaxis": "y7"
        },
        {
         "marker": {
          "color": "#37bf00"
         },
         "showlegend": false,
         "type": "bar",
         "x": [
          "620000<br>D"
         ],
         "xaxis": "x7",
         "y": [
          159620
         ],
         "yaxis": "y7"
        },
        {
         "marker": {
          "color": "grey"
         },
         "showlegend": false,
         "type": "bar",
         "x": [
          "620000<br>D"
         ],
         "xaxis": "x7",
         "y": [
          18109
         ],
         "yaxis": "y7"
        },
        {
         "marker": {
          "color": "#001bbf"
         },
         "showlegend": false,
         "type": "bar",
         "x": [
          "621000<br>D"
         ],
         "xaxis": "x7",
         "y": [
          36959
         ],
         "yaxis": "y7"
        },
        {
         "marker": {
          "color": "grey"
         },
         "showlegend": false,
         "type": "bar",
         "x": [
          "621000<br>D"
         ],
         "xaxis": "x7",
         "y": [
          742
         ],
         "yaxis": "y7"
        },
        {
         "marker": {
          "color": "#5dbf00"
         },
         "showlegend": false,
         "type": "bar",
         "x": [
          "100000<br>D"
         ],
         "xaxis": "x8",
         "y": [
          81630
         ],
         "yaxis": "y8"
        },
        {
         "marker": {
          "color": "grey"
         },
         "showlegend": false,
         "type": "bar",
         "x": [
          "100000<br>D"
         ],
         "xaxis": "x8",
         "y": [
          13974
         ],
         "yaxis": "y8"
        },
        {
         "marker": {
          "color": "#37bf00"
         },
         "showlegend": false,
         "type": "bar",
         "x": [
          "620000<br>D"
         ],
         "xaxis": "x8",
         "y": [
          169427
         ],
         "yaxis": "y8"
        },
        {
         "marker": {
          "color": "grey"
         },
         "showlegend": false,
         "type": "bar",
         "x": [
          "620000<br>D"
         ],
         "xaxis": "x8",
         "y": [
          19736
         ],
         "yaxis": "y8"
        },
        {
         "marker": {
          "color": "#001bbf"
         },
         "showlegend": false,
         "type": "bar",
         "x": [
          "621000<br>D"
         ],
         "xaxis": "x8",
         "y": [
          37778
         ],
         "yaxis": "y8"
        },
        {
         "marker": {
          "color": "grey"
         },
         "showlegend": false,
         "type": "bar",
         "x": [
          "621000<br>D"
         ],
         "xaxis": "x8",
         "y": [
          737
         ],
         "yaxis": "y8"
        },
        {
         "marker": {
          "color": "#5dbf00"
         },
         "showlegend": false,
         "type": "bar",
         "x": [
          "100000<br>D"
         ],
         "xaxis": "x9",
         "y": [
          106656
         ],
         "yaxis": "y9"
        },
        {
         "marker": {
          "color": "grey"
         },
         "showlegend": false,
         "type": "bar",
         "x": [
          "100000<br>D"
         ],
         "xaxis": "x9",
         "y": [
          16294
         ],
         "yaxis": "y9"
        },
        {
         "marker": {
          "color": "#37bf00"
         },
         "showlegend": false,
         "type": "bar",
         "x": [
          "620000<br>D"
         ],
         "xaxis": "x9",
         "y": [
          158326
         ],
         "yaxis": "y9"
        },
        {
         "marker": {
          "color": "grey"
         },
         "showlegend": false,
         "type": "bar",
         "x": [
          "620000<br>D"
         ],
         "xaxis": "x9",
         "y": [
          19321
         ],
         "yaxis": "y9"
        },
        {
         "marker": {
          "color": "#001bbf"
         },
         "showlegend": false,
         "type": "bar",
         "x": [
          "621000<br>D"
         ],
         "xaxis": "x9",
         "y": [
          39239
         ],
         "yaxis": "y9"
        },
        {
         "marker": {
          "color": "grey"
         },
         "showlegend": false,
         "type": "bar",
         "x": [
          "621000<br>D"
         ],
         "xaxis": "x9",
         "y": [
          918
         ],
         "yaxis": "y9"
        },
        {
         "marker": {
          "color": "#5dbf00"
         },
         "showlegend": false,
         "type": "bar",
         "x": [
          "100000<br>D"
         ],
         "xaxis": "x10",
         "y": [
          118196
         ],
         "yaxis": "y10"
        },
        {
         "marker": {
          "color": "grey"
         },
         "showlegend": false,
         "type": "bar",
         "x": [
          "100000<br>D"
         ],
         "xaxis": "x10",
         "y": [
          19820
         ],
         "yaxis": "y10"
        },
        {
         "marker": {
          "color": "#37bf00"
         },
         "showlegend": false,
         "type": "bar",
         "x": [
          "620000<br>D"
         ],
         "xaxis": "x10",
         "y": [
          162785
         ],
         "yaxis": "y10"
        },
        {
         "marker": {
          "color": "grey"
         },
         "showlegend": false,
         "type": "bar",
         "x": [
          "620000<br>D"
         ],
         "xaxis": "x10",
         "y": [
          21962
         ],
         "yaxis": "y10"
        },
        {
         "marker": {
          "color": "#001bbf"
         },
         "showlegend": false,
         "type": "bar",
         "x": [
          "621000<br>D"
         ],
         "xaxis": "x10",
         "y": [
          42013
         ],
         "yaxis": "y10"
        },
        {
         "marker": {
          "color": "grey"
         },
         "showlegend": false,
         "type": "bar",
         "x": [
          "621000<br>D"
         ],
         "xaxis": "x10",
         "y": [
          918
         ],
         "yaxis": "y10"
        }
       ],
       "layout": {
        "annotations": [
         {
          "font": {
           "size": 16
          },
          "showarrow": false,
          "text": "2013",
          "x": 0.04775,
          "xanchor": "center",
          "xref": "paper",
          "y": 1,
          "yanchor": "bottom",
          "yref": "paper"
         },
         {
          "font": {
           "size": 16
          },
          "showarrow": false,
          "text": "2014",
          "x": 0.14825,
          "xanchor": "center",
          "xref": "paper",
          "y": 1,
          "yanchor": "bottom",
          "yref": "paper"
         },
         {
          "font": {
           "size": 16
          },
          "showarrow": false,
          "text": "2015",
          "x": 0.24875,
          "xanchor": "center",
          "xref": "paper",
          "y": 1,
          "yanchor": "bottom",
          "yref": "paper"
         },
         {
          "font": {
           "size": 16
          },
          "showarrow": false,
          "text": "2016",
          "x": 0.34925,
          "xanchor": "center",
          "xref": "paper",
          "y": 1,
          "yanchor": "bottom",
          "yref": "paper"
         },
         {
          "font": {
           "size": 16
          },
          "showarrow": false,
          "text": "2017",
          "x": 0.44975000000000004,
          "xanchor": "center",
          "xref": "paper",
          "y": 1,
          "yanchor": "bottom",
          "yref": "paper"
         },
         {
          "font": {
           "size": 16
          },
          "showarrow": false,
          "text": "2018",
          "x": 0.5502500000000001,
          "xanchor": "center",
          "xref": "paper",
          "y": 1,
          "yanchor": "bottom",
          "yref": "paper"
         },
         {
          "font": {
           "size": 16
          },
          "showarrow": false,
          "text": "2019",
          "x": 0.6507500000000002,
          "xanchor": "center",
          "xref": "paper",
          "y": 1,
          "yanchor": "bottom",
          "yref": "paper"
         },
         {
          "font": {
           "size": 16
          },
          "showarrow": false,
          "text": "2020",
          "x": 0.7512500000000002,
          "xanchor": "center",
          "xref": "paper",
          "y": 1,
          "yanchor": "bottom",
          "yref": "paper"
         },
         {
          "font": {
           "size": 16
          },
          "showarrow": false,
          "text": "2021",
          "x": 0.8517500000000002,
          "xanchor": "center",
          "xref": "paper",
          "y": 1,
          "yanchor": "bottom",
          "yref": "paper"
         },
         {
          "font": {
           "size": 16
          },
          "showarrow": false,
          "text": "2022",
          "x": 0.9522500000000003,
          "xanchor": "center",
          "xref": "paper",
          "y": 1,
          "yanchor": "bottom",
          "yref": "paper"
         }
        ],
        "bargap": 0,
        "barmode": "stack",
        "margin": {
         "t": 25
        },
        "paper_bgcolor": "#eeeeee",
        "plot_bgcolor": "rgba(0,0,0,0)",
        "template": {
         "data": {
          "bar": [
           {
            "error_x": {
             "color": "#2a3f5f"
            },
            "error_y": {
             "color": "#2a3f5f"
            },
            "marker": {
             "line": {
              "color": "#E5ECF6",
              "width": 0.5
             },
             "pattern": {
              "fillmode": "overlay",
              "size": 10,
              "solidity": 0.2
             }
            },
            "type": "bar"
           }
          ],
          "barpolar": [
           {
            "marker": {
             "line": {
              "color": "#E5ECF6",
              "width": 0.5
             },
             "pattern": {
              "fillmode": "overlay",
              "size": 10,
              "solidity": 0.2
             }
            },
            "type": "barpolar"
           }
          ],
          "carpet": [
           {
            "aaxis": {
             "endlinecolor": "#2a3f5f",
             "gridcolor": "white",
             "linecolor": "white",
             "minorgridcolor": "white",
             "startlinecolor": "#2a3f5f"
            },
            "baxis": {
             "endlinecolor": "#2a3f5f",
             "gridcolor": "white",
             "linecolor": "white",
             "minorgridcolor": "white",
             "startlinecolor": "#2a3f5f"
            },
            "type": "carpet"
           }
          ],
          "choropleth": [
           {
            "colorbar": {
             "outlinewidth": 0,
             "ticks": ""
            },
            "type": "choropleth"
           }
          ],
          "contour": [
           {
            "colorbar": {
             "outlinewidth": 0,
             "ticks": ""
            },
            "colorscale": [
             [
              0,
              "#0d0887"
             ],
             [
              0.1111111111111111,
              "#46039f"
             ],
             [
              0.2222222222222222,
              "#7201a8"
             ],
             [
              0.3333333333333333,
              "#9c179e"
             ],
             [
              0.4444444444444444,
              "#bd3786"
             ],
             [
              0.5555555555555556,
              "#d8576b"
             ],
             [
              0.6666666666666666,
              "#ed7953"
             ],
             [
              0.7777777777777778,
              "#fb9f3a"
             ],
             [
              0.8888888888888888,
              "#fdca26"
             ],
             [
              1,
              "#f0f921"
             ]
            ],
            "type": "contour"
           }
          ],
          "contourcarpet": [
           {
            "colorbar": {
             "outlinewidth": 0,
             "ticks": ""
            },
            "type": "contourcarpet"
           }
          ],
          "heatmap": [
           {
            "colorbar": {
             "outlinewidth": 0,
             "ticks": ""
            },
            "colorscale": [
             [
              0,
              "#0d0887"
             ],
             [
              0.1111111111111111,
              "#46039f"
             ],
             [
              0.2222222222222222,
              "#7201a8"
             ],
             [
              0.3333333333333333,
              "#9c179e"
             ],
             [
              0.4444444444444444,
              "#bd3786"
             ],
             [
              0.5555555555555556,
              "#d8576b"
             ],
             [
              0.6666666666666666,
              "#ed7953"
             ],
             [
              0.7777777777777778,
              "#fb9f3a"
             ],
             [
              0.8888888888888888,
              "#fdca26"
             ],
             [
              1,
              "#f0f921"
             ]
            ],
            "type": "heatmap"
           }
          ],
          "heatmapgl": [
           {
            "colorbar": {
             "outlinewidth": 0,
             "ticks": ""
            },
            "colorscale": [
             [
              0,
              "#0d0887"
             ],
             [
              0.1111111111111111,
              "#46039f"
             ],
             [
              0.2222222222222222,
              "#7201a8"
             ],
             [
              0.3333333333333333,
              "#9c179e"
             ],
             [
              0.4444444444444444,
              "#bd3786"
             ],
             [
              0.5555555555555556,
              "#d8576b"
             ],
             [
              0.6666666666666666,
              "#ed7953"
             ],
             [
              0.7777777777777778,
              "#fb9f3a"
             ],
             [
              0.8888888888888888,
              "#fdca26"
             ],
             [
              1,
              "#f0f921"
             ]
            ],
            "type": "heatmapgl"
           }
          ],
          "histogram": [
           {
            "marker": {
             "pattern": {
              "fillmode": "overlay",
              "size": 10,
              "solidity": 0.2
             }
            },
            "type": "histogram"
           }
          ],
          "histogram2d": [
           {
            "colorbar": {
             "outlinewidth": 0,
             "ticks": ""
            },
            "colorscale": [
             [
              0,
              "#0d0887"
             ],
             [
              0.1111111111111111,
              "#46039f"
             ],
             [
              0.2222222222222222,
              "#7201a8"
             ],
             [
              0.3333333333333333,
              "#9c179e"
             ],
             [
              0.4444444444444444,
              "#bd3786"
             ],
             [
              0.5555555555555556,
              "#d8576b"
             ],
             [
              0.6666666666666666,
              "#ed7953"
             ],
             [
              0.7777777777777778,
              "#fb9f3a"
             ],
             [
              0.8888888888888888,
              "#fdca26"
             ],
             [
              1,
              "#f0f921"
             ]
            ],
            "type": "histogram2d"
           }
          ],
          "histogram2dcontour": [
           {
            "colorbar": {
             "outlinewidth": 0,
             "ticks": ""
            },
            "colorscale": [
             [
              0,
              "#0d0887"
             ],
             [
              0.1111111111111111,
              "#46039f"
             ],
             [
              0.2222222222222222,
              "#7201a8"
             ],
             [
              0.3333333333333333,
              "#9c179e"
             ],
             [
              0.4444444444444444,
              "#bd3786"
             ],
             [
              0.5555555555555556,
              "#d8576b"
             ],
             [
              0.6666666666666666,
              "#ed7953"
             ],
             [
              0.7777777777777778,
              "#fb9f3a"
             ],
             [
              0.8888888888888888,
              "#fdca26"
             ],
             [
              1,
              "#f0f921"
             ]
            ],
            "type": "histogram2dcontour"
           }
          ],
          "mesh3d": [
           {
            "colorbar": {
             "outlinewidth": 0,
             "ticks": ""
            },
            "type": "mesh3d"
           }
          ],
          "parcoords": [
           {
            "line": {
             "colorbar": {
              "outlinewidth": 0,
              "ticks": ""
             }
            },
            "type": "parcoords"
           }
          ],
          "pie": [
           {
            "automargin": true,
            "type": "pie"
           }
          ],
          "scatter": [
           {
            "fillpattern": {
             "fillmode": "overlay",
             "size": 10,
             "solidity": 0.2
            },
            "type": "scatter"
           }
          ],
          "scatter3d": [
           {
            "line": {
             "colorbar": {
              "outlinewidth": 0,
              "ticks": ""
             }
            },
            "marker": {
             "colorbar": {
              "outlinewidth": 0,
              "ticks": ""
             }
            },
            "type": "scatter3d"
           }
          ],
          "scattercarpet": [
           {
            "marker": {
             "colorbar": {
              "outlinewidth": 0,
              "ticks": ""
             }
            },
            "type": "scattercarpet"
           }
          ],
          "scattergeo": [
           {
            "marker": {
             "colorbar": {
              "outlinewidth": 0,
              "ticks": ""
             }
            },
            "type": "scattergeo"
           }
          ],
          "scattergl": [
           {
            "marker": {
             "colorbar": {
              "outlinewidth": 0,
              "ticks": ""
             }
            },
            "type": "scattergl"
           }
          ],
          "scattermapbox": [
           {
            "marker": {
             "colorbar": {
              "outlinewidth": 0,
              "ticks": ""
             }
            },
            "type": "scattermapbox"
           }
          ],
          "scatterpolar": [
           {
            "marker": {
             "colorbar": {
              "outlinewidth": 0,
              "ticks": ""
             }
            },
            "type": "scatterpolar"
           }
          ],
          "scatterpolargl": [
           {
            "marker": {
             "colorbar": {
              "outlinewidth": 0,
              "ticks": ""
             }
            },
            "type": "scatterpolargl"
           }
          ],
          "scatterternary": [
           {
            "marker": {
             "colorbar": {
              "outlinewidth": 0,
              "ticks": ""
             }
            },
            "type": "scatterternary"
           }
          ],
          "surface": [
           {
            "colorbar": {
             "outlinewidth": 0,
             "ticks": ""
            },
            "colorscale": [
             [
              0,
              "#0d0887"
             ],
             [
              0.1111111111111111,
              "#46039f"
             ],
             [
              0.2222222222222222,
              "#7201a8"
             ],
             [
              0.3333333333333333,
              "#9c179e"
             ],
             [
              0.4444444444444444,
              "#bd3786"
             ],
             [
              0.5555555555555556,
              "#d8576b"
             ],
             [
              0.6666666666666666,
              "#ed7953"
             ],
             [
              0.7777777777777778,
              "#fb9f3a"
             ],
             [
              0.8888888888888888,
              "#fdca26"
             ],
             [
              1,
              "#f0f921"
             ]
            ],
            "type": "surface"
           }
          ],
          "table": [
           {
            "cells": {
             "fill": {
              "color": "#EBF0F8"
             },
             "line": {
              "color": "white"
             }
            },
            "header": {
             "fill": {
              "color": "#C8D4E3"
             },
             "line": {
              "color": "white"
             }
            },
            "type": "table"
           }
          ]
         },
         "layout": {
          "annotationdefaults": {
           "arrowcolor": "#2a3f5f",
           "arrowhead": 0,
           "arrowwidth": 1
          },
          "autotypenumbers": "strict",
          "coloraxis": {
           "colorbar": {
            "outlinewidth": 0,
            "ticks": ""
           }
          },
          "colorscale": {
           "diverging": [
            [
             0,
             "#8e0152"
            ],
            [
             0.1,
             "#c51b7d"
            ],
            [
             0.2,
             "#de77ae"
            ],
            [
             0.3,
             "#f1b6da"
            ],
            [
             0.4,
             "#fde0ef"
            ],
            [
             0.5,
             "#f7f7f7"
            ],
            [
             0.6,
             "#e6f5d0"
            ],
            [
             0.7,
             "#b8e186"
            ],
            [
             0.8,
             "#7fbc41"
            ],
            [
             0.9,
             "#4d9221"
            ],
            [
             1,
             "#276419"
            ]
           ],
           "sequential": [
            [
             0,
             "#0d0887"
            ],
            [
             0.1111111111111111,
             "#46039f"
            ],
            [
             0.2222222222222222,
             "#7201a8"
            ],
            [
             0.3333333333333333,
             "#9c179e"
            ],
            [
             0.4444444444444444,
             "#bd3786"
            ],
            [
             0.5555555555555556,
             "#d8576b"
            ],
            [
             0.6666666666666666,
             "#ed7953"
            ],
            [
             0.7777777777777778,
             "#fb9f3a"
            ],
            [
             0.8888888888888888,
             "#fdca26"
            ],
            [
             1,
             "#f0f921"
            ]
           ],
           "sequentialminus": [
            [
             0,
             "#0d0887"
            ],
            [
             0.1111111111111111,
             "#46039f"
            ],
            [
             0.2222222222222222,
             "#7201a8"
            ],
            [
             0.3333333333333333,
             "#9c179e"
            ],
            [
             0.4444444444444444,
             "#bd3786"
            ],
            [
             0.5555555555555556,
             "#d8576b"
            ],
            [
             0.6666666666666666,
             "#ed7953"
            ],
            [
             0.7777777777777778,
             "#fb9f3a"
            ],
            [
             0.8888888888888888,
             "#fdca26"
            ],
            [
             1,
             "#f0f921"
            ]
           ]
          },
          "colorway": [
           "#636efa",
           "#EF553B",
           "#00cc96",
           "#ab63fa",
           "#FFA15A",
           "#19d3f3",
           "#FF6692",
           "#B6E880",
           "#FF97FF",
           "#FECB52"
          ],
          "font": {
           "color": "#2a3f5f"
          },
          "geo": {
           "bgcolor": "white",
           "lakecolor": "white",
           "landcolor": "#E5ECF6",
           "showlakes": true,
           "showland": true,
           "subunitcolor": "white"
          },
          "hoverlabel": {
           "align": "left"
          },
          "hovermode": "closest",
          "mapbox": {
           "style": "light"
          },
          "paper_bgcolor": "white",
          "plot_bgcolor": "#E5ECF6",
          "polar": {
           "angularaxis": {
            "gridcolor": "white",
            "linecolor": "white",
            "ticks": ""
           },
           "bgcolor": "#E5ECF6",
           "radialaxis": {
            "gridcolor": "white",
            "linecolor": "white",
            "ticks": ""
           }
          },
          "scene": {
           "xaxis": {
            "backgroundcolor": "#E5ECF6",
            "gridcolor": "white",
            "gridwidth": 2,
            "linecolor": "white",
            "showbackground": true,
            "ticks": "",
            "zerolinecolor": "white"
           },
           "yaxis": {
            "backgroundcolor": "#E5ECF6",
            "gridcolor": "white",
            "gridwidth": 2,
            "linecolor": "white",
            "showbackground": true,
            "ticks": "",
            "zerolinecolor": "white"
           },
           "zaxis": {
            "backgroundcolor": "#E5ECF6",
            "gridcolor": "white",
            "gridwidth": 2,
            "linecolor": "white",
            "showbackground": true,
            "ticks": "",
            "zerolinecolor": "white"
           }
          },
          "shapedefaults": {
           "line": {
            "color": "#2a3f5f"
           }
          },
          "ternary": {
           "aaxis": {
            "gridcolor": "white",
            "linecolor": "white",
            "ticks": ""
           },
           "baxis": {
            "gridcolor": "white",
            "linecolor": "white",
            "ticks": ""
           },
           "bgcolor": "#E5ECF6",
           "caxis": {
            "gridcolor": "white",
            "linecolor": "white",
            "ticks": ""
           }
          },
          "title": {
           "x": 0.05
          },
          "xaxis": {
           "automargin": true,
           "gridcolor": "white",
           "linecolor": "white",
           "ticks": "",
           "title": {
            "standoff": 15
           },
           "zerolinecolor": "white",
           "zerolinewidth": 2
          },
          "yaxis": {
           "automargin": true,
           "gridcolor": "white",
           "linecolor": "white",
           "ticks": "",
           "title": {
            "standoff": 15
           },
           "zerolinecolor": "white",
           "zerolinewidth": 2
          }
         }
        },
        "xaxis": {
         "anchor": "y",
         "domain": [
          0,
          0.0955
         ]
        },
        "xaxis10": {
         "anchor": "y10",
         "domain": [
          0.9045000000000002,
          1
         ]
        },
        "xaxis2": {
         "anchor": "y2",
         "domain": [
          0.1005,
          0.196
         ]
        },
        "xaxis3": {
         "anchor": "y3",
         "domain": [
          0.201,
          0.2965
         ]
        },
        "xaxis4": {
         "anchor": "y4",
         "domain": [
          0.3015,
          0.397
         ]
        },
        "xaxis5": {
         "anchor": "y5",
         "domain": [
          0.402,
          0.49750000000000005
         ]
        },
        "xaxis6": {
         "anchor": "y6",
         "domain": [
          0.5025000000000001,
          0.5980000000000001
         ]
        },
        "xaxis7": {
         "anchor": "y7",
         "domain": [
          0.6030000000000001,
          0.6985000000000001
         ]
        },
        "xaxis8": {
         "anchor": "y8",
         "domain": [
          0.7035000000000001,
          0.7990000000000002
         ]
        },
        "xaxis9": {
         "anchor": "y9",
         "domain": [
          0.8040000000000002,
          0.8995000000000002
         ]
        },
        "yaxis": {
         "anchor": "x",
         "domain": [
          0,
          1
         ],
         "gridcolor": "rgba(.5,.5,.5,.5)"
        },
        "yaxis10": {
         "anchor": "x10",
         "domain": [
          0,
          1
         ],
         "gridcolor": "rgba(.5,.5,.5,.5)",
         "matches": "y",
         "showticklabels": false
        },
        "yaxis2": {
         "anchor": "x2",
         "domain": [
          0,
          1
         ],
         "gridcolor": "rgba(.5,.5,.5,.5)",
         "matches": "y",
         "showticklabels": false
        },
        "yaxis3": {
         "anchor": "x3",
         "domain": [
          0,
          1
         ],
         "gridcolor": "rgba(.5,.5,.5,.5)",
         "matches": "y",
         "showticklabels": false
        },
        "yaxis4": {
         "anchor": "x4",
         "domain": [
          0,
          1
         ],
         "gridcolor": "rgba(.5,.5,.5,.5)",
         "matches": "y",
         "showticklabels": false
        },
        "yaxis5": {
         "anchor": "x5",
         "domain": [
          0,
          1
         ],
         "gridcolor": "rgba(.5,.5,.5,.5)",
         "matches": "y",
         "showticklabels": false
        },
        "yaxis6": {
         "anchor": "x6",
         "domain": [
          0,
          1
         ],
         "gridcolor": "rgba(.5,.5,.5,.5)",
         "matches": "y",
         "showticklabels": false
        },
        "yaxis7": {
         "anchor": "x7",
         "domain": [
          0,
          1
         ],
         "gridcolor": "rgba(.5,.5,.5,.5)",
         "matches": "y",
         "showticklabels": false
        },
        "yaxis8": {
         "anchor": "x8",
         "domain": [
          0,
          1
         ],
         "gridcolor": "rgba(.5,.5,.5,.5)",
         "matches": "y",
         "showticklabels": false
        },
        "yaxis9": {
         "anchor": "x9",
         "domain": [
          0,
          1
         ],
         "gridcolor": "rgba(.5,.5,.5,.5)",
         "matches": "y",
         "showticklabels": false
        }
       }
      }
     },
     "metadata": {},
     "output_type": "display_data"
    }
   ],
   "source": [
    "fig = get_timeseries(df)\n",
    "fig.show()"
   ]
  }
 ],
 "metadata": {
  "kernelspec": {
   "display_name": "venv",
   "language": "python",
   "name": "python3"
  },
  "language_info": {
   "codemirror_mode": {
    "name": "ipython",
    "version": 3
   },
   "file_extension": ".py",
   "mimetype": "text/x-python",
   "name": "python",
   "nbconvert_exporter": "python",
   "pygments_lexer": "ipython3",
   "version": "3.10.12"
  }
 },
 "nbformat": 4,
 "nbformat_minor": 2
}
